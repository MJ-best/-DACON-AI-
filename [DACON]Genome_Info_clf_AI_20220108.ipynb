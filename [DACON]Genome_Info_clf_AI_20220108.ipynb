{
  "nbformat": 4,
  "nbformat_minor": 0,
  "metadata": {
    "colab": {
      "provenance": [],
      "collapsed_sections": [
        "q56NtoFYgdpJ"
      ],
      "mount_file_id": "1I-EFRZRIWhprjoKpiRrditNY834mPwpG",
      "authorship_tag": "ABX9TyPZ4KqNreMS2EIDbatUC8/I",
      "include_colab_link": true
    },
    "kernelspec": {
      "name": "python3",
      "display_name": "Python 3"
    },
    "language_info": {
      "name": "python"
    }
  },
  "cells": [
    {
      "cell_type": "markdown",
      "metadata": {
        "id": "view-in-github",
        "colab_type": "text"
      },
      "source": [
        "<a href=\"https://colab.research.google.com/github/MJ-best/-DACON-AI-/blob/main/%5BDACON%5DGenome_Info_clf_AI_20220108.ipynb\" target=\"_parent\"><img src=\"https://colab.research.google.com/assets/colab-badge.svg\" alt=\"Open In Colab\"/></a>"
      ]
    },
    {
      "cell_type": "markdown",
      "source": [
        "# [DACON] 유전체 정보 품종 분류 AI 경진대회\n",
        "- https://dacon.io/competitions/official/236035/overview/description\n",
        "- 개체와 SNP 정보를 이용하여 품종 분류 AI 모델 개발\n",
        "- 유전체 염기서열에서 획득한 유전체 변이 정보인 Single Nucleotide Polymorphism 정보는 특정 개체 및 특정 품종에 따라 다른 변이 양상을 나타낼 수 있기 때문에 동일개체를 확인하거나, 동일 품종을 구분하는데 활용이 가능합니다. 따라서 이번 경진대회에서는 개체 정보와 SNP 정보를 이용하여 A, B, C 품종을 분류하는 최고의 품종구분 정확도를 획득하는 것이 목표입니다.\n",
        "\n",
        "- 농축수산 현장에서는 유전체 변이정보를 이용해서 품종을 구분하는 연구를 통해 품종의 다양성 혹은 품종 부정유통을 방지하기 위해 많이 활용하게 됩니다.\n",
        "\n",
        "- SNP란 DNA 내 A, T, G, C와 같은 염기서열의 차이로서 개체 간 염기서열의 차이 정도를 파악하여 분자적인 수준에서의 명확한 품종 조성 확인을 가능케 한다\n",
        "\n",
        "- 많은 SNP 정보를 통해 분류하는 것보다, 보다 **더 적은 SNP 정보로 높은 분류 성능**을 내는 것이 중요합니다.\n",
        "\n",
        "- 따라서 이번 경진대회에서는 개체 정보와 사전에 구성된 **15개의 SNP 정보를 바탕으로 품종 분류 모델을 개발**해야 합니다.\n",
        "\n"
      ],
      "metadata": {
        "id": "XDy8Z9HfBu3B"
      }
    },
    {
      "cell_type": "code",
      "source": [
        "import datetime\n",
        "from pytz import timezone\n",
        "\n",
        "print(\"last update : \",datetime.datetime.now(timezone('Asia/Seoul')))"
      ],
      "metadata": {
        "colab": {
          "base_uri": "https://localhost:8080/"
        },
        "id": "DO_qtemjB-o9",
        "outputId": "5a3684e4-78ae-4f3e-e4c4-b9a20d2279c7"
      },
      "execution_count": 1,
      "outputs": [
        {
          "output_type": "stream",
          "name": "stdout",
          "text": [
            "last update :  2023-01-08 00:46:34.828516+09:00\n"
          ]
        }
      ]
    },
    {
      "cell_type": "code",
      "execution_count": 2,
      "metadata": {
        "id": "hrzsvg4MAJ7w"
      },
      "outputs": [],
      "source": [
        "import io\n",
        "import os\n",
        "import numpy as np\n",
        "import pandas as pd\n",
        "import math\n",
        "import matplotlib.pyplot as plt\n",
        "\n",
        "from sklearn import preprocessing\n",
        "\n",
        "from sklearn.tree import DecisionTreeClassifier\n",
        "from sklearn.ensemble import RandomForestClassifier\n",
        "from sklearn.linear_model import LogisticRegression\n",
        "\n",
        "from sklearn.model_selection import train_test_split\n",
        "from sklearn.metrics import accuracy_score, precision_score, recall_score, confusion_matrix, f1_score\n",
        "from sklearn.model_selection import GridSearchCV, cross_val_score, cross_validate\n",
        "\n",
        "import tensorflow as tf"
      ]
    },
    {
      "cell_type": "markdown",
      "source": [
        "## 데이터준비"
      ],
      "metadata": {
        "id": "FWyHyZc4ejZN"
      }
    },
    {
      "cell_type": "code",
      "source": [
        "from google.colab import drive\n",
        "drive.mount('/content/drive/')"
      ],
      "metadata": {
        "colab": {
          "base_uri": "https://localhost:8080/"
        },
        "id": "A6a9bGCpA62-",
        "outputId": "9b28a863-f12c-4acf-f217-5a0cba6ebbd5"
      },
      "execution_count": 3,
      "outputs": [
        {
          "output_type": "stream",
          "name": "stdout",
          "text": [
            "Drive already mounted at /content/drive/; to attempt to forcibly remount, call drive.mount(\"/content/drive/\", force_remount=True).\n"
          ]
        }
      ]
    },
    {
      "cell_type": "code",
      "source": [
        "path = '/content/drive/MyDrive/Colab Notebooks/[DACON]유전체정보_품좀_분류_AI_경진대회/data'\n",
        "os.chdir(path)\n",
        "df = pd.read_csv(\"train.csv\", encoding='utf-8-sig', error_bad_lines=False)"
      ],
      "metadata": {
        "id": "odhpBGm-BIEo",
        "colab": {
          "base_uri": "https://localhost:8080/"
        },
        "outputId": "c799b8f1-5883-4451-fe99-ef54416cd389"
      },
      "execution_count": 4,
      "outputs": [
        {
          "output_type": "stream",
          "name": "stderr",
          "text": [
            "/usr/local/lib/python3.8/dist-packages/IPython/core/interactiveshell.py:3326: FutureWarning: The error_bad_lines argument has been deprecated and will be removed in a future version.\n",
            "\n",
            "\n",
            "  exec(code_obj, self.user_global_ns, self.user_ns)\n"
          ]
        }
      ]
    },
    {
      "cell_type": "code",
      "source": [
        "df"
      ],
      "metadata": {
        "colab": {
          "base_uri": "https://localhost:8080/",
          "height": 424
        },
        "id": "KpRqSRHbBQnP",
        "outputId": "13f38aeb-f2e7-45ec-bb34-a65fc6ae6874"
      },
      "execution_count": 5,
      "outputs": [
        {
          "output_type": "execute_result",
          "data": {
            "text/plain": [
              "            id  father  mother  gender  trait SNP_01 SNP_02 SNP_03 SNP_04  \\\n",
              "0    TRAIN_000       0       0       0      2    G G    A G    A A    G A   \n",
              "1    TRAIN_001       0       0       0      2    A G    A G    C A    A A   \n",
              "2    TRAIN_002       0       0       0      2    G G    G G    A A    G A   \n",
              "3    TRAIN_003       0       0       0      1    A A    G G    A A    G A   \n",
              "4    TRAIN_004       0       0       0      2    G G    G G    C C    A A   \n",
              "..         ...     ...     ...     ...    ...    ...    ...    ...    ...   \n",
              "257  TRAIN_257       0       0       0      2    A G    A G    A A    G A   \n",
              "258  TRAIN_258       0       0       0      2    G G    A A    C A    A A   \n",
              "259  TRAIN_259       0       0       0      1    A G    G G    A A    G A   \n",
              "260  TRAIN_260       0       0       0      1    A A    G G    A A    G A   \n",
              "261  TRAIN_261       0       0       0      2    G G    A G    C A    G G   \n",
              "\n",
              "    SNP_05  ... SNP_07 SNP_08 SNP_09 SNP_10 SNP_11 SNP_12 SNP_13 SNP_14  \\\n",
              "0      C A  ...    A A    G G    A A    G G    A G    A A    A A    A A   \n",
              "1      A A  ...    A A    G A    A A    A G    A A    G A    G G    A A   \n",
              "2      C C  ...    A A    G A    G A    A G    A A    A A    A A    A A   \n",
              "3      A A  ...    G G    A A    G G    A G    G G    G G    G G    A A   \n",
              "4      C C  ...    A A    A A    A A    G G    A A    A A    A G    A A   \n",
              "..     ...  ...    ...    ...    ...    ...    ...    ...    ...    ...   \n",
              "257    C C  ...    A A    G A    A A    G G    A G    G A    A A    A A   \n",
              "258    A A  ...    G A    G A    A A    A G    A G    A A    A G    A A   \n",
              "259    A A  ...    G G    G A    G A    A A    G G    G G    G G    C A   \n",
              "260    A A  ...    G G    A A    G A    A G    A G    G A    G G    C A   \n",
              "261    C C  ...    A A    A A    A A    G G    A A    A A    G G    A A   \n",
              "\n",
              "    SNP_15 class  \n",
              "0      A A     B  \n",
              "1      A A     C  \n",
              "2      A A     B  \n",
              "3      G G     A  \n",
              "4      G A     C  \n",
              "..     ...   ...  \n",
              "257    A A     B  \n",
              "258    G A     C  \n",
              "259    G G     A  \n",
              "260    G G     A  \n",
              "261    G A     B  \n",
              "\n",
              "[262 rows x 21 columns]"
            ],
            "text/html": [
              "\n",
              "  <div id=\"df-b7fae9f4-19f2-4e52-b3b3-1583f0235678\">\n",
              "    <div class=\"colab-df-container\">\n",
              "      <div>\n",
              "<style scoped>\n",
              "    .dataframe tbody tr th:only-of-type {\n",
              "        vertical-align: middle;\n",
              "    }\n",
              "\n",
              "    .dataframe tbody tr th {\n",
              "        vertical-align: top;\n",
              "    }\n",
              "\n",
              "    .dataframe thead th {\n",
              "        text-align: right;\n",
              "    }\n",
              "</style>\n",
              "<table border=\"1\" class=\"dataframe\">\n",
              "  <thead>\n",
              "    <tr style=\"text-align: right;\">\n",
              "      <th></th>\n",
              "      <th>id</th>\n",
              "      <th>father</th>\n",
              "      <th>mother</th>\n",
              "      <th>gender</th>\n",
              "      <th>trait</th>\n",
              "      <th>SNP_01</th>\n",
              "      <th>SNP_02</th>\n",
              "      <th>SNP_03</th>\n",
              "      <th>SNP_04</th>\n",
              "      <th>SNP_05</th>\n",
              "      <th>...</th>\n",
              "      <th>SNP_07</th>\n",
              "      <th>SNP_08</th>\n",
              "      <th>SNP_09</th>\n",
              "      <th>SNP_10</th>\n",
              "      <th>SNP_11</th>\n",
              "      <th>SNP_12</th>\n",
              "      <th>SNP_13</th>\n",
              "      <th>SNP_14</th>\n",
              "      <th>SNP_15</th>\n",
              "      <th>class</th>\n",
              "    </tr>\n",
              "  </thead>\n",
              "  <tbody>\n",
              "    <tr>\n",
              "      <th>0</th>\n",
              "      <td>TRAIN_000</td>\n",
              "      <td>0</td>\n",
              "      <td>0</td>\n",
              "      <td>0</td>\n",
              "      <td>2</td>\n",
              "      <td>G G</td>\n",
              "      <td>A G</td>\n",
              "      <td>A A</td>\n",
              "      <td>G A</td>\n",
              "      <td>C A</td>\n",
              "      <td>...</td>\n",
              "      <td>A A</td>\n",
              "      <td>G G</td>\n",
              "      <td>A A</td>\n",
              "      <td>G G</td>\n",
              "      <td>A G</td>\n",
              "      <td>A A</td>\n",
              "      <td>A A</td>\n",
              "      <td>A A</td>\n",
              "      <td>A A</td>\n",
              "      <td>B</td>\n",
              "    </tr>\n",
              "    <tr>\n",
              "      <th>1</th>\n",
              "      <td>TRAIN_001</td>\n",
              "      <td>0</td>\n",
              "      <td>0</td>\n",
              "      <td>0</td>\n",
              "      <td>2</td>\n",
              "      <td>A G</td>\n",
              "      <td>A G</td>\n",
              "      <td>C A</td>\n",
              "      <td>A A</td>\n",
              "      <td>A A</td>\n",
              "      <td>...</td>\n",
              "      <td>A A</td>\n",
              "      <td>G A</td>\n",
              "      <td>A A</td>\n",
              "      <td>A G</td>\n",
              "      <td>A A</td>\n",
              "      <td>G A</td>\n",
              "      <td>G G</td>\n",
              "      <td>A A</td>\n",
              "      <td>A A</td>\n",
              "      <td>C</td>\n",
              "    </tr>\n",
              "    <tr>\n",
              "      <th>2</th>\n",
              "      <td>TRAIN_002</td>\n",
              "      <td>0</td>\n",
              "      <td>0</td>\n",
              "      <td>0</td>\n",
              "      <td>2</td>\n",
              "      <td>G G</td>\n",
              "      <td>G G</td>\n",
              "      <td>A A</td>\n",
              "      <td>G A</td>\n",
              "      <td>C C</td>\n",
              "      <td>...</td>\n",
              "      <td>A A</td>\n",
              "      <td>G A</td>\n",
              "      <td>G A</td>\n",
              "      <td>A G</td>\n",
              "      <td>A A</td>\n",
              "      <td>A A</td>\n",
              "      <td>A A</td>\n",
              "      <td>A A</td>\n",
              "      <td>A A</td>\n",
              "      <td>B</td>\n",
              "    </tr>\n",
              "    <tr>\n",
              "      <th>3</th>\n",
              "      <td>TRAIN_003</td>\n",
              "      <td>0</td>\n",
              "      <td>0</td>\n",
              "      <td>0</td>\n",
              "      <td>1</td>\n",
              "      <td>A A</td>\n",
              "      <td>G G</td>\n",
              "      <td>A A</td>\n",
              "      <td>G A</td>\n",
              "      <td>A A</td>\n",
              "      <td>...</td>\n",
              "      <td>G G</td>\n",
              "      <td>A A</td>\n",
              "      <td>G G</td>\n",
              "      <td>A G</td>\n",
              "      <td>G G</td>\n",
              "      <td>G G</td>\n",
              "      <td>G G</td>\n",
              "      <td>A A</td>\n",
              "      <td>G G</td>\n",
              "      <td>A</td>\n",
              "    </tr>\n",
              "    <tr>\n",
              "      <th>4</th>\n",
              "      <td>TRAIN_004</td>\n",
              "      <td>0</td>\n",
              "      <td>0</td>\n",
              "      <td>0</td>\n",
              "      <td>2</td>\n",
              "      <td>G G</td>\n",
              "      <td>G G</td>\n",
              "      <td>C C</td>\n",
              "      <td>A A</td>\n",
              "      <td>C C</td>\n",
              "      <td>...</td>\n",
              "      <td>A A</td>\n",
              "      <td>A A</td>\n",
              "      <td>A A</td>\n",
              "      <td>G G</td>\n",
              "      <td>A A</td>\n",
              "      <td>A A</td>\n",
              "      <td>A G</td>\n",
              "      <td>A A</td>\n",
              "      <td>G A</td>\n",
              "      <td>C</td>\n",
              "    </tr>\n",
              "    <tr>\n",
              "      <th>...</th>\n",
              "      <td>...</td>\n",
              "      <td>...</td>\n",
              "      <td>...</td>\n",
              "      <td>...</td>\n",
              "      <td>...</td>\n",
              "      <td>...</td>\n",
              "      <td>...</td>\n",
              "      <td>...</td>\n",
              "      <td>...</td>\n",
              "      <td>...</td>\n",
              "      <td>...</td>\n",
              "      <td>...</td>\n",
              "      <td>...</td>\n",
              "      <td>...</td>\n",
              "      <td>...</td>\n",
              "      <td>...</td>\n",
              "      <td>...</td>\n",
              "      <td>...</td>\n",
              "      <td>...</td>\n",
              "      <td>...</td>\n",
              "      <td>...</td>\n",
              "    </tr>\n",
              "    <tr>\n",
              "      <th>257</th>\n",
              "      <td>TRAIN_257</td>\n",
              "      <td>0</td>\n",
              "      <td>0</td>\n",
              "      <td>0</td>\n",
              "      <td>2</td>\n",
              "      <td>A G</td>\n",
              "      <td>A G</td>\n",
              "      <td>A A</td>\n",
              "      <td>G A</td>\n",
              "      <td>C C</td>\n",
              "      <td>...</td>\n",
              "      <td>A A</td>\n",
              "      <td>G A</td>\n",
              "      <td>A A</td>\n",
              "      <td>G G</td>\n",
              "      <td>A G</td>\n",
              "      <td>G A</td>\n",
              "      <td>A A</td>\n",
              "      <td>A A</td>\n",
              "      <td>A A</td>\n",
              "      <td>B</td>\n",
              "    </tr>\n",
              "    <tr>\n",
              "      <th>258</th>\n",
              "      <td>TRAIN_258</td>\n",
              "      <td>0</td>\n",
              "      <td>0</td>\n",
              "      <td>0</td>\n",
              "      <td>2</td>\n",
              "      <td>G G</td>\n",
              "      <td>A A</td>\n",
              "      <td>C A</td>\n",
              "      <td>A A</td>\n",
              "      <td>A A</td>\n",
              "      <td>...</td>\n",
              "      <td>G A</td>\n",
              "      <td>G A</td>\n",
              "      <td>A A</td>\n",
              "      <td>A G</td>\n",
              "      <td>A G</td>\n",
              "      <td>A A</td>\n",
              "      <td>A G</td>\n",
              "      <td>A A</td>\n",
              "      <td>G A</td>\n",
              "      <td>C</td>\n",
              "    </tr>\n",
              "    <tr>\n",
              "      <th>259</th>\n",
              "      <td>TRAIN_259</td>\n",
              "      <td>0</td>\n",
              "      <td>0</td>\n",
              "      <td>0</td>\n",
              "      <td>1</td>\n",
              "      <td>A G</td>\n",
              "      <td>G G</td>\n",
              "      <td>A A</td>\n",
              "      <td>G A</td>\n",
              "      <td>A A</td>\n",
              "      <td>...</td>\n",
              "      <td>G G</td>\n",
              "      <td>G A</td>\n",
              "      <td>G A</td>\n",
              "      <td>A A</td>\n",
              "      <td>G G</td>\n",
              "      <td>G G</td>\n",
              "      <td>G G</td>\n",
              "      <td>C A</td>\n",
              "      <td>G G</td>\n",
              "      <td>A</td>\n",
              "    </tr>\n",
              "    <tr>\n",
              "      <th>260</th>\n",
              "      <td>TRAIN_260</td>\n",
              "      <td>0</td>\n",
              "      <td>0</td>\n",
              "      <td>0</td>\n",
              "      <td>1</td>\n",
              "      <td>A A</td>\n",
              "      <td>G G</td>\n",
              "      <td>A A</td>\n",
              "      <td>G A</td>\n",
              "      <td>A A</td>\n",
              "      <td>...</td>\n",
              "      <td>G G</td>\n",
              "      <td>A A</td>\n",
              "      <td>G A</td>\n",
              "      <td>A G</td>\n",
              "      <td>A G</td>\n",
              "      <td>G A</td>\n",
              "      <td>G G</td>\n",
              "      <td>C A</td>\n",
              "      <td>G G</td>\n",
              "      <td>A</td>\n",
              "    </tr>\n",
              "    <tr>\n",
              "      <th>261</th>\n",
              "      <td>TRAIN_261</td>\n",
              "      <td>0</td>\n",
              "      <td>0</td>\n",
              "      <td>0</td>\n",
              "      <td>2</td>\n",
              "      <td>G G</td>\n",
              "      <td>A G</td>\n",
              "      <td>C A</td>\n",
              "      <td>G G</td>\n",
              "      <td>C C</td>\n",
              "      <td>...</td>\n",
              "      <td>A A</td>\n",
              "      <td>A A</td>\n",
              "      <td>A A</td>\n",
              "      <td>G G</td>\n",
              "      <td>A A</td>\n",
              "      <td>A A</td>\n",
              "      <td>G G</td>\n",
              "      <td>A A</td>\n",
              "      <td>G A</td>\n",
              "      <td>B</td>\n",
              "    </tr>\n",
              "  </tbody>\n",
              "</table>\n",
              "<p>262 rows × 21 columns</p>\n",
              "</div>\n",
              "      <button class=\"colab-df-convert\" onclick=\"convertToInteractive('df-b7fae9f4-19f2-4e52-b3b3-1583f0235678')\"\n",
              "              title=\"Convert this dataframe to an interactive table.\"\n",
              "              style=\"display:none;\">\n",
              "        \n",
              "  <svg xmlns=\"http://www.w3.org/2000/svg\" height=\"24px\"viewBox=\"0 0 24 24\"\n",
              "       width=\"24px\">\n",
              "    <path d=\"M0 0h24v24H0V0z\" fill=\"none\"/>\n",
              "    <path d=\"M18.56 5.44l.94 2.06.94-2.06 2.06-.94-2.06-.94-.94-2.06-.94 2.06-2.06.94zm-11 1L8.5 8.5l.94-2.06 2.06-.94-2.06-.94L8.5 2.5l-.94 2.06-2.06.94zm10 10l.94 2.06.94-2.06 2.06-.94-2.06-.94-.94-2.06-.94 2.06-2.06.94z\"/><path d=\"M17.41 7.96l-1.37-1.37c-.4-.4-.92-.59-1.43-.59-.52 0-1.04.2-1.43.59L10.3 9.45l-7.72 7.72c-.78.78-.78 2.05 0 2.83L4 21.41c.39.39.9.59 1.41.59.51 0 1.02-.2 1.41-.59l7.78-7.78 2.81-2.81c.8-.78.8-2.07 0-2.86zM5.41 20L4 18.59l7.72-7.72 1.47 1.35L5.41 20z\"/>\n",
              "  </svg>\n",
              "      </button>\n",
              "      \n",
              "  <style>\n",
              "    .colab-df-container {\n",
              "      display:flex;\n",
              "      flex-wrap:wrap;\n",
              "      gap: 12px;\n",
              "    }\n",
              "\n",
              "    .colab-df-convert {\n",
              "      background-color: #E8F0FE;\n",
              "      border: none;\n",
              "      border-radius: 50%;\n",
              "      cursor: pointer;\n",
              "      display: none;\n",
              "      fill: #1967D2;\n",
              "      height: 32px;\n",
              "      padding: 0 0 0 0;\n",
              "      width: 32px;\n",
              "    }\n",
              "\n",
              "    .colab-df-convert:hover {\n",
              "      background-color: #E2EBFA;\n",
              "      box-shadow: 0px 1px 2px rgba(60, 64, 67, 0.3), 0px 1px 3px 1px rgba(60, 64, 67, 0.15);\n",
              "      fill: #174EA6;\n",
              "    }\n",
              "\n",
              "    [theme=dark] .colab-df-convert {\n",
              "      background-color: #3B4455;\n",
              "      fill: #D2E3FC;\n",
              "    }\n",
              "\n",
              "    [theme=dark] .colab-df-convert:hover {\n",
              "      background-color: #434B5C;\n",
              "      box-shadow: 0px 1px 3px 1px rgba(0, 0, 0, 0.15);\n",
              "      filter: drop-shadow(0px 1px 2px rgba(0, 0, 0, 0.3));\n",
              "      fill: #FFFFFF;\n",
              "    }\n",
              "  </style>\n",
              "\n",
              "      <script>\n",
              "        const buttonEl =\n",
              "          document.querySelector('#df-b7fae9f4-19f2-4e52-b3b3-1583f0235678 button.colab-df-convert');\n",
              "        buttonEl.style.display =\n",
              "          google.colab.kernel.accessAllowed ? 'block' : 'none';\n",
              "\n",
              "        async function convertToInteractive(key) {\n",
              "          const element = document.querySelector('#df-b7fae9f4-19f2-4e52-b3b3-1583f0235678');\n",
              "          const dataTable =\n",
              "            await google.colab.kernel.invokeFunction('convertToInteractive',\n",
              "                                                     [key], {});\n",
              "          if (!dataTable) return;\n",
              "\n",
              "          const docLinkHtml = 'Like what you see? Visit the ' +\n",
              "            '<a target=\"_blank\" href=https://colab.research.google.com/notebooks/data_table.ipynb>data table notebook</a>'\n",
              "            + ' to learn more about interactive tables.';\n",
              "          element.innerHTML = '';\n",
              "          dataTable['output_type'] = 'display_data';\n",
              "          await google.colab.output.renderOutput(dataTable, element);\n",
              "          const docLink = document.createElement('div');\n",
              "          docLink.innerHTML = docLinkHtml;\n",
              "          element.appendChild(docLink);\n",
              "        }\n",
              "      </script>\n",
              "    </div>\n",
              "  </div>\n",
              "  "
            ]
          },
          "metadata": {},
          "execution_count": 5
        }
      ]
    },
    {
      "cell_type": "code",
      "source": [
        "data = df.drop(['id', 'father', 'mother', 'gender', 'trait','class'], axis = 1)"
      ],
      "metadata": {
        "id": "EtshWf1FDfqK"
      },
      "execution_count": 6,
      "outputs": []
    },
    {
      "cell_type": "code",
      "source": [
        "target = df['class']"
      ],
      "metadata": {
        "id": "xKDwIM3HBiLd"
      },
      "execution_count": 7,
      "outputs": []
    },
    {
      "cell_type": "code",
      "source": [
        "info = pd.read_csv(\"snp_info.csv\", encoding='utf-8-sig', error_bad_lines=False)"
      ],
      "metadata": {
        "colab": {
          "base_uri": "https://localhost:8080/"
        },
        "id": "XPt0q106EpUJ",
        "outputId": "4cb74e43-521f-4f40-8faf-c8b6f326c611"
      },
      "execution_count": 8,
      "outputs": [
        {
          "output_type": "stream",
          "name": "stderr",
          "text": [
            "/usr/local/lib/python3.8/dist-packages/IPython/core/interactiveshell.py:3326: FutureWarning: The error_bad_lines argument has been deprecated and will be removed in a future version.\n",
            "\n",
            "\n",
            "  exec(code_obj, self.user_global_ns, self.user_ns)\n"
          ]
        }
      ]
    },
    {
      "cell_type": "code",
      "source": [
        "info"
      ],
      "metadata": {
        "colab": {
          "base_uri": "https://localhost:8080/",
          "height": 520
        },
        "id": "GApJDPTnFRA0",
        "outputId": "dc906d61-1517-48fb-e1b4-66ce0fd3aa18"
      },
      "execution_count": 9,
      "outputs": [
        {
          "output_type": "execute_result",
          "data": {
            "text/plain": [
              "    SNP_id                                   name  chrom        cm       pos\n",
              "0   SNP_01                        BTA-19852-no-rs      2  67.05460  42986890\n",
              "1   SNP_02  ARS-USMARC-Parent-DQ647190-rs29013632      6  31.15670  13897068\n",
              "2   SNP_03                    ARS-BFGL-NGS-117009      6  68.28920  44649549\n",
              "3   SNP_04                     ARS-BFGL-NGS-60567      6  77.87490  53826064\n",
              "4   SNP_05                     BovineHD0600017032      6  80.50150  61779512\n",
              "5   SNP_06                     BovineHD0600017424      6  80.59540  63048481\n",
              "6   SNP_07                 Hapmap49442-BTA-111073      6  80.78000  64037334\n",
              "7   SNP_08                     BovineHD0600018638      6  82.68560  67510588\n",
              "8   SNP_09                     ARS-BFGL-NGS-37727      6  86.87400  73092782\n",
              "9   SNP_10                           BTB-01558306      7  62.06920  40827112\n",
              "10  SNP_11                     ARS-BFGL-NGS-44247      8  97.17310  92485682\n",
              "11  SNP_12                 Hapmap32827-BTA-146530      9  62.74630  55007839\n",
              "12  SNP_13                           BTB-00395482      9  63.41810  59692848\n",
              "13  SNP_14                  Hapmap40256-BTA-84189      9  66.81970  72822507\n",
              "14  SNP_15                     BovineHD1000000224     10   1.78774    814291"
            ],
            "text/html": [
              "\n",
              "  <div id=\"df-f943f07a-7127-47c9-917d-925c84b08cb3\">\n",
              "    <div class=\"colab-df-container\">\n",
              "      <div>\n",
              "<style scoped>\n",
              "    .dataframe tbody tr th:only-of-type {\n",
              "        vertical-align: middle;\n",
              "    }\n",
              "\n",
              "    .dataframe tbody tr th {\n",
              "        vertical-align: top;\n",
              "    }\n",
              "\n",
              "    .dataframe thead th {\n",
              "        text-align: right;\n",
              "    }\n",
              "</style>\n",
              "<table border=\"1\" class=\"dataframe\">\n",
              "  <thead>\n",
              "    <tr style=\"text-align: right;\">\n",
              "      <th></th>\n",
              "      <th>SNP_id</th>\n",
              "      <th>name</th>\n",
              "      <th>chrom</th>\n",
              "      <th>cm</th>\n",
              "      <th>pos</th>\n",
              "    </tr>\n",
              "  </thead>\n",
              "  <tbody>\n",
              "    <tr>\n",
              "      <th>0</th>\n",
              "      <td>SNP_01</td>\n",
              "      <td>BTA-19852-no-rs</td>\n",
              "      <td>2</td>\n",
              "      <td>67.05460</td>\n",
              "      <td>42986890</td>\n",
              "    </tr>\n",
              "    <tr>\n",
              "      <th>1</th>\n",
              "      <td>SNP_02</td>\n",
              "      <td>ARS-USMARC-Parent-DQ647190-rs29013632</td>\n",
              "      <td>6</td>\n",
              "      <td>31.15670</td>\n",
              "      <td>13897068</td>\n",
              "    </tr>\n",
              "    <tr>\n",
              "      <th>2</th>\n",
              "      <td>SNP_03</td>\n",
              "      <td>ARS-BFGL-NGS-117009</td>\n",
              "      <td>6</td>\n",
              "      <td>68.28920</td>\n",
              "      <td>44649549</td>\n",
              "    </tr>\n",
              "    <tr>\n",
              "      <th>3</th>\n",
              "      <td>SNP_04</td>\n",
              "      <td>ARS-BFGL-NGS-60567</td>\n",
              "      <td>6</td>\n",
              "      <td>77.87490</td>\n",
              "      <td>53826064</td>\n",
              "    </tr>\n",
              "    <tr>\n",
              "      <th>4</th>\n",
              "      <td>SNP_05</td>\n",
              "      <td>BovineHD0600017032</td>\n",
              "      <td>6</td>\n",
              "      <td>80.50150</td>\n",
              "      <td>61779512</td>\n",
              "    </tr>\n",
              "    <tr>\n",
              "      <th>5</th>\n",
              "      <td>SNP_06</td>\n",
              "      <td>BovineHD0600017424</td>\n",
              "      <td>6</td>\n",
              "      <td>80.59540</td>\n",
              "      <td>63048481</td>\n",
              "    </tr>\n",
              "    <tr>\n",
              "      <th>6</th>\n",
              "      <td>SNP_07</td>\n",
              "      <td>Hapmap49442-BTA-111073</td>\n",
              "      <td>6</td>\n",
              "      <td>80.78000</td>\n",
              "      <td>64037334</td>\n",
              "    </tr>\n",
              "    <tr>\n",
              "      <th>7</th>\n",
              "      <td>SNP_08</td>\n",
              "      <td>BovineHD0600018638</td>\n",
              "      <td>6</td>\n",
              "      <td>82.68560</td>\n",
              "      <td>67510588</td>\n",
              "    </tr>\n",
              "    <tr>\n",
              "      <th>8</th>\n",
              "      <td>SNP_09</td>\n",
              "      <td>ARS-BFGL-NGS-37727</td>\n",
              "      <td>6</td>\n",
              "      <td>86.87400</td>\n",
              "      <td>73092782</td>\n",
              "    </tr>\n",
              "    <tr>\n",
              "      <th>9</th>\n",
              "      <td>SNP_10</td>\n",
              "      <td>BTB-01558306</td>\n",
              "      <td>7</td>\n",
              "      <td>62.06920</td>\n",
              "      <td>40827112</td>\n",
              "    </tr>\n",
              "    <tr>\n",
              "      <th>10</th>\n",
              "      <td>SNP_11</td>\n",
              "      <td>ARS-BFGL-NGS-44247</td>\n",
              "      <td>8</td>\n",
              "      <td>97.17310</td>\n",
              "      <td>92485682</td>\n",
              "    </tr>\n",
              "    <tr>\n",
              "      <th>11</th>\n",
              "      <td>SNP_12</td>\n",
              "      <td>Hapmap32827-BTA-146530</td>\n",
              "      <td>9</td>\n",
              "      <td>62.74630</td>\n",
              "      <td>55007839</td>\n",
              "    </tr>\n",
              "    <tr>\n",
              "      <th>12</th>\n",
              "      <td>SNP_13</td>\n",
              "      <td>BTB-00395482</td>\n",
              "      <td>9</td>\n",
              "      <td>63.41810</td>\n",
              "      <td>59692848</td>\n",
              "    </tr>\n",
              "    <tr>\n",
              "      <th>13</th>\n",
              "      <td>SNP_14</td>\n",
              "      <td>Hapmap40256-BTA-84189</td>\n",
              "      <td>9</td>\n",
              "      <td>66.81970</td>\n",
              "      <td>72822507</td>\n",
              "    </tr>\n",
              "    <tr>\n",
              "      <th>14</th>\n",
              "      <td>SNP_15</td>\n",
              "      <td>BovineHD1000000224</td>\n",
              "      <td>10</td>\n",
              "      <td>1.78774</td>\n",
              "      <td>814291</td>\n",
              "    </tr>\n",
              "  </tbody>\n",
              "</table>\n",
              "</div>\n",
              "      <button class=\"colab-df-convert\" onclick=\"convertToInteractive('df-f943f07a-7127-47c9-917d-925c84b08cb3')\"\n",
              "              title=\"Convert this dataframe to an interactive table.\"\n",
              "              style=\"display:none;\">\n",
              "        \n",
              "  <svg xmlns=\"http://www.w3.org/2000/svg\" height=\"24px\"viewBox=\"0 0 24 24\"\n",
              "       width=\"24px\">\n",
              "    <path d=\"M0 0h24v24H0V0z\" fill=\"none\"/>\n",
              "    <path d=\"M18.56 5.44l.94 2.06.94-2.06 2.06-.94-2.06-.94-.94-2.06-.94 2.06-2.06.94zm-11 1L8.5 8.5l.94-2.06 2.06-.94-2.06-.94L8.5 2.5l-.94 2.06-2.06.94zm10 10l.94 2.06.94-2.06 2.06-.94-2.06-.94-.94-2.06-.94 2.06-2.06.94z\"/><path d=\"M17.41 7.96l-1.37-1.37c-.4-.4-.92-.59-1.43-.59-.52 0-1.04.2-1.43.59L10.3 9.45l-7.72 7.72c-.78.78-.78 2.05 0 2.83L4 21.41c.39.39.9.59 1.41.59.51 0 1.02-.2 1.41-.59l7.78-7.78 2.81-2.81c.8-.78.8-2.07 0-2.86zM5.41 20L4 18.59l7.72-7.72 1.47 1.35L5.41 20z\"/>\n",
              "  </svg>\n",
              "      </button>\n",
              "      \n",
              "  <style>\n",
              "    .colab-df-container {\n",
              "      display:flex;\n",
              "      flex-wrap:wrap;\n",
              "      gap: 12px;\n",
              "    }\n",
              "\n",
              "    .colab-df-convert {\n",
              "      background-color: #E8F0FE;\n",
              "      border: none;\n",
              "      border-radius: 50%;\n",
              "      cursor: pointer;\n",
              "      display: none;\n",
              "      fill: #1967D2;\n",
              "      height: 32px;\n",
              "      padding: 0 0 0 0;\n",
              "      width: 32px;\n",
              "    }\n",
              "\n",
              "    .colab-df-convert:hover {\n",
              "      background-color: #E2EBFA;\n",
              "      box-shadow: 0px 1px 2px rgba(60, 64, 67, 0.3), 0px 1px 3px 1px rgba(60, 64, 67, 0.15);\n",
              "      fill: #174EA6;\n",
              "    }\n",
              "\n",
              "    [theme=dark] .colab-df-convert {\n",
              "      background-color: #3B4455;\n",
              "      fill: #D2E3FC;\n",
              "    }\n",
              "\n",
              "    [theme=dark] .colab-df-convert:hover {\n",
              "      background-color: #434B5C;\n",
              "      box-shadow: 0px 1px 3px 1px rgba(0, 0, 0, 0.15);\n",
              "      filter: drop-shadow(0px 1px 2px rgba(0, 0, 0, 0.3));\n",
              "      fill: #FFFFFF;\n",
              "    }\n",
              "  </style>\n",
              "\n",
              "      <script>\n",
              "        const buttonEl =\n",
              "          document.querySelector('#df-f943f07a-7127-47c9-917d-925c84b08cb3 button.colab-df-convert');\n",
              "        buttonEl.style.display =\n",
              "          google.colab.kernel.accessAllowed ? 'block' : 'none';\n",
              "\n",
              "        async function convertToInteractive(key) {\n",
              "          const element = document.querySelector('#df-f943f07a-7127-47c9-917d-925c84b08cb3');\n",
              "          const dataTable =\n",
              "            await google.colab.kernel.invokeFunction('convertToInteractive',\n",
              "                                                     [key], {});\n",
              "          if (!dataTable) return;\n",
              "\n",
              "          const docLinkHtml = 'Like what you see? Visit the ' +\n",
              "            '<a target=\"_blank\" href=https://colab.research.google.com/notebooks/data_table.ipynb>data table notebook</a>'\n",
              "            + ' to learn more about interactive tables.';\n",
              "          element.innerHTML = '';\n",
              "          dataTable['output_type'] = 'display_data';\n",
              "          await google.colab.output.renderOutput(dataTable, element);\n",
              "          const docLink = document.createElement('div');\n",
              "          docLink.innerHTML = docLinkHtml;\n",
              "          element.appendChild(docLink);\n",
              "        }\n",
              "      </script>\n",
              "    </div>\n",
              "  </div>\n",
              "  "
            ]
          },
          "metadata": {},
          "execution_count": 9
        }
      ]
    },
    {
      "cell_type": "markdown",
      "source": [
        "- name : SNP 명\n",
        "- chrom : 염색체 정보\n",
        "- cm : Genetic distance\n",
        "- pos : 각 마커의 유전체상 위치 정보\n",
        "\n",
        "- 내가 알기로 Genetic distance가 가까울 수록 비슷한 종이고 멀수록 서로 많이 다른 종자가 된다. (computing genetic distance, we can estimate how long ago the two populations were separated)\n",
        "\n",
        "- SNP는 DNA의 어느 한 부분을 뜻하는 말이고, 여기에 올 수 있는 DNA code가 일반적으로 2종류여서 예를 들어 SNP-1은 A, G가 올수 있기 때문에 SNP-1자리에 올 수 있는 유전자형은 AA, AG, GG 세가지가 된다.\n",
        "\n",
        "-http://www.incodom.kr/SNP#h_2c088d3d06d5a44395884bd694e4f8ac"
      ],
      "metadata": {
        "id": "F_lcw0t8Fe0F"
      }
    },
    {
      "cell_type": "markdown",
      "source": [
        "## 데이터 전처리\n",
        "- class(y_train, y_test)는 다중분류므로 라벨 인코딩과 원핫 인코딩을 적용해준다\n",
        "- SNP는 만들어지는 경우의 수가 3가지 뿐이므로 각 열을 따로 인코딩 해준다\n",
        "- 0,1,2로 나눠지는 데이터를 MinMax로 0~1 사이로 만들어준다"
      ],
      "metadata": {
        "id": "RP5Tuq_ieoka"
      }
    },
    {
      "cell_type": "code",
      "source": [
        "class CFG:\n",
        "    SEED = 42"
      ],
      "metadata": {
        "id": "Rw7uk127IIF-"
      },
      "execution_count": 10,
      "outputs": []
    },
    {
      "cell_type": "code",
      "source": [
        "def seed_everything(seed):\n",
        "    np.random.seed(seed)\n",
        "    os.environ['PYTHONHASHSEED'] = str(seed)\n",
        "    np.random.seed(seed)\n",
        "seed_everything(CFG.SEED) # Seed 고정"
      ],
      "metadata": {
        "id": "YUk4Qb_pId8G"
      },
      "execution_count": 11,
      "outputs": []
    },
    {
      "cell_type": "code",
      "source": [
        "X_train, X_test, y_train, y_test = train_test_split(data, target, test_size = 0.2, random_state=CFG.SEED, stratify=target)"
      ],
      "metadata": {
        "id": "tE7sHNBlIj_7"
      },
      "execution_count": 12,
      "outputs": []
    },
    {
      "cell_type": "markdown",
      "source": [
        "- y데이터(라벨링)에는 원핫 인코딩을 적용해준다"
      ],
      "metadata": {
        "id": "Rz9wt2k2VOoS"
      }
    },
    {
      "cell_type": "code",
      "source": [
        "#먼저 라벨 인코더\n",
        "target_label = preprocessing.LabelEncoder()\n",
        "y_train_scaled_ = target_label.fit_transform(y_train)"
      ],
      "metadata": {
        "id": "BlfiCNTuUvdk"
      },
      "execution_count": 13,
      "outputs": []
    },
    {
      "cell_type": "code",
      "source": [
        "#원핫인코더\n",
        "from keras.utils import np_utils\n",
        "y_train_scaled = np_utils.to_categorical(y_train_scaled_)"
      ],
      "metadata": {
        "id": "VKl-JB_vX5Cc"
      },
      "execution_count": 14,
      "outputs": []
    },
    {
      "cell_type": "markdown",
      "source": [
        "- 각 SNP별로 따로따로 인코딩"
      ],
      "metadata": {
        "id": "dUDCmpdfJiow"
      }
    },
    {
      "cell_type": "code",
      "source": [
        "snp_1 =  preprocessing.LabelEncoder()\n",
        "snp_2 =  preprocessing.LabelEncoder()\n",
        "snp_3 =  preprocessing.LabelEncoder()\n",
        "snp_4 =  preprocessing.LabelEncoder()\n",
        "snp_5 =  preprocessing.LabelEncoder()\n",
        "snp_6 =  preprocessing.LabelEncoder()\n",
        "snp_7 =  preprocessing.LabelEncoder()\n",
        "snp_8 =  preprocessing.LabelEncoder()\n",
        "snp_9 =  preprocessing.LabelEncoder()\n",
        "snp_10 =  preprocessing.LabelEncoder()\n",
        "snp_11 =  preprocessing.LabelEncoder()\n",
        "snp_12 =  preprocessing.LabelEncoder()\n",
        "snp_13 =  preprocessing.LabelEncoder()\n",
        "snp_14 =  preprocessing.LabelEncoder()\n",
        "snp_15 =  preprocessing.LabelEncoder()"
      ],
      "metadata": {
        "id": "sN3FkwokNnC9"
      },
      "execution_count": 15,
      "outputs": []
    },
    {
      "cell_type": "code",
      "source": [
        "snp_1.fit(data['SNP_01'])\n",
        "snp_2.fit(data['SNP_02'])\n",
        "snp_3.fit(data['SNP_03'])\n",
        "snp_4.fit(data['SNP_04'])\n",
        "snp_5.fit(data['SNP_05'])\n",
        "snp_6.fit(data['SNP_06'])\n",
        "snp_7.fit(data['SNP_07'])\n",
        "snp_8.fit(data['SNP_08'])\n",
        "snp_9.fit(data['SNP_09'])\n",
        "snp_10.fit(data['SNP_10'])\n",
        "snp_11.fit(data['SNP_11'])\n",
        "snp_12.fit(data['SNP_12'])\n",
        "snp_13.fit(data['SNP_13'])\n",
        "snp_14.fit(data['SNP_14'])\n",
        "snp_15.fit(data['SNP_15'])"
      ],
      "metadata": {
        "colab": {
          "base_uri": "https://localhost:8080/"
        },
        "id": "-Al8k1RKIDj1",
        "outputId": "de4212df-24ab-46da-818e-26938979feb2"
      },
      "execution_count": 16,
      "outputs": [
        {
          "output_type": "execute_result",
          "data": {
            "text/plain": [
              "LabelEncoder()"
            ]
          },
          "metadata": {},
          "execution_count": 16
        }
      ]
    },
    {
      "cell_type": "code",
      "source": [
        "X_train['SNP_01'] = snp_1.transform(X_train['SNP_01'])\n",
        "X_train['SNP_02'] = snp_2.transform(X_train['SNP_02'])\n",
        "X_train['SNP_03'] = snp_3.transform(X_train['SNP_03'])\n",
        "X_train['SNP_04'] = snp_4.transform(X_train['SNP_04'])\n",
        "X_train['SNP_05'] = snp_5.transform(X_train['SNP_05'])\n",
        "X_train['SNP_06'] = snp_6.transform(X_train['SNP_06'])\n",
        "X_train['SNP_07'] = snp_7.transform(X_train['SNP_07'])\n",
        "X_train['SNP_08'] = snp_8.transform(X_train['SNP_08'])\n",
        "X_train['SNP_09'] = snp_9.transform(X_train['SNP_09'])\n",
        "X_train['SNP_10'] = snp_10.transform(X_train['SNP_10'])\n",
        "X_train['SNP_11'] = snp_11.transform(X_train['SNP_11'])\n",
        "X_train['SNP_12'] = snp_12.transform(X_train['SNP_12'])\n",
        "X_train['SNP_13'] = snp_13.transform(X_train['SNP_13'])\n",
        "X_train['SNP_14'] = snp_14.transform(X_train['SNP_14'])\n",
        "X_train['SNP_15'] = snp_15.transform(X_train['SNP_15'])"
      ],
      "metadata": {
        "id": "cMvus2iDIGQG"
      },
      "execution_count": 17,
      "outputs": []
    },
    {
      "cell_type": "code",
      "source": [
        "X_train.head()"
      ],
      "metadata": {
        "colab": {
          "base_uri": "https://localhost:8080/",
          "height": 206
        },
        "id": "fqiESkbuJlI0",
        "outputId": "a527e525-7f45-4a79-ce72-24d8ec5ad349"
      },
      "execution_count": 18,
      "outputs": [
        {
          "output_type": "execute_result",
          "data": {
            "text/plain": [
              "     SNP_01  SNP_02  SNP_03  SNP_04  SNP_05  SNP_06  SNP_07  SNP_08  SNP_09  \\\n",
              "123       1       1       0       2       0       2       2       0       2   \n",
              "189       2       0       1       0       0       1       0       1       0   \n",
              "49        0       2       0       1       0       2       2       0       1   \n",
              "198       2       1       1       0       2       0       0       2       1   \n",
              "29        1       2       0       1       0       2       2       0       1   \n",
              "\n",
              "     SNP_10  SNP_11  SNP_12  SNP_13  SNP_14  SNP_15  \n",
              "123       0       2       1       2       1       1  \n",
              "189       1       0       0       1       0       0  \n",
              "49        0       2       1       2       1       2  \n",
              "198       2       2       0       1       0       1  \n",
              "29        0       2       2       2       0       2  "
            ],
            "text/html": [
              "\n",
              "  <div id=\"df-5723535b-1ac1-4c32-ad51-754a2d3bc939\">\n",
              "    <div class=\"colab-df-container\">\n",
              "      <div>\n",
              "<style scoped>\n",
              "    .dataframe tbody tr th:only-of-type {\n",
              "        vertical-align: middle;\n",
              "    }\n",
              "\n",
              "    .dataframe tbody tr th {\n",
              "        vertical-align: top;\n",
              "    }\n",
              "\n",
              "    .dataframe thead th {\n",
              "        text-align: right;\n",
              "    }\n",
              "</style>\n",
              "<table border=\"1\" class=\"dataframe\">\n",
              "  <thead>\n",
              "    <tr style=\"text-align: right;\">\n",
              "      <th></th>\n",
              "      <th>SNP_01</th>\n",
              "      <th>SNP_02</th>\n",
              "      <th>SNP_03</th>\n",
              "      <th>SNP_04</th>\n",
              "      <th>SNP_05</th>\n",
              "      <th>SNP_06</th>\n",
              "      <th>SNP_07</th>\n",
              "      <th>SNP_08</th>\n",
              "      <th>SNP_09</th>\n",
              "      <th>SNP_10</th>\n",
              "      <th>SNP_11</th>\n",
              "      <th>SNP_12</th>\n",
              "      <th>SNP_13</th>\n",
              "      <th>SNP_14</th>\n",
              "      <th>SNP_15</th>\n",
              "    </tr>\n",
              "  </thead>\n",
              "  <tbody>\n",
              "    <tr>\n",
              "      <th>123</th>\n",
              "      <td>1</td>\n",
              "      <td>1</td>\n",
              "      <td>0</td>\n",
              "      <td>2</td>\n",
              "      <td>0</td>\n",
              "      <td>2</td>\n",
              "      <td>2</td>\n",
              "      <td>0</td>\n",
              "      <td>2</td>\n",
              "      <td>0</td>\n",
              "      <td>2</td>\n",
              "      <td>1</td>\n",
              "      <td>2</td>\n",
              "      <td>1</td>\n",
              "      <td>1</td>\n",
              "    </tr>\n",
              "    <tr>\n",
              "      <th>189</th>\n",
              "      <td>2</td>\n",
              "      <td>0</td>\n",
              "      <td>1</td>\n",
              "      <td>0</td>\n",
              "      <td>0</td>\n",
              "      <td>1</td>\n",
              "      <td>0</td>\n",
              "      <td>1</td>\n",
              "      <td>0</td>\n",
              "      <td>1</td>\n",
              "      <td>0</td>\n",
              "      <td>0</td>\n",
              "      <td>1</td>\n",
              "      <td>0</td>\n",
              "      <td>0</td>\n",
              "    </tr>\n",
              "    <tr>\n",
              "      <th>49</th>\n",
              "      <td>0</td>\n",
              "      <td>2</td>\n",
              "      <td>0</td>\n",
              "      <td>1</td>\n",
              "      <td>0</td>\n",
              "      <td>2</td>\n",
              "      <td>2</td>\n",
              "      <td>0</td>\n",
              "      <td>1</td>\n",
              "      <td>0</td>\n",
              "      <td>2</td>\n",
              "      <td>1</td>\n",
              "      <td>2</td>\n",
              "      <td>1</td>\n",
              "      <td>2</td>\n",
              "    </tr>\n",
              "    <tr>\n",
              "      <th>198</th>\n",
              "      <td>2</td>\n",
              "      <td>1</td>\n",
              "      <td>1</td>\n",
              "      <td>0</td>\n",
              "      <td>2</td>\n",
              "      <td>0</td>\n",
              "      <td>0</td>\n",
              "      <td>2</td>\n",
              "      <td>1</td>\n",
              "      <td>2</td>\n",
              "      <td>2</td>\n",
              "      <td>0</td>\n",
              "      <td>1</td>\n",
              "      <td>0</td>\n",
              "      <td>1</td>\n",
              "    </tr>\n",
              "    <tr>\n",
              "      <th>29</th>\n",
              "      <td>1</td>\n",
              "      <td>2</td>\n",
              "      <td>0</td>\n",
              "      <td>1</td>\n",
              "      <td>0</td>\n",
              "      <td>2</td>\n",
              "      <td>2</td>\n",
              "      <td>0</td>\n",
              "      <td>1</td>\n",
              "      <td>0</td>\n",
              "      <td>2</td>\n",
              "      <td>2</td>\n",
              "      <td>2</td>\n",
              "      <td>0</td>\n",
              "      <td>2</td>\n",
              "    </tr>\n",
              "  </tbody>\n",
              "</table>\n",
              "</div>\n",
              "      <button class=\"colab-df-convert\" onclick=\"convertToInteractive('df-5723535b-1ac1-4c32-ad51-754a2d3bc939')\"\n",
              "              title=\"Convert this dataframe to an interactive table.\"\n",
              "              style=\"display:none;\">\n",
              "        \n",
              "  <svg xmlns=\"http://www.w3.org/2000/svg\" height=\"24px\"viewBox=\"0 0 24 24\"\n",
              "       width=\"24px\">\n",
              "    <path d=\"M0 0h24v24H0V0z\" fill=\"none\"/>\n",
              "    <path d=\"M18.56 5.44l.94 2.06.94-2.06 2.06-.94-2.06-.94-.94-2.06-.94 2.06-2.06.94zm-11 1L8.5 8.5l.94-2.06 2.06-.94-2.06-.94L8.5 2.5l-.94 2.06-2.06.94zm10 10l.94 2.06.94-2.06 2.06-.94-2.06-.94-.94-2.06-.94 2.06-2.06.94z\"/><path d=\"M17.41 7.96l-1.37-1.37c-.4-.4-.92-.59-1.43-.59-.52 0-1.04.2-1.43.59L10.3 9.45l-7.72 7.72c-.78.78-.78 2.05 0 2.83L4 21.41c.39.39.9.59 1.41.59.51 0 1.02-.2 1.41-.59l7.78-7.78 2.81-2.81c.8-.78.8-2.07 0-2.86zM5.41 20L4 18.59l7.72-7.72 1.47 1.35L5.41 20z\"/>\n",
              "  </svg>\n",
              "      </button>\n",
              "      \n",
              "  <style>\n",
              "    .colab-df-container {\n",
              "      display:flex;\n",
              "      flex-wrap:wrap;\n",
              "      gap: 12px;\n",
              "    }\n",
              "\n",
              "    .colab-df-convert {\n",
              "      background-color: #E8F0FE;\n",
              "      border: none;\n",
              "      border-radius: 50%;\n",
              "      cursor: pointer;\n",
              "      display: none;\n",
              "      fill: #1967D2;\n",
              "      height: 32px;\n",
              "      padding: 0 0 0 0;\n",
              "      width: 32px;\n",
              "    }\n",
              "\n",
              "    .colab-df-convert:hover {\n",
              "      background-color: #E2EBFA;\n",
              "      box-shadow: 0px 1px 2px rgba(60, 64, 67, 0.3), 0px 1px 3px 1px rgba(60, 64, 67, 0.15);\n",
              "      fill: #174EA6;\n",
              "    }\n",
              "\n",
              "    [theme=dark] .colab-df-convert {\n",
              "      background-color: #3B4455;\n",
              "      fill: #D2E3FC;\n",
              "    }\n",
              "\n",
              "    [theme=dark] .colab-df-convert:hover {\n",
              "      background-color: #434B5C;\n",
              "      box-shadow: 0px 1px 3px 1px rgba(0, 0, 0, 0.15);\n",
              "      filter: drop-shadow(0px 1px 2px rgba(0, 0, 0, 0.3));\n",
              "      fill: #FFFFFF;\n",
              "    }\n",
              "  </style>\n",
              "\n",
              "      <script>\n",
              "        const buttonEl =\n",
              "          document.querySelector('#df-5723535b-1ac1-4c32-ad51-754a2d3bc939 button.colab-df-convert');\n",
              "        buttonEl.style.display =\n",
              "          google.colab.kernel.accessAllowed ? 'block' : 'none';\n",
              "\n",
              "        async function convertToInteractive(key) {\n",
              "          const element = document.querySelector('#df-5723535b-1ac1-4c32-ad51-754a2d3bc939');\n",
              "          const dataTable =\n",
              "            await google.colab.kernel.invokeFunction('convertToInteractive',\n",
              "                                                     [key], {});\n",
              "          if (!dataTable) return;\n",
              "\n",
              "          const docLinkHtml = 'Like what you see? Visit the ' +\n",
              "            '<a target=\"_blank\" href=https://colab.research.google.com/notebooks/data_table.ipynb>data table notebook</a>'\n",
              "            + ' to learn more about interactive tables.';\n",
              "          element.innerHTML = '';\n",
              "          dataTable['output_type'] = 'display_data';\n",
              "          await google.colab.output.renderOutput(dataTable, element);\n",
              "          const docLink = document.createElement('div');\n",
              "          docLink.innerHTML = docLinkHtml;\n",
              "          element.appendChild(docLink);\n",
              "        }\n",
              "      </script>\n",
              "    </div>\n",
              "  </div>\n",
              "  "
            ]
          },
          "metadata": {},
          "execution_count": 18
        }
      ]
    },
    {
      "cell_type": "code",
      "source": [
        "X_test['SNP_01'] = snp_1.transform(X_test['SNP_01'])\n",
        "X_test['SNP_02'] = snp_2.transform(X_test['SNP_02'])\n",
        "X_test['SNP_03'] = snp_3.transform(X_test['SNP_03'])\n",
        "X_test['SNP_04'] = snp_4.transform(X_test['SNP_04'])\n",
        "X_test['SNP_05'] = snp_5.transform(X_test['SNP_05'])\n",
        "X_test['SNP_06'] = snp_6.transform(X_test['SNP_06'])\n",
        "X_test['SNP_07'] = snp_7.transform(X_test['SNP_07'])\n",
        "X_test['SNP_08'] = snp_8.transform(X_test['SNP_08'])\n",
        "X_test['SNP_09'] = snp_9.transform(X_test['SNP_09'])\n",
        "X_test['SNP_10'] = snp_10.transform(X_test['SNP_10'])\n",
        "X_test['SNP_11'] = snp_11.transform(X_test['SNP_11'])\n",
        "X_test['SNP_12'] = snp_12.transform(X_test['SNP_12'])\n",
        "X_test['SNP_13'] = snp_13.transform(X_test['SNP_13'])\n",
        "X_test['SNP_14'] = snp_14.transform(X_test['SNP_14'])\n",
        "X_test['SNP_15'] = snp_15.transform(X_test['SNP_15'])"
      ],
      "metadata": {
        "id": "Zc4iHw3dQU-j"
      },
      "execution_count": 19,
      "outputs": []
    },
    {
      "cell_type": "code",
      "source": [
        "X_test.head(5)"
      ],
      "metadata": {
        "colab": {
          "base_uri": "https://localhost:8080/",
          "height": 206
        },
        "id": "PRDfKSnkQXT1",
        "outputId": "5ab296eb-1dd8-4ffb-a80e-ddc0d2e10f80"
      },
      "execution_count": 20,
      "outputs": [
        {
          "output_type": "execute_result",
          "data": {
            "text/plain": [
              "     SNP_01  SNP_02  SNP_03  SNP_04  SNP_05  SNP_06  SNP_07  SNP_08  SNP_09  \\\n",
              "15        0       2       0       2       0       2       2       0       2   \n",
              "139       2       2       1       1       2       0       0       2       0   \n",
              "204       0       2       0       1       0       2       2       0       1   \n",
              "114       2       2       1       0       1       1       0       2       0   \n",
              "16        0       2       0       2       0       2       2       0       1   \n",
              "\n",
              "     SNP_10  SNP_11  SNP_12  SNP_13  SNP_14  SNP_15  \n",
              "15        1       1       1       2       2       2  \n",
              "139       2       0       0       0       0       1  \n",
              "204       1       2       2       2       0       2  \n",
              "114       2       1       0       1       0       0  \n",
              "16        2       1       2       2       1       2  "
            ],
            "text/html": [
              "\n",
              "  <div id=\"df-6c03a23d-e529-4668-a503-505011f50db0\">\n",
              "    <div class=\"colab-df-container\">\n",
              "      <div>\n",
              "<style scoped>\n",
              "    .dataframe tbody tr th:only-of-type {\n",
              "        vertical-align: middle;\n",
              "    }\n",
              "\n",
              "    .dataframe tbody tr th {\n",
              "        vertical-align: top;\n",
              "    }\n",
              "\n",
              "    .dataframe thead th {\n",
              "        text-align: right;\n",
              "    }\n",
              "</style>\n",
              "<table border=\"1\" class=\"dataframe\">\n",
              "  <thead>\n",
              "    <tr style=\"text-align: right;\">\n",
              "      <th></th>\n",
              "      <th>SNP_01</th>\n",
              "      <th>SNP_02</th>\n",
              "      <th>SNP_03</th>\n",
              "      <th>SNP_04</th>\n",
              "      <th>SNP_05</th>\n",
              "      <th>SNP_06</th>\n",
              "      <th>SNP_07</th>\n",
              "      <th>SNP_08</th>\n",
              "      <th>SNP_09</th>\n",
              "      <th>SNP_10</th>\n",
              "      <th>SNP_11</th>\n",
              "      <th>SNP_12</th>\n",
              "      <th>SNP_13</th>\n",
              "      <th>SNP_14</th>\n",
              "      <th>SNP_15</th>\n",
              "    </tr>\n",
              "  </thead>\n",
              "  <tbody>\n",
              "    <tr>\n",
              "      <th>15</th>\n",
              "      <td>0</td>\n",
              "      <td>2</td>\n",
              "      <td>0</td>\n",
              "      <td>2</td>\n",
              "      <td>0</td>\n",
              "      <td>2</td>\n",
              "      <td>2</td>\n",
              "      <td>0</td>\n",
              "      <td>2</td>\n",
              "      <td>1</td>\n",
              "      <td>1</td>\n",
              "      <td>1</td>\n",
              "      <td>2</td>\n",
              "      <td>2</td>\n",
              "      <td>2</td>\n",
              "    </tr>\n",
              "    <tr>\n",
              "      <th>139</th>\n",
              "      <td>2</td>\n",
              "      <td>2</td>\n",
              "      <td>1</td>\n",
              "      <td>1</td>\n",
              "      <td>2</td>\n",
              "      <td>0</td>\n",
              "      <td>0</td>\n",
              "      <td>2</td>\n",
              "      <td>0</td>\n",
              "      <td>2</td>\n",
              "      <td>0</td>\n",
              "      <td>0</td>\n",
              "      <td>0</td>\n",
              "      <td>0</td>\n",
              "      <td>1</td>\n",
              "    </tr>\n",
              "    <tr>\n",
              "      <th>204</th>\n",
              "      <td>0</td>\n",
              "      <td>2</td>\n",
              "      <td>0</td>\n",
              "      <td>1</td>\n",
              "      <td>0</td>\n",
              "      <td>2</td>\n",
              "      <td>2</td>\n",
              "      <td>0</td>\n",
              "      <td>1</td>\n",
              "      <td>1</td>\n",
              "      <td>2</td>\n",
              "      <td>2</td>\n",
              "      <td>2</td>\n",
              "      <td>0</td>\n",
              "      <td>2</td>\n",
              "    </tr>\n",
              "    <tr>\n",
              "      <th>114</th>\n",
              "      <td>2</td>\n",
              "      <td>2</td>\n",
              "      <td>1</td>\n",
              "      <td>0</td>\n",
              "      <td>1</td>\n",
              "      <td>1</td>\n",
              "      <td>0</td>\n",
              "      <td>2</td>\n",
              "      <td>0</td>\n",
              "      <td>2</td>\n",
              "      <td>1</td>\n",
              "      <td>0</td>\n",
              "      <td>1</td>\n",
              "      <td>0</td>\n",
              "      <td>0</td>\n",
              "    </tr>\n",
              "    <tr>\n",
              "      <th>16</th>\n",
              "      <td>0</td>\n",
              "      <td>2</td>\n",
              "      <td>0</td>\n",
              "      <td>2</td>\n",
              "      <td>0</td>\n",
              "      <td>2</td>\n",
              "      <td>2</td>\n",
              "      <td>0</td>\n",
              "      <td>1</td>\n",
              "      <td>2</td>\n",
              "      <td>1</td>\n",
              "      <td>2</td>\n",
              "      <td>2</td>\n",
              "      <td>1</td>\n",
              "      <td>2</td>\n",
              "    </tr>\n",
              "  </tbody>\n",
              "</table>\n",
              "</div>\n",
              "      <button class=\"colab-df-convert\" onclick=\"convertToInteractive('df-6c03a23d-e529-4668-a503-505011f50db0')\"\n",
              "              title=\"Convert this dataframe to an interactive table.\"\n",
              "              style=\"display:none;\">\n",
              "        \n",
              "  <svg xmlns=\"http://www.w3.org/2000/svg\" height=\"24px\"viewBox=\"0 0 24 24\"\n",
              "       width=\"24px\">\n",
              "    <path d=\"M0 0h24v24H0V0z\" fill=\"none\"/>\n",
              "    <path d=\"M18.56 5.44l.94 2.06.94-2.06 2.06-.94-2.06-.94-.94-2.06-.94 2.06-2.06.94zm-11 1L8.5 8.5l.94-2.06 2.06-.94-2.06-.94L8.5 2.5l-.94 2.06-2.06.94zm10 10l.94 2.06.94-2.06 2.06-.94-2.06-.94-.94-2.06-.94 2.06-2.06.94z\"/><path d=\"M17.41 7.96l-1.37-1.37c-.4-.4-.92-.59-1.43-.59-.52 0-1.04.2-1.43.59L10.3 9.45l-7.72 7.72c-.78.78-.78 2.05 0 2.83L4 21.41c.39.39.9.59 1.41.59.51 0 1.02-.2 1.41-.59l7.78-7.78 2.81-2.81c.8-.78.8-2.07 0-2.86zM5.41 20L4 18.59l7.72-7.72 1.47 1.35L5.41 20z\"/>\n",
              "  </svg>\n",
              "      </button>\n",
              "      \n",
              "  <style>\n",
              "    .colab-df-container {\n",
              "      display:flex;\n",
              "      flex-wrap:wrap;\n",
              "      gap: 12px;\n",
              "    }\n",
              "\n",
              "    .colab-df-convert {\n",
              "      background-color: #E8F0FE;\n",
              "      border: none;\n",
              "      border-radius: 50%;\n",
              "      cursor: pointer;\n",
              "      display: none;\n",
              "      fill: #1967D2;\n",
              "      height: 32px;\n",
              "      padding: 0 0 0 0;\n",
              "      width: 32px;\n",
              "    }\n",
              "\n",
              "    .colab-df-convert:hover {\n",
              "      background-color: #E2EBFA;\n",
              "      box-shadow: 0px 1px 2px rgba(60, 64, 67, 0.3), 0px 1px 3px 1px rgba(60, 64, 67, 0.15);\n",
              "      fill: #174EA6;\n",
              "    }\n",
              "\n",
              "    [theme=dark] .colab-df-convert {\n",
              "      background-color: #3B4455;\n",
              "      fill: #D2E3FC;\n",
              "    }\n",
              "\n",
              "    [theme=dark] .colab-df-convert:hover {\n",
              "      background-color: #434B5C;\n",
              "      box-shadow: 0px 1px 3px 1px rgba(0, 0, 0, 0.15);\n",
              "      filter: drop-shadow(0px 1px 2px rgba(0, 0, 0, 0.3));\n",
              "      fill: #FFFFFF;\n",
              "    }\n",
              "  </style>\n",
              "\n",
              "      <script>\n",
              "        const buttonEl =\n",
              "          document.querySelector('#df-6c03a23d-e529-4668-a503-505011f50db0 button.colab-df-convert');\n",
              "        buttonEl.style.display =\n",
              "          google.colab.kernel.accessAllowed ? 'block' : 'none';\n",
              "\n",
              "        async function convertToInteractive(key) {\n",
              "          const element = document.querySelector('#df-6c03a23d-e529-4668-a503-505011f50db0');\n",
              "          const dataTable =\n",
              "            await google.colab.kernel.invokeFunction('convertToInteractive',\n",
              "                                                     [key], {});\n",
              "          if (!dataTable) return;\n",
              "\n",
              "          const docLinkHtml = 'Like what you see? Visit the ' +\n",
              "            '<a target=\"_blank\" href=https://colab.research.google.com/notebooks/data_table.ipynb>data table notebook</a>'\n",
              "            + ' to learn more about interactive tables.';\n",
              "          element.innerHTML = '';\n",
              "          dataTable['output_type'] = 'display_data';\n",
              "          await google.colab.output.renderOutput(dataTable, element);\n",
              "          const docLink = document.createElement('div');\n",
              "          docLink.innerHTML = docLinkHtml;\n",
              "          element.appendChild(docLink);\n",
              "        }\n",
              "      </script>\n",
              "    </div>\n",
              "  </div>\n",
              "  "
            ]
          },
          "metadata": {},
          "execution_count": 20
        }
      ]
    },
    {
      "cell_type": "code",
      "source": [
        "scaler = preprocessing.MinMaxScaler()\n",
        "scaler.fit(X_train)\n",
        "X_train_scaled_ = scaler.transform(X_train)\n",
        "X_test_scaled_ = scaler.transform(X_test)"
      ],
      "metadata": {
        "id": "tKgEu-d-gc0q"
      },
      "execution_count": 21,
      "outputs": []
    },
    {
      "cell_type": "code",
      "source": [
        "X_train_scaled = pd.DataFrame(X_train_scaled_, columns=X_train.columns, index=X_train.index)\n",
        "X_test_scaled = pd.DataFrame(X_test_scaled_, columns=X_test.columns, index=X_test.index)"
      ],
      "metadata": {
        "id": "yUhHExb7hpP1"
      },
      "execution_count": 22,
      "outputs": []
    },
    {
      "cell_type": "code",
      "source": [
        "X_train_scaled.head(5)"
      ],
      "metadata": {
        "colab": {
          "base_uri": "https://localhost:8080/",
          "height": 206
        },
        "id": "CZ__IK0tqsyc",
        "outputId": "d9419366-c520-4ac4-f668-eb7861e80908"
      },
      "execution_count": 23,
      "outputs": [
        {
          "output_type": "execute_result",
          "data": {
            "text/plain": [
              "     SNP_01  SNP_02  SNP_03  SNP_04  SNP_05  SNP_06  SNP_07  SNP_08  SNP_09  \\\n",
              "123     0.5     0.5     0.0     1.0     0.0     1.0     1.0     0.0     1.0   \n",
              "189     1.0     0.0     0.5     0.0     0.0     0.5     0.0     0.5     0.0   \n",
              "49      0.0     1.0     0.0     0.5     0.0     1.0     1.0     0.0     0.5   \n",
              "198     1.0     0.5     0.5     0.0     1.0     0.0     0.0     1.0     0.5   \n",
              "29      0.5     1.0     0.0     0.5     0.0     1.0     1.0     0.0     0.5   \n",
              "\n",
              "     SNP_10  SNP_11  SNP_12  SNP_13  SNP_14  SNP_15  \n",
              "123     0.0     1.0     0.5     1.0     0.5     0.5  \n",
              "189     0.5     0.0     0.0     0.5     0.0     0.0  \n",
              "49      0.0     1.0     0.5     1.0     0.5     1.0  \n",
              "198     1.0     1.0     0.0     0.5     0.0     0.5  \n",
              "29      0.0     1.0     1.0     1.0     0.0     1.0  "
            ],
            "text/html": [
              "\n",
              "  <div id=\"df-3216cf97-ff52-4324-a347-9db6909fe5a4\">\n",
              "    <div class=\"colab-df-container\">\n",
              "      <div>\n",
              "<style scoped>\n",
              "    .dataframe tbody tr th:only-of-type {\n",
              "        vertical-align: middle;\n",
              "    }\n",
              "\n",
              "    .dataframe tbody tr th {\n",
              "        vertical-align: top;\n",
              "    }\n",
              "\n",
              "    .dataframe thead th {\n",
              "        text-align: right;\n",
              "    }\n",
              "</style>\n",
              "<table border=\"1\" class=\"dataframe\">\n",
              "  <thead>\n",
              "    <tr style=\"text-align: right;\">\n",
              "      <th></th>\n",
              "      <th>SNP_01</th>\n",
              "      <th>SNP_02</th>\n",
              "      <th>SNP_03</th>\n",
              "      <th>SNP_04</th>\n",
              "      <th>SNP_05</th>\n",
              "      <th>SNP_06</th>\n",
              "      <th>SNP_07</th>\n",
              "      <th>SNP_08</th>\n",
              "      <th>SNP_09</th>\n",
              "      <th>SNP_10</th>\n",
              "      <th>SNP_11</th>\n",
              "      <th>SNP_12</th>\n",
              "      <th>SNP_13</th>\n",
              "      <th>SNP_14</th>\n",
              "      <th>SNP_15</th>\n",
              "    </tr>\n",
              "  </thead>\n",
              "  <tbody>\n",
              "    <tr>\n",
              "      <th>123</th>\n",
              "      <td>0.5</td>\n",
              "      <td>0.5</td>\n",
              "      <td>0.0</td>\n",
              "      <td>1.0</td>\n",
              "      <td>0.0</td>\n",
              "      <td>1.0</td>\n",
              "      <td>1.0</td>\n",
              "      <td>0.0</td>\n",
              "      <td>1.0</td>\n",
              "      <td>0.0</td>\n",
              "      <td>1.0</td>\n",
              "      <td>0.5</td>\n",
              "      <td>1.0</td>\n",
              "      <td>0.5</td>\n",
              "      <td>0.5</td>\n",
              "    </tr>\n",
              "    <tr>\n",
              "      <th>189</th>\n",
              "      <td>1.0</td>\n",
              "      <td>0.0</td>\n",
              "      <td>0.5</td>\n",
              "      <td>0.0</td>\n",
              "      <td>0.0</td>\n",
              "      <td>0.5</td>\n",
              "      <td>0.0</td>\n",
              "      <td>0.5</td>\n",
              "      <td>0.0</td>\n",
              "      <td>0.5</td>\n",
              "      <td>0.0</td>\n",
              "      <td>0.0</td>\n",
              "      <td>0.5</td>\n",
              "      <td>0.0</td>\n",
              "      <td>0.0</td>\n",
              "    </tr>\n",
              "    <tr>\n",
              "      <th>49</th>\n",
              "      <td>0.0</td>\n",
              "      <td>1.0</td>\n",
              "      <td>0.0</td>\n",
              "      <td>0.5</td>\n",
              "      <td>0.0</td>\n",
              "      <td>1.0</td>\n",
              "      <td>1.0</td>\n",
              "      <td>0.0</td>\n",
              "      <td>0.5</td>\n",
              "      <td>0.0</td>\n",
              "      <td>1.0</td>\n",
              "      <td>0.5</td>\n",
              "      <td>1.0</td>\n",
              "      <td>0.5</td>\n",
              "      <td>1.0</td>\n",
              "    </tr>\n",
              "    <tr>\n",
              "      <th>198</th>\n",
              "      <td>1.0</td>\n",
              "      <td>0.5</td>\n",
              "      <td>0.5</td>\n",
              "      <td>0.0</td>\n",
              "      <td>1.0</td>\n",
              "      <td>0.0</td>\n",
              "      <td>0.0</td>\n",
              "      <td>1.0</td>\n",
              "      <td>0.5</td>\n",
              "      <td>1.0</td>\n",
              "      <td>1.0</td>\n",
              "      <td>0.0</td>\n",
              "      <td>0.5</td>\n",
              "      <td>0.0</td>\n",
              "      <td>0.5</td>\n",
              "    </tr>\n",
              "    <tr>\n",
              "      <th>29</th>\n",
              "      <td>0.5</td>\n",
              "      <td>1.0</td>\n",
              "      <td>0.0</td>\n",
              "      <td>0.5</td>\n",
              "      <td>0.0</td>\n",
              "      <td>1.0</td>\n",
              "      <td>1.0</td>\n",
              "      <td>0.0</td>\n",
              "      <td>0.5</td>\n",
              "      <td>0.0</td>\n",
              "      <td>1.0</td>\n",
              "      <td>1.0</td>\n",
              "      <td>1.0</td>\n",
              "      <td>0.0</td>\n",
              "      <td>1.0</td>\n",
              "    </tr>\n",
              "  </tbody>\n",
              "</table>\n",
              "</div>\n",
              "      <button class=\"colab-df-convert\" onclick=\"convertToInteractive('df-3216cf97-ff52-4324-a347-9db6909fe5a4')\"\n",
              "              title=\"Convert this dataframe to an interactive table.\"\n",
              "              style=\"display:none;\">\n",
              "        \n",
              "  <svg xmlns=\"http://www.w3.org/2000/svg\" height=\"24px\"viewBox=\"0 0 24 24\"\n",
              "       width=\"24px\">\n",
              "    <path d=\"M0 0h24v24H0V0z\" fill=\"none\"/>\n",
              "    <path d=\"M18.56 5.44l.94 2.06.94-2.06 2.06-.94-2.06-.94-.94-2.06-.94 2.06-2.06.94zm-11 1L8.5 8.5l.94-2.06 2.06-.94-2.06-.94L8.5 2.5l-.94 2.06-2.06.94zm10 10l.94 2.06.94-2.06 2.06-.94-2.06-.94-.94-2.06-.94 2.06-2.06.94z\"/><path d=\"M17.41 7.96l-1.37-1.37c-.4-.4-.92-.59-1.43-.59-.52 0-1.04.2-1.43.59L10.3 9.45l-7.72 7.72c-.78.78-.78 2.05 0 2.83L4 21.41c.39.39.9.59 1.41.59.51 0 1.02-.2 1.41-.59l7.78-7.78 2.81-2.81c.8-.78.8-2.07 0-2.86zM5.41 20L4 18.59l7.72-7.72 1.47 1.35L5.41 20z\"/>\n",
              "  </svg>\n",
              "      </button>\n",
              "      \n",
              "  <style>\n",
              "    .colab-df-container {\n",
              "      display:flex;\n",
              "      flex-wrap:wrap;\n",
              "      gap: 12px;\n",
              "    }\n",
              "\n",
              "    .colab-df-convert {\n",
              "      background-color: #E8F0FE;\n",
              "      border: none;\n",
              "      border-radius: 50%;\n",
              "      cursor: pointer;\n",
              "      display: none;\n",
              "      fill: #1967D2;\n",
              "      height: 32px;\n",
              "      padding: 0 0 0 0;\n",
              "      width: 32px;\n",
              "    }\n",
              "\n",
              "    .colab-df-convert:hover {\n",
              "      background-color: #E2EBFA;\n",
              "      box-shadow: 0px 1px 2px rgba(60, 64, 67, 0.3), 0px 1px 3px 1px rgba(60, 64, 67, 0.15);\n",
              "      fill: #174EA6;\n",
              "    }\n",
              "\n",
              "    [theme=dark] .colab-df-convert {\n",
              "      background-color: #3B4455;\n",
              "      fill: #D2E3FC;\n",
              "    }\n",
              "\n",
              "    [theme=dark] .colab-df-convert:hover {\n",
              "      background-color: #434B5C;\n",
              "      box-shadow: 0px 1px 3px 1px rgba(0, 0, 0, 0.15);\n",
              "      filter: drop-shadow(0px 1px 2px rgba(0, 0, 0, 0.3));\n",
              "      fill: #FFFFFF;\n",
              "    }\n",
              "  </style>\n",
              "\n",
              "      <script>\n",
              "        const buttonEl =\n",
              "          document.querySelector('#df-3216cf97-ff52-4324-a347-9db6909fe5a4 button.colab-df-convert');\n",
              "        buttonEl.style.display =\n",
              "          google.colab.kernel.accessAllowed ? 'block' : 'none';\n",
              "\n",
              "        async function convertToInteractive(key) {\n",
              "          const element = document.querySelector('#df-3216cf97-ff52-4324-a347-9db6909fe5a4');\n",
              "          const dataTable =\n",
              "            await google.colab.kernel.invokeFunction('convertToInteractive',\n",
              "                                                     [key], {});\n",
              "          if (!dataTable) return;\n",
              "\n",
              "          const docLinkHtml = 'Like what you see? Visit the ' +\n",
              "            '<a target=\"_blank\" href=https://colab.research.google.com/notebooks/data_table.ipynb>data table notebook</a>'\n",
              "            + ' to learn more about interactive tables.';\n",
              "          element.innerHTML = '';\n",
              "          dataTable['output_type'] = 'display_data';\n",
              "          await google.colab.output.renderOutput(dataTable, element);\n",
              "          const docLink = document.createElement('div');\n",
              "          docLink.innerHTML = docLinkHtml;\n",
              "          element.appendChild(docLink);\n",
              "        }\n",
              "      </script>\n",
              "    </div>\n",
              "  </div>\n",
              "  "
            ]
          },
          "metadata": {},
          "execution_count": 23
        }
      ]
    },
    {
      "cell_type": "markdown",
      "source": [
        "## 평가지표\n",
        "- F1 macro를 사용해 평가한다"
      ],
      "metadata": {
        "id": "HcaOc_uFq9Pf"
      }
    },
    {
      "cell_type": "code",
      "source": [
        "#머신러닝 평가지표\n",
        "def get_clf_eval(y_test, pred):\n",
        "    confusion = confusion_matrix(y_test, pred)\n",
        "    accuracy = accuracy_score(y_test, pred)*100\n",
        "    precision = precision_score(y_test, pred, average='macro')*100\n",
        "    recall = recall_score(y_test, pred, average='macro')*100\n",
        "    f1_macro = f1_score(y_test, pred,  average='macro')\n",
        "    \n",
        "    print('오차행렬')\n",
        "    print(confusion)\n",
        "    print('정확도 :',\"%.1f\"%accuracy+'%')\n",
        "    print('정밀도 :',\"%.1f\"%precision+'%')\n",
        "    print('재현율 :', \"%.1f\"%recall+'%')\n",
        "    print('Macro F1 score :', f1_macro)"
      ],
      "metadata": {
        "id": "e8C4gdeIKox4"
      },
      "execution_count": 24,
      "outputs": []
    },
    {
      "cell_type": "code",
      "source": [
        "#딥러닝 평가지표(케라스)\n",
        "from keras import backend as K\n",
        "def recall(y_target, y_pred):\n",
        "    # clip(t, clip_value_min, clip_value_max) : clip_value_min~clip_value_max 이외 가장자리를 깎아 낸다\n",
        "    # round : 반올림한다\n",
        "    y_target_yn = K.round(K.clip(y_target, 0, 1)) # 실제값을 0(Negative) 또는 1(Positive)로 설정한다\n",
        "    y_pred_yn = K.round(K.clip(y_pred, 0, 1)) # 예측값을 0(Negative) 또는 1(Positive)로 설정한다\n",
        "\n",
        "    # True Positive는 실제 값과 예측 값이 모두 1(Positive)인 경우이다\n",
        "    count_true_positive = K.sum(y_target_yn * y_pred_yn) \n",
        "\n",
        "    # (True Positive + False Negative) = 실제 값이 1(Positive) 전체\n",
        "    count_true_positive_false_negative = K.sum(y_target_yn)\n",
        "\n",
        "    # Recall =  (True Positive) / (True Positive + False Negative)\n",
        "    # K.epsilon()는 'divide by zero error' 예방차원에서 작은 수를 더한다\n",
        "    recall = count_true_positive / (count_true_positive_false_negative + K.epsilon())\n",
        "\n",
        "    # return a single tensor value\n",
        "    return recall\n",
        "\n",
        "\n",
        "def precision(y_target, y_pred):\n",
        "    # clip(t, clip_value_min, clip_value_max) : clip_value_min~clip_value_max 이외 가장자리를 깎아 낸다\n",
        "    # round : 반올림한다\n",
        "    y_pred_yn = K.round(K.clip(y_pred, 0, 1)) # 예측값을 0(Negative) 또는 1(Positive)로 설정한다\n",
        "    y_target_yn = K.round(K.clip(y_target, 0, 1)) # 실제값을 0(Negative) 또는 1(Positive)로 설정한다\n",
        "\n",
        "    # True Positive는 실제 값과 예측 값이 모두 1(Positive)인 경우이다\n",
        "    count_true_positive = K.sum(y_target_yn * y_pred_yn) \n",
        "\n",
        "    # (True Positive + False Positive) = 예측 값이 1(Positive) 전체\n",
        "    count_true_positive_false_positive = K.sum(y_pred_yn)\n",
        "\n",
        "    # Precision = (True Positive) / (True Positive + False Positive)\n",
        "    # K.epsilon()는 'divide by zero error' 예방차원에서 작은 수를 더한다\n",
        "    precision = count_true_positive / (count_true_positive_false_positive + K.epsilon())\n",
        "\n",
        "    # return a single tensor value\n",
        "    return precision\n",
        "\n",
        "\n",
        "def f1score(y_target, y_pred):\n",
        "    _recall = recall(y_target, y_pred)\n",
        "    _precision = precision(y_target, y_pred)\n",
        "    # K.epsilon()는 'divide by zero error' 예방차원에서 작은 수를 더한다\n",
        "    _f1score = ( 2 * _recall * _precision) / (_recall + _precision+ K.epsilon())\n",
        "    \n",
        "    # return a single tensor value\n",
        "    return _f1score"
      ],
      "metadata": {
        "id": "WBIu-pHFb_pF"
      },
      "execution_count": 25,
      "outputs": []
    },
    {
      "cell_type": "markdown",
      "source": [
        "## 머신러닝 알고리즘"
      ],
      "metadata": {
        "id": "q56NtoFYgdpJ"
      }
    },
    {
      "cell_type": "code",
      "source": [
        "#Scikit-Optimize를 이용해 파라미터 자동 튜닝\n",
        "!pip install -q scikit-optimize "
      ],
      "metadata": {
        "colab": {
          "base_uri": "https://localhost:8080/"
        },
        "id": "JwxQPm3U9xep",
        "outputId": "681ab51b-79c1-431b-fffd-7eef7e8b4473"
      },
      "execution_count": 26,
      "outputs": [
        {
          "output_type": "stream",
          "name": "stdout",
          "text": [
            "\u001b[?25l     \u001b[90m━━━━━━━━━━━━━━━━━━━━━━━━━━━━━━━━━━━━━━━━\u001b[0m \u001b[32m0.0/100.3 KB\u001b[0m \u001b[31m?\u001b[0m eta \u001b[36m-:--:--\u001b[0m\r\u001b[2K     \u001b[90m━━━━━━━━━━━━━━━━━━━━━━━━━━━━━━━━━━━━━━━\u001b[0m \u001b[32m100.3/100.3 KB\u001b[0m \u001b[31m3.6 MB/s\u001b[0m eta \u001b[36m0:00:00\u001b[0m\n",
            "\u001b[?25h"
          ]
        }
      ]
    },
    {
      "cell_type": "markdown",
      "source": [
        "### 랜덤포레스트 모델을 사용해서 학습\n",
        "- 분류기 : ran_clf\n",
        "- F1 score : 0.916"
      ],
      "metadata": {
        "id": "CukjOslOgdhZ"
      }
    },
    {
      "cell_type": "code",
      "source": [
        "ran_clf = RandomForestClassifier(random_state=CFG.SEED)\n",
        "ran_clf.fit(X_train_scaled, y_train_scaled)\n",
        "ran_pred_scaled = ran_clf.predict(X_test_scaled)"
      ],
      "metadata": {
        "id": "QPfzlV4qJ2VY"
      },
      "execution_count": 27,
      "outputs": []
    },
    {
      "cell_type": "code",
      "source": [
        "#원 핫 인코딩 -> 라벨 -> \n",
        "index = np.argmax(ran_pred_scaled, axis=1)\n",
        "ran_pred = pd.DataFrame()\n",
        "ran_pred = target_label.inverse_transform(index)"
      ],
      "metadata": {
        "id": "sTzRTvdq6gZj"
      },
      "execution_count": 28,
      "outputs": []
    },
    {
      "cell_type": "code",
      "source": [
        "get_clf_eval(y_test, ran_pred)"
      ],
      "metadata": {
        "colab": {
          "base_uri": "https://localhost:8080/"
        },
        "id": "eXmfD5foaxiU",
        "outputId": "53a03582-5c23-4f79-a040-3ac7ca8b9813"
      },
      "execution_count": 29,
      "outputs": [
        {
          "output_type": "stream",
          "name": "stdout",
          "text": [
            "오차행렬\n",
            "[[14  0  0]\n",
            " [ 0 23  0]\n",
            " [ 2  2 12]]\n",
            "정확도 : 92.5%\n",
            "정밀도 : 93.2%\n",
            "재현율 : 91.7%\n",
            "Macro F1 score : 0.9162698412698412\n"
          ]
        }
      ]
    },
    {
      "cell_type": "markdown",
      "source": [
        "## GBM 모델을 사용해서 학습\n",
        "- 분류기 : gb_clf\n",
        "- F1 score : 0.9638\n",
        "- 파라미터 튜닝후 F1 score : 0.9638"
      ],
      "metadata": {
        "id": "wgfe2sbS3J7m"
      }
    },
    {
      "cell_type": "code",
      "source": [
        "from sklearn.ensemble import GradientBoostingClassifier\n",
        "\n",
        "gb_clf = GradientBoostingClassifier(random_state=CFG.SEED)\n",
        "gb_clf.fit(X_train_scaled, y_train_scaled_)\n",
        "gb_pred_scaled_ = gb_clf.predict(X_test_scaled)"
      ],
      "metadata": {
        "id": "DFIH6UZm3ScX"
      },
      "execution_count": 30,
      "outputs": []
    },
    {
      "cell_type": "code",
      "source": [
        "# 라벨인코더 -> 타겟\n",
        "gb_pred = target_label.inverse_transform(gb_pred_scaled_)"
      ],
      "metadata": {
        "id": "mRSXQewc6Xqe"
      },
      "execution_count": 31,
      "outputs": []
    },
    {
      "cell_type": "code",
      "source": [
        "get_clf_eval(y_test, gb_pred)"
      ],
      "metadata": {
        "colab": {
          "base_uri": "https://localhost:8080/"
        },
        "id": "0w50Yvi27D0R",
        "outputId": "37edfd23-0653-44a9-c1f8-46e143dce260"
      },
      "execution_count": 32,
      "outputs": [
        {
          "output_type": "stream",
          "name": "stdout",
          "text": [
            "오차행렬\n",
            "[[14  0  0]\n",
            " [ 0 23  0]\n",
            " [ 0  2 14]]\n",
            "정확도 : 96.2%\n",
            "정밀도 : 97.3%\n",
            "재현율 : 95.8%\n",
            "Macro F1 score : 0.9638888888888889\n"
          ]
        }
      ]
    },
    {
      "cell_type": "code",
      "source": [
        "gb_clf.get_params()"
      ],
      "metadata": {
        "colab": {
          "base_uri": "https://localhost:8080/"
        },
        "id": "E32YsLmV-0U7",
        "outputId": "152e0e5c-7886-447d-f8ea-3862e1799ed6"
      },
      "execution_count": 33,
      "outputs": [
        {
          "output_type": "execute_result",
          "data": {
            "text/plain": [
              "{'ccp_alpha': 0.0,\n",
              " 'criterion': 'friedman_mse',\n",
              " 'init': None,\n",
              " 'learning_rate': 0.1,\n",
              " 'loss': 'deviance',\n",
              " 'max_depth': 3,\n",
              " 'max_features': None,\n",
              " 'max_leaf_nodes': None,\n",
              " 'min_impurity_decrease': 0.0,\n",
              " 'min_samples_leaf': 1,\n",
              " 'min_samples_split': 2,\n",
              " 'min_weight_fraction_leaf': 0.0,\n",
              " 'n_estimators': 100,\n",
              " 'n_iter_no_change': None,\n",
              " 'random_state': 42,\n",
              " 'subsample': 1.0,\n",
              " 'tol': 0.0001,\n",
              " 'validation_fraction': 0.1,\n",
              " 'verbose': 0,\n",
              " 'warm_start': False}"
            ]
          },
          "metadata": {},
          "execution_count": 33
        }
      ]
    },
    {
      "cell_type": "code",
      "source": [
        "from skopt import BayesSearchCV\n",
        "\n",
        "gb_clf = GradientBoostingClassifier(random_state=CFG.SEED)\n",
        "\n",
        "gb_opt = BayesSearchCV(\n",
        "    gb_clf,\n",
        "    {\n",
        "    'n_estimators' : (100, 1000),\n",
        "    'min_samples_split': (2,4),\n",
        "    'learning_rate': (0.01, 0.1)\n",
        "    },\n",
        "    n_iter = 10,\n",
        "    cv = 5\n",
        ")\n",
        "\n",
        "gb_opt.fit(X_train_scaled, y_train_scaled_)\n",
        "\n",
        "gb_opt_pred_scaled_ = gb_opt.predict(X_test_scaled)"
      ],
      "metadata": {
        "id": "Y6t4qVBV-6gk"
      },
      "execution_count": 36,
      "outputs": []
    },
    {
      "cell_type": "code",
      "source": [
        "gb_opt_pred = target_label.inverse_transform(gb_opt_pred_scaled_)"
      ],
      "metadata": {
        "id": "yOSTgkg4AH6i"
      },
      "execution_count": 37,
      "outputs": []
    },
    {
      "cell_type": "code",
      "source": [
        "get_clf_eval(y_test, gb_opt_pred)"
      ],
      "metadata": {
        "colab": {
          "base_uri": "https://localhost:8080/"
        },
        "id": "FF8dkYwuAMEV",
        "outputId": "b7f1b7fe-d823-4af7-8d17-a7812bcf4b43"
      },
      "execution_count": 38,
      "outputs": [
        {
          "output_type": "stream",
          "name": "stdout",
          "text": [
            "오차행렬\n",
            "[[14  0  0]\n",
            " [ 0 23  0]\n",
            " [ 0  2 14]]\n",
            "정확도 : 96.2%\n",
            "정밀도 : 97.3%\n",
            "재현율 : 95.8%\n",
            "Macro F1 score : 0.9638888888888889\n"
          ]
        }
      ]
    },
    {
      "cell_type": "code",
      "source": [
        "gb_opt.best_params_"
      ],
      "metadata": {
        "colab": {
          "base_uri": "https://localhost:8080/"
        },
        "id": "2eHLf0caAPkj",
        "outputId": "abe0dec8-a606-4465-9d79-b36c0b6e00c8"
      },
      "execution_count": 39,
      "outputs": [
        {
          "output_type": "execute_result",
          "data": {
            "text/plain": [
              "OrderedDict([('learning_rate', 0.0891222298478241),\n",
              "             ('min_samples_split', 3),\n",
              "             ('n_estimators', 538)])"
            ]
          },
          "metadata": {},
          "execution_count": 39
        }
      ]
    },
    {
      "cell_type": "markdown",
      "source": [
        "## Linear SVC 모델을 이용해 학습\n",
        "- 분류기 : svm\n",
        "- F1 score : 0.927\n",
        "- 파라미터 튜닝후 : 0.982"
      ],
      "metadata": {
        "id": "1gDN6Wdl7RR5"
      }
    },
    {
      "cell_type": "code",
      "source": [
        "from sklearn.svm import LinearSVC\n",
        "\n",
        "svm = LinearSVC(random_state=CFG.SEED)\n",
        "svm.fit(X_train_scaled, y_train_scaled_)\n",
        "svm_pred_scaled_ = svm.predict(X_test_scaled)"
      ],
      "metadata": {
        "id": "Ol5XS6Pe83WP"
      },
      "execution_count": 40,
      "outputs": []
    },
    {
      "cell_type": "code",
      "source": [
        "# 라벨인코더 -> 타겟\n",
        "svm_pred = target_label.inverse_transform(svm_pred_scaled_)"
      ],
      "metadata": {
        "id": "cM2SXD4t9R0m"
      },
      "execution_count": 41,
      "outputs": []
    },
    {
      "cell_type": "code",
      "source": [
        "get_clf_eval(y_test, svm_pred)"
      ],
      "metadata": {
        "colab": {
          "base_uri": "https://localhost:8080/"
        },
        "id": "MIDKxRvF8-KZ",
        "outputId": "24d80fbb-3244-40be-ffd7-813b16b85412"
      },
      "execution_count": 42,
      "outputs": [
        {
          "output_type": "stream",
          "name": "stdout",
          "text": [
            "오차행렬\n",
            "[[14  0  0]\n",
            " [ 0 22  1]\n",
            " [ 0  3 13]]\n",
            "정확도 : 92.5%\n",
            "정밀도 : 93.6%\n",
            "재현율 : 92.3%\n",
            "Macro F1 score : 0.9277777777777777\n"
          ]
        }
      ]
    },
    {
      "cell_type": "code",
      "source": [
        "#svm의 하이퍼파라미터를 조회해보자\n",
        "svm.get_params()"
      ],
      "metadata": {
        "colab": {
          "base_uri": "https://localhost:8080/"
        },
        "id": "VXQhspEm9o-y",
        "outputId": "bfc15ad6-333c-4123-b734-cf4e1ae1c4dc"
      },
      "execution_count": 43,
      "outputs": [
        {
          "output_type": "execute_result",
          "data": {
            "text/plain": [
              "{'C': 1.0,\n",
              " 'class_weight': None,\n",
              " 'dual': True,\n",
              " 'fit_intercept': True,\n",
              " 'intercept_scaling': 1,\n",
              " 'loss': 'squared_hinge',\n",
              " 'max_iter': 1000,\n",
              " 'multi_class': 'ovr',\n",
              " 'penalty': 'l2',\n",
              " 'random_state': 42,\n",
              " 'tol': 0.0001,\n",
              " 'verbose': 0}"
            ]
          },
          "metadata": {},
          "execution_count": 43
        }
      ]
    },
    {
      "cell_type": "code",
      "source": [
        "from skopt import BayesSearchCV\n",
        "\n",
        "svm = LinearSVC(random_state=CFG.SEED)\n",
        "\n",
        "svm_opt = BayesSearchCV(\n",
        "    svm,\n",
        "    {'C' : (10.0, 100.0, 'log-uniform'),\n",
        "     'max_iter': (1000, 10000),\n",
        "    },\n",
        "    n_iter = 10,\n",
        "    cv = 5\n",
        ")\n",
        "\n",
        "svm_opt.fit(X_train_scaled, y_train_scaled_)\n",
        "\n",
        "svm_opt_pred_scaled_ = svm_opt.predict(X_test_scaled)"
      ],
      "metadata": {
        "id": "M719DI6c915F"
      },
      "execution_count": null,
      "outputs": []
    },
    {
      "cell_type": "code",
      "source": [
        "svm_opt_pred = target_label.inverse_transform(svm_opt_pred_scaled_)"
      ],
      "metadata": {
        "id": "J8o9p3SV-Jop"
      },
      "execution_count": 45,
      "outputs": []
    },
    {
      "cell_type": "code",
      "source": [
        "get_clf_eval(y_test, svm_opt_pred)"
      ],
      "metadata": {
        "colab": {
          "base_uri": "https://localhost:8080/"
        },
        "id": "v2MMnddO-Yif",
        "outputId": "8fc68c1d-92fd-4bad-e256-b8882705737b"
      },
      "execution_count": 46,
      "outputs": [
        {
          "output_type": "stream",
          "name": "stdout",
          "text": [
            "오차행렬\n",
            "[[14  0  0]\n",
            " [ 0 23  0]\n",
            " [ 0  1 15]]\n",
            "정확도 : 98.1%\n",
            "정밀도 : 98.6%\n",
            "재현율 : 97.9%\n",
            "Macro F1 score : 0.9821551132463967\n"
          ]
        }
      ]
    },
    {
      "cell_type": "code",
      "source": [
        "svm_opt.best_params_"
      ],
      "metadata": {
        "colab": {
          "base_uri": "https://localhost:8080/"
        },
        "id": "_-zaMIfl-t15",
        "outputId": "40b50c87-c858-440b-897c-149bfac5e32b"
      },
      "execution_count": 47,
      "outputs": [
        {
          "output_type": "execute_result",
          "data": {
            "text/plain": [
              "OrderedDict([('C', 21.896073578065046), ('max_iter', 3123)])"
            ]
          },
          "metadata": {},
          "execution_count": 47
        }
      ]
    },
    {
      "cell_type": "markdown",
      "source": [
        "### 분류에 도움이 되는 주요한 데이터에 관해서만 학습\n",
        "- 2022년 12월 30일\n",
        "- 시도해봤는데 머신러닝에서도 딥러닝에서도 좋은 성능을 얻지 못했다\n",
        "- Xtra-tree : Macro F1 score 0.17316017316017315\n",
        "- Deeplearning : Macro F1 score 0.07165532879818594"
      ],
      "metadata": {
        "id": "uQqaC2y-8oVT"
      }
    },
    {
      "cell_type": "code",
      "source": [
        "#변수별 중요도를 이용해 특성행렬 선택후 학습\n",
        "from sklearn.feature_selection import SelectFromModel\n",
        "\n",
        "selector = SelectFromModel(clf, threshold = 'median')"
      ],
      "metadata": {
        "id": "UKxdpJPP8PxW"
      },
      "execution_count": null,
      "outputs": []
    },
    {
      "cell_type": "code",
      "source": [
        "X_train_feature_important = selector.fit_transform(X_train_scaled, y_train)\n",
        "X_test_feature_important = selector.fit_transform(X_test_scaled, y_test)"
      ],
      "metadata": {
        "id": "pOtMK_nk8cY2"
      },
      "execution_count": null,
      "outputs": []
    },
    {
      "cell_type": "code",
      "source": [
        "# 엑스트라 트리로 주요변수에 대해서만 학습\n",
        "from sklearn.ensemble import ExtraTreesClassifier\n",
        "clf_important = ExtraTreesClassifier(n_estimators=100, random_state=CFG.SEED)\n",
        "clf_important.fit(X_train_feature_important, y_train)"
      ],
      "metadata": {
        "id": "DE4h6tXIZfmt"
      },
      "execution_count": null,
      "outputs": []
    },
    {
      "cell_type": "code",
      "source": [
        "pred1 = clf_important.predict(X_test_feature_important)"
      ],
      "metadata": {
        "id": "ccvnnK-ZbS0m"
      },
      "execution_count": null,
      "outputs": []
    },
    {
      "cell_type": "code",
      "source": [
        "#원핫인코딩을 먼저 디코딩 한 다음 라벨인코더로 되돌리기\n",
        "index1 = np.argmax(pred1, axis=1)"
      ],
      "metadata": {
        "id": "0pvunEGJXVm4"
      },
      "execution_count": null,
      "outputs": []
    },
    {
      "cell_type": "code",
      "source": [
        "#라벨디코더를 이용해 되돌리기\n",
        "preds1 = pd.DataFrame()\n",
        "preds1 = target_label.inverse_transform(index1)"
      ],
      "metadata": {
        "id": "5ceAWolVLNzC"
      },
      "execution_count": null,
      "outputs": []
    },
    {
      "cell_type": "code",
      "source": [
        "get_clf_eval(y_test, preds1)"
      ],
      "metadata": {
        "id": "mEwJhJUHK2Az"
      },
      "execution_count": null,
      "outputs": []
    },
    {
      "cell_type": "code",
      "source": [
        "model = tf.keras.Sequential([\n",
        "                             tf.keras.layers.Dense(units=8, activation='relu', input_dim=X_train_feature_important.shape[1]),\n",
        "                             tf.keras.layers.Dense(units=100, activation='relu'),\n",
        "                             tf.keras.layers.Dense(units=100, activation='relu'),\n",
        "                             tf.keras.layers.Dense(units=3, activation='softmax')\n",
        "])\n",
        "\n",
        "model.compile(optimizer=tf.keras.optimizers.Adam(learning_rate=0.07),\n",
        "              loss='categorical_crossentropy', metrics=['accuracy', precision, recall, f1score])\n",
        "\n",
        "model.summary()"
      ],
      "metadata": {
        "id": "Cdl6O0ENK24m"
      },
      "execution_count": null,
      "outputs": []
    },
    {
      "cell_type": "code",
      "source": [
        "history = model.fit(X_train_feature_important, y_train, epochs=1000, batch_size=50, validation_split=0.25, callbacks=[tf.keras.callbacks.EarlyStopping(patience=10, monitor='val_loss')])"
      ],
      "metadata": {
        "id": "48beqVk9LXuZ"
      },
      "execution_count": null,
      "outputs": []
    },
    {
      "cell_type": "code",
      "source": [
        "y_hat = model.predict(X_test_feature_important)"
      ],
      "metadata": {
        "id": "3iMX1Wbhrmgg"
      },
      "execution_count": null,
      "outputs": []
    },
    {
      "cell_type": "code",
      "source": [
        "index = np.argmax(y_hat, axis=1)"
      ],
      "metadata": {
        "id": "mDIeYb_RsZJ0"
      },
      "execution_count": null,
      "outputs": []
    },
    {
      "cell_type": "code",
      "source": [
        "preds = pd.DataFrame()\n",
        "preds = target_label.inverse_transform(index)"
      ],
      "metadata": {
        "id": "AMBJJ6uksitC"
      },
      "execution_count": null,
      "outputs": []
    },
    {
      "cell_type": "code",
      "source": [
        "get_clf_eval(y_test, preds)"
      ],
      "metadata": {
        "id": "XTbbvpBZstHY"
      },
      "execution_count": null,
      "outputs": []
    },
    {
      "cell_type": "markdown",
      "source": [
        "## 딥러닝 다중분류모델을 이용해서 풀어보자"
      ],
      "metadata": {
        "id": "UYrFJ_ClOx1x"
      }
    },
    {
      "cell_type": "code",
      "source": [
        "import keras\n",
        "from keras.models import Sequential\n",
        "from keras.layers import Dense, Dropout, Activation\n",
        "from keras.optimizers import SGD"
      ],
      "metadata": {
        "id": "A3BXM1gX_IMm"
      },
      "execution_count": 55,
      "outputs": []
    },
    {
      "cell_type": "markdown",
      "source": [
        "### SGD와 Dropout를 이용한 다중분류모델"
      ],
      "metadata": {
        "id": "9pK1jnzvCxmG"
      }
    },
    {
      "cell_type": "code",
      "source": [
        "dna_model = Sequential()\n",
        "dna_model.add(Dense(64, activation='relu', input_dim=X_train_scaled.shape[1]))\n",
        "dna_model.add(Dropout(0.5))\n",
        "dna_model.add(Dense(64, activation='relu'))\n",
        "dna_model.add(Dropout(0.5))\n",
        "dna_model.add(Dense(3, activation='softmax'))\n",
        "\n",
        "sgd = SGD(lr=0.01, decay=1e-6, momentum=0.9, nesterov=True)\n",
        "dna_model.compile(loss='categorical_crossentropy',\n",
        "              optimizer=sgd,\n",
        "              metrics=['accuracy',precision, recall, f1score])\n",
        "\n",
        "dna_model.summary()"
      ],
      "metadata": {
        "colab": {
          "base_uri": "https://localhost:8080/"
        },
        "id": "SE-0NbFl9Nl0",
        "outputId": "59001bb7-1581-4465-be70-eb58bf941d19"
      },
      "execution_count": 75,
      "outputs": [
        {
          "output_type": "stream",
          "name": "stdout",
          "text": [
            "Model: \"sequential_10\"\n",
            "_________________________________________________________________\n",
            " Layer (type)                Output Shape              Param #   \n",
            "=================================================================\n",
            " dense_14 (Dense)            (None, 64)                1024      \n",
            "                                                                 \n",
            " dropout_8 (Dropout)         (None, 64)                0         \n",
            "                                                                 \n",
            " dense_15 (Dense)            (None, 64)                4160      \n",
            "                                                                 \n",
            " dropout_9 (Dropout)         (None, 64)                0         \n",
            "                                                                 \n",
            " dense_16 (Dense)            (None, 3)                 195       \n",
            "                                                                 \n",
            "=================================================================\n",
            "Total params: 5,379\n",
            "Trainable params: 5,379\n",
            "Non-trainable params: 0\n",
            "_________________________________________________________________\n"
          ]
        },
        {
          "output_type": "stream",
          "name": "stderr",
          "text": [
            "/usr/local/lib/python3.8/dist-packages/keras/optimizers/optimizer_v2/gradient_descent.py:108: UserWarning: The `lr` argument is deprecated, use `learning_rate` instead.\n",
            "  super(SGD, self).__init__(name, **kwargs)\n"
          ]
        }
      ]
    },
    {
      "cell_type": "code",
      "source": [
        "hist = dna_model.fit(X_train_scaled, y_train_scaled, epochs=1000, batch_size=50, validation_split=0.25, callbacks=[tf.keras.callbacks.EarlyStopping(patience=10, monitor='val_loss')])"
      ],
      "metadata": {
        "id": "VqqMDlBhAmnz"
      },
      "execution_count": null,
      "outputs": []
    },
    {
      "cell_type": "code",
      "source": [
        "y_hat = dna_model.predict(X_test_scaled)"
      ],
      "metadata": {
        "colab": {
          "base_uri": "https://localhost:8080/"
        },
        "id": "3S7Hl46lCfFv",
        "outputId": "e04779bf-0972-43d1-fcb5-d08158a3373f"
      },
      "execution_count": 77,
      "outputs": [
        {
          "output_type": "stream",
          "name": "stdout",
          "text": [
            "2/2 [==============================] - 0s 7ms/step\n"
          ]
        }
      ]
    },
    {
      "cell_type": "code",
      "source": [
        "index = np.argmax(y_hat, axis=1)\n",
        "dna_pred = pd.DataFrame()\n",
        "dna_pred = target_label.inverse_transform(index)"
      ],
      "metadata": {
        "id": "Ds8RY4vcCjAB"
      },
      "execution_count": 78,
      "outputs": []
    },
    {
      "cell_type": "code",
      "source": [
        "get_clf_eval(y_test, dna_pred)"
      ],
      "metadata": {
        "colab": {
          "base_uri": "https://localhost:8080/"
        },
        "id": "xSV3En_FCm8W",
        "outputId": "d5f94cf3-24d3-4570-c24a-8d6fd1af16db"
      },
      "execution_count": 79,
      "outputs": [
        {
          "output_type": "stream",
          "name": "stdout",
          "text": [
            "오차행렬\n",
            "[[14  0  0]\n",
            " [ 0 23  0]\n",
            " [ 0  1 15]]\n",
            "정확도 : 98.1%\n",
            "정밀도 : 98.6%\n",
            "재현율 : 97.9%\n",
            "Macro F1 score : 0.9821551132463967\n"
          ]
        }
      ]
    },
    {
      "cell_type": "markdown",
      "source": [
        "### Adam을 이용한 다중분류모델"
      ],
      "metadata": {
        "id": "59nQdOvrC8Lu"
      }
    },
    {
      "cell_type": "code",
      "source": [
        "adam_model = Sequential()\n",
        "adam_model.add(Dense(64, activation='relu', input_dim=X_train_scaled.shape[1]))\n",
        "adam_model.add(Dense(125, activation='relu'))\n",
        "adam_model.add(Dense(100, activation='relu'))\n",
        "adam_model.add(Dense(units=3, activation='softmax'))\n",
        "\n",
        "adam_model.compile(optimizer=tf.keras.optimizers.Adam(learning_rate=0.01),\n",
        "              loss='categorical_crossentropy', metrics=['accuracy', precision, recall, f1score])\n",
        "\n",
        "adam_model.summary()"
      ],
      "metadata": {
        "colab": {
          "base_uri": "https://localhost:8080/"
        },
        "id": "xi5bnAMSejBT",
        "outputId": "199e12f2-f680-47b3-aa69-ab7680c59445"
      },
      "execution_count": 89,
      "outputs": [
        {
          "output_type": "stream",
          "name": "stdout",
          "text": [
            "Model: \"sequential_14\"\n",
            "_________________________________________________________________\n",
            " Layer (type)                Output Shape              Param #   \n",
            "=================================================================\n",
            " dense_23 (Dense)            (None, 64)                1024      \n",
            "                                                                 \n",
            " dense_24 (Dense)            (None, 125)               8125      \n",
            "                                                                 \n",
            " dense_25 (Dense)            (None, 100)               12600     \n",
            "                                                                 \n",
            " dense_26 (Dense)            (None, 3)                 303       \n",
            "                                                                 \n",
            "=================================================================\n",
            "Total params: 22,052\n",
            "Trainable params: 22,052\n",
            "Non-trainable params: 0\n",
            "_________________________________________________________________\n"
          ]
        }
      ]
    },
    {
      "cell_type": "code",
      "source": [
        "hist = adam_model.fit(X_train_scaled, y_train_scaled, epochs=1000, batch_size=50, validation_split=0.25, callbacks=[tf.keras.callbacks.EarlyStopping(patience=10, monitor='val_loss')])"
      ],
      "metadata": {
        "id": "NNGMxNyAe0A9",
        "colab": {
          "base_uri": "https://localhost:8080/"
        },
        "outputId": "6c0bdb96-3cd6-4758-e1f8-bf4052c5c0d6"
      },
      "execution_count": 90,
      "outputs": [
        {
          "output_type": "stream",
          "name": "stdout",
          "text": [
            "Epoch 1/1000\n",
            "4/4 [==============================] - 1s 112ms/step - loss: 0.9353 - accuracy: 0.6026 - precision: 0.6588 - recall: 0.4817 - f1score: 0.5549 - val_loss: 0.5448 - val_accuracy: 0.7170 - val_precision: 0.8750 - val_recall: 0.7700 - val_f1score: 0.8140\n",
            "Epoch 2/1000\n",
            "4/4 [==============================] - 0s 13ms/step - loss: 0.3478 - accuracy: 0.8846 - precision: 0.9129 - recall: 0.8650 - f1score: 0.8879 - val_loss: 0.2708 - val_accuracy: 0.9434 - val_precision: 0.9700 - val_recall: 0.9700 - val_f1score: 0.9700\n",
            "Epoch 3/1000\n",
            "4/4 [==============================] - 0s 10ms/step - loss: 0.1973 - accuracy: 0.8974 - precision: 0.9200 - recall: 0.9200 - f1score: 0.9200 - val_loss: 0.3679 - val_accuracy: 0.8491 - val_precision: 0.9200 - val_recall: 0.9200 - val_f1score: 0.9200\n",
            "Epoch 4/1000\n",
            "4/4 [==============================] - 0s 11ms/step - loss: 0.1685 - accuracy: 0.9295 - precision: 0.9083 - recall: 0.9083 - f1score: 0.9083 - val_loss: 0.2772 - val_accuracy: 0.9057 - val_precision: 0.9500 - val_recall: 0.9500 - val_f1score: 0.9500\n",
            "Epoch 5/1000\n",
            "4/4 [==============================] - 0s 10ms/step - loss: 0.1516 - accuracy: 0.9295 - precision: 0.9083 - recall: 0.9083 - f1score: 0.9083 - val_loss: 0.1622 - val_accuracy: 0.9245 - val_precision: 0.9600 - val_recall: 0.9600 - val_f1score: 0.9600\n",
            "Epoch 6/1000\n",
            "4/4 [==============================] - 0s 10ms/step - loss: 0.1089 - accuracy: 0.9551 - precision: 0.9650 - recall: 0.9650 - f1score: 0.9650 - val_loss: 0.1705 - val_accuracy: 0.9057 - val_precision: 0.9500 - val_recall: 0.9500 - val_f1score: 0.9500\n",
            "Epoch 7/1000\n",
            "4/4 [==============================] - 0s 13ms/step - loss: 0.0599 - accuracy: 0.9744 - precision: 0.9800 - recall: 0.9800 - f1score: 0.9800 - val_loss: 0.2372 - val_accuracy: 0.9057 - val_precision: 0.9500 - val_recall: 0.9500 - val_f1score: 0.9500\n",
            "Epoch 8/1000\n",
            "4/4 [==============================] - 0s 12ms/step - loss: 0.0789 - accuracy: 0.9679 - precision: 0.9750 - recall: 0.9750 - f1score: 0.9750 - val_loss: 0.1758 - val_accuracy: 0.9434 - val_precision: 0.9700 - val_recall: 0.9700 - val_f1score: 0.9700\n",
            "Epoch 9/1000\n",
            "4/4 [==============================] - 0s 11ms/step - loss: 0.0802 - accuracy: 0.9744 - precision: 0.9800 - recall: 0.9800 - f1score: 0.9800 - val_loss: 0.1894 - val_accuracy: 0.9434 - val_precision: 0.9700 - val_recall: 0.9700 - val_f1score: 0.9700\n",
            "Epoch 10/1000\n",
            "4/4 [==============================] - 0s 11ms/step - loss: 0.0567 - accuracy: 0.9808 - precision: 0.9850 - recall: 0.9850 - f1score: 0.9850 - val_loss: 0.2653 - val_accuracy: 0.9057 - val_precision: 0.9500 - val_recall: 0.9500 - val_f1score: 0.9500\n",
            "Epoch 11/1000\n",
            "4/4 [==============================] - 0s 10ms/step - loss: 0.0524 - accuracy: 0.9808 - precision: 0.9850 - recall: 0.9850 - f1score: 0.9850 - val_loss: 0.2172 - val_accuracy: 0.8868 - val_precision: 0.9400 - val_recall: 0.9400 - val_f1score: 0.9400\n",
            "Epoch 12/1000\n",
            "4/4 [==============================] - 0s 16ms/step - loss: 0.0408 - accuracy: 0.9808 - precision: 0.9850 - recall: 0.9850 - f1score: 0.9850 - val_loss: 0.2413 - val_accuracy: 0.9434 - val_precision: 0.9700 - val_recall: 0.9700 - val_f1score: 0.9700\n",
            "Epoch 13/1000\n",
            "4/4 [==============================] - 0s 12ms/step - loss: 0.0448 - accuracy: 0.9872 - precision: 0.9900 - recall: 0.9900 - f1score: 0.9900 - val_loss: 0.3218 - val_accuracy: 0.9245 - val_precision: 0.9600 - val_recall: 0.9600 - val_f1score: 0.9600\n",
            "Epoch 14/1000\n",
            "4/4 [==============================] - 0s 11ms/step - loss: 0.0211 - accuracy: 0.9936 - precision: 0.9950 - recall: 0.9950 - f1score: 0.9950 - val_loss: 0.2920 - val_accuracy: 0.9245 - val_precision: 0.9600 - val_recall: 0.9600 - val_f1score: 0.9600\n",
            "Epoch 15/1000\n",
            "4/4 [==============================] - 0s 12ms/step - loss: 0.0250 - accuracy: 0.9872 - precision: 0.9900 - recall: 0.9900 - f1score: 0.9900 - val_loss: 0.3263 - val_accuracy: 0.9057 - val_precision: 0.9500 - val_recall: 0.9500 - val_f1score: 0.9500\n"
          ]
        }
      ]
    },
    {
      "cell_type": "code",
      "source": [
        "y_hat = adam_model.predict(X_test_scaled)"
      ],
      "metadata": {
        "colab": {
          "base_uri": "https://localhost:8080/"
        },
        "id": "tjAVmygBe8A9",
        "outputId": "a15cf320-61f4-454f-a27d-fb42723fed00"
      },
      "execution_count": 91,
      "outputs": [
        {
          "output_type": "stream",
          "name": "stdout",
          "text": [
            "2/2 [==============================] - 0s 6ms/step\n"
          ]
        }
      ]
    },
    {
      "cell_type": "code",
      "source": [
        "index = np.argmax(y_hat, axis=1)"
      ],
      "metadata": {
        "id": "IZJuCeYve_bb"
      },
      "execution_count": 92,
      "outputs": []
    },
    {
      "cell_type": "code",
      "source": [
        "preds = pd.DataFrame()\n",
        "preds = target_label.inverse_transform(index)"
      ],
      "metadata": {
        "id": "LVtSzqGPfDa0"
      },
      "execution_count": 93,
      "outputs": []
    },
    {
      "cell_type": "code",
      "source": [
        "get_clf_eval(y_test, preds)"
      ],
      "metadata": {
        "colab": {
          "base_uri": "https://localhost:8080/"
        },
        "id": "P6oKD1aHfEhW",
        "outputId": "d8615510-48ac-492e-a30b-327908b46db0"
      },
      "execution_count": 94,
      "outputs": [
        {
          "output_type": "stream",
          "name": "stdout",
          "text": [
            "오차행렬\n",
            "[[14  0  0]\n",
            " [ 0 22  1]\n",
            " [ 0  2 14]]\n",
            "정확도 : 94.3%\n",
            "정밀도 : 95.0%\n",
            "재현율 : 94.4%\n",
            "Macro F1 score : 0.9464653397391901\n"
          ]
        }
      ]
    },
    {
      "cell_type": "markdown",
      "source": [
        "## 드롭아웃을 적용시켜 아주 깊은 딥러닝 모델을 만들어보자\n",
        "- 드롭아웃층을 적용했다\n",
        "- 깊은 모델일 때 relu보다 좀더 미분값 소실이 적다는 swish함수를 사용했다"
      ],
      "metadata": {
        "id": "vg20qkLyZh1L"
      }
    },
    {
      "cell_type": "code",
      "source": [
        "model1 = tf.keras.Sequential([\n",
        "                             tf.keras.layers.Dense(units=1050, activation='swish', input_dim=X_train_scaled.shape[1]),\n",
        "                             tf.keras.layers.Dense(units=100, activation='swish'),\n",
        "                             tf.keras.layers.Dropout(0.2), \n",
        "                             tf.keras.layers.Dense(units=100, activation='swish'),\n",
        "                             tf.keras.layers.Dropout(0.2), \n",
        "                             tf.keras.layers.Dense(units=100, activation='swish'),\n",
        "                             tf.keras.layers.Dropout(0.2), \n",
        "                             tf.keras.layers.Dense(units=100, activation='swish'),\n",
        "                             tf.keras.layers.Dropout(0.2), \n",
        "                             tf.keras.layers.Dense(units=100, activation='swish'),\n",
        "                             tf.keras.layers.Dropout(0.2), \n",
        "                             tf.keras.layers.Dense(units=100, activation='swish'),\n",
        "                             tf.keras.layers.Dense(units=3, activation='softmax')\n",
        "])\n",
        "\n",
        "model1.compile(optimizer=tf.keras.optimizers.Adam(learning_rate=0.07),\n",
        "              loss='categorical_crossentropy', metrics=['accuracy', precision, recall, f1score])\n",
        "\n",
        "model1.summary()"
      ],
      "metadata": {
        "id": "rEJazXEmLIO7"
      },
      "execution_count": null,
      "outputs": []
    },
    {
      "cell_type": "code",
      "source": [
        "history = model1.fit(X_train_scaled, y_train, epochs=1000, batch_size=32, validation_split=0.25, callbacks=[tf.keras.callbacks.EarlyStopping(patience=10, monitor='val_loss')])"
      ],
      "metadata": {
        "id": "hKAt7tLxLIaO"
      },
      "execution_count": null,
      "outputs": []
    },
    {
      "cell_type": "code",
      "source": [
        "y_hat1 = model1.predict(X_test_scaled)"
      ],
      "metadata": {
        "id": "gqSvwWPcLIdQ"
      },
      "execution_count": null,
      "outputs": []
    },
    {
      "cell_type": "code",
      "source": [
        "index1 = np.argmax(y_hat1, axis=1)"
      ],
      "metadata": {
        "id": "gGwzWdKPLffp"
      },
      "execution_count": null,
      "outputs": []
    },
    {
      "cell_type": "code",
      "source": [
        "preds1 = pd.DataFrame()\n",
        "preds1 = target_label.inverse_transform(index1)"
      ],
      "metadata": {
        "id": "zX81YhcfLIgD"
      },
      "execution_count": null,
      "outputs": []
    },
    {
      "cell_type": "code",
      "source": [
        "get_clf_eval(y_test, preds1)"
      ],
      "metadata": {
        "id": "dNaTZwSSLcJ0"
      },
      "execution_count": null,
      "outputs": []
    },
    {
      "cell_type": "markdown",
      "source": [
        "- 어째 결과가 더 안좋게 나오네...\n"
      ],
      "metadata": {
        "id": "cP-qhS-mZ-w8"
      }
    }
  ]
}