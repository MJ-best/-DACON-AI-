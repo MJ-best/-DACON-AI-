{
  "nbformat": 4,
  "nbformat_minor": 0,
  "metadata": {
    "colab": {
      "provenance": [],
      "collapsed_sections": [
        "uQqaC2y-8oVT",
        "vg20qkLyZh1L"
      ],
      "mount_file_id": "1I-EFRZRIWhprjoKpiRrditNY834mPwpG",
      "authorship_tag": "ABX9TyNGwElAGEGUP7TJpJjgYSFC",
      "include_colab_link": true
    },
    "kernelspec": {
      "name": "python3",
      "display_name": "Python 3"
    },
    "language_info": {
      "name": "python"
    }
  },
  "cells": [
    {
      "cell_type": "markdown",
      "metadata": {
        "id": "view-in-github",
        "colab_type": "text"
      },
      "source": [
        "<a href=\"https://colab.research.google.com/github/MJ-best/-DACON-AI-/blob/main/%5BDACON%5DGenome_Info_clf_AI_20220116.ipynb\" target=\"_parent\"><img src=\"https://colab.research.google.com/assets/colab-badge.svg\" alt=\"Open In Colab\"/></a>"
      ]
    },
    {
      "cell_type": "markdown",
      "source": [
        "# [DACON] 유전체 정보 품종 분류 AI 경진대회\n",
        "- https://dacon.io/competitions/official/236035/overview/description\n",
        "- 개체와 SNP 정보를 이용하여 품종 분류 AI 모델 개발\n",
        "- 유전체 염기서열에서 획득한 유전체 변이 정보인 Single Nucleotide Polymorphism 정보는 특정 개체 및 특정 품종에 따라 다른 변이 양상을 나타낼 수 있기 때문에 동일개체를 확인하거나, 동일 품종을 구분하는데 활용이 가능합니다. 따라서 이번 경진대회에서는 개체 정보와 SNP 정보를 이용하여 A, B, C 품종을 분류하는 최고의 품종구분 정확도를 획득하는 것이 목표입니다.\n",
        "\n",
        "- 농축수산 현장에서는 유전체 변이정보를 이용해서 품종을 구분하는 연구를 통해 품종의 다양성 혹은 품종 부정유통을 방지하기 위해 많이 활용하게 됩니다.\n",
        "\n",
        "- SNP란 DNA 내 A, T, G, C와 같은 염기서열의 차이로서 개체 간 염기서열의 차이 정도를 파악하여 분자적인 수준에서의 명확한 품종 조성 확인을 가능케 한다\n",
        "\n",
        "- 많은 SNP 정보를 통해 분류하는 것보다, 보다 **더 적은 SNP 정보로 높은 분류 성능**을 내는 것이 중요합니다.\n",
        "\n",
        "- 따라서 이번 경진대회에서는 개체 정보와 사전에 구성된 **15개의 SNP 정보를 바탕으로 품종 분류 모델을 개발**해야 합니다.\n",
        "\n"
      ],
      "metadata": {
        "id": "XDy8Z9HfBu3B"
      }
    },
    {
      "cell_type": "code",
      "source": [
        "import datetime\n",
        "from pytz import timezone\n",
        "\n",
        "print(\"last update : \",datetime.datetime.now(timezone('Asia/Seoul')))"
      ],
      "metadata": {
        "colab": {
          "base_uri": "https://localhost:8080/"
        },
        "id": "DO_qtemjB-o9",
        "outputId": "97e784e3-056e-460e-fbd7-23c0478e17ed"
      },
      "execution_count": 2,
      "outputs": [
        {
          "output_type": "stream",
          "name": "stdout",
          "text": [
            "last update :  2023-01-16 18:32:34.020778+09:00\n"
          ]
        }
      ]
    },
    {
      "cell_type": "code",
      "execution_count": 3,
      "metadata": {
        "id": "hrzsvg4MAJ7w"
      },
      "outputs": [],
      "source": [
        "import io\n",
        "import os\n",
        "import numpy as np\n",
        "import pandas as pd\n",
        "import math\n",
        "import matplotlib.pyplot as plt\n",
        "\n",
        "from sklearn import preprocessing\n",
        "\n",
        "from sklearn.tree import DecisionTreeClassifier\n",
        "from sklearn.ensemble import RandomForestClassifier\n",
        "from sklearn.linear_model import LogisticRegression\n",
        "\n",
        "from sklearn.model_selection import train_test_split\n",
        "from sklearn.metrics import accuracy_score, precision_score, recall_score, confusion_matrix, f1_score\n",
        "from sklearn.model_selection import GridSearchCV, cross_val_score, cross_validate\n",
        "\n",
        "import tensorflow as tf"
      ]
    },
    {
      "cell_type": "markdown",
      "source": [
        "## 데이터준비"
      ],
      "metadata": {
        "id": "FWyHyZc4ejZN"
      }
    },
    {
      "cell_type": "code",
      "source": [
        "from google.colab import drive\n",
        "drive.mount('/content/drive/')"
      ],
      "metadata": {
        "colab": {
          "base_uri": "https://localhost:8080/"
        },
        "id": "A6a9bGCpA62-",
        "outputId": "5ef643c7-a175-496a-f197-044a79976b5c"
      },
      "execution_count": 4,
      "outputs": [
        {
          "output_type": "stream",
          "name": "stdout",
          "text": [
            "Drive already mounted at /content/drive/; to attempt to forcibly remount, call drive.mount(\"/content/drive/\", force_remount=True).\n"
          ]
        }
      ]
    },
    {
      "cell_type": "code",
      "source": [
        "path = '/content/drive/MyDrive/Colab Notebooks/[DACON]유전체정보_품좀_분류_AI_경진대회/data'\n",
        "os.chdir(path)\n",
        "df = pd.read_csv(\"train.csv\", encoding='utf-8-sig', error_bad_lines=False)"
      ],
      "metadata": {
        "id": "odhpBGm-BIEo",
        "colab": {
          "base_uri": "https://localhost:8080/"
        },
        "outputId": "f281a57a-8cfe-4eb3-a058-f16452678f4e"
      },
      "execution_count": 5,
      "outputs": [
        {
          "output_type": "stream",
          "name": "stderr",
          "text": [
            "/usr/local/lib/python3.8/dist-packages/IPython/core/interactiveshell.py:3326: FutureWarning: The error_bad_lines argument has been deprecated and will be removed in a future version.\n",
            "\n",
            "\n",
            "  exec(code_obj, self.user_global_ns, self.user_ns)\n"
          ]
        }
      ]
    },
    {
      "cell_type": "code",
      "source": [
        "df"
      ],
      "metadata": {
        "colab": {
          "base_uri": "https://localhost:8080/",
          "height": 423
        },
        "id": "KpRqSRHbBQnP",
        "outputId": "17d2538f-d468-408d-a6dc-20794473db01"
      },
      "execution_count": 6,
      "outputs": [
        {
          "output_type": "execute_result",
          "data": {
            "text/plain": [
              "            id  father  mother  gender  trait SNP_01 SNP_02 SNP_03 SNP_04  \\\n",
              "0    TRAIN_000       0       0       0      2    G G    A G    A A    G A   \n",
              "1    TRAIN_001       0       0       0      2    A G    A G    C A    A A   \n",
              "2    TRAIN_002       0       0       0      2    G G    G G    A A    G A   \n",
              "3    TRAIN_003       0       0       0      1    A A    G G    A A    G A   \n",
              "4    TRAIN_004       0       0       0      2    G G    G G    C C    A A   \n",
              "..         ...     ...     ...     ...    ...    ...    ...    ...    ...   \n",
              "257  TRAIN_257       0       0       0      2    A G    A G    A A    G A   \n",
              "258  TRAIN_258       0       0       0      2    G G    A A    C A    A A   \n",
              "259  TRAIN_259       0       0       0      1    A G    G G    A A    G A   \n",
              "260  TRAIN_260       0       0       0      1    A A    G G    A A    G A   \n",
              "261  TRAIN_261       0       0       0      2    G G    A G    C A    G G   \n",
              "\n",
              "    SNP_05  ... SNP_07 SNP_08 SNP_09 SNP_10 SNP_11 SNP_12 SNP_13 SNP_14  \\\n",
              "0      C A  ...    A A    G G    A A    G G    A G    A A    A A    A A   \n",
              "1      A A  ...    A A    G A    A A    A G    A A    G A    G G    A A   \n",
              "2      C C  ...    A A    G A    G A    A G    A A    A A    A A    A A   \n",
              "3      A A  ...    G G    A A    G G    A G    G G    G G    G G    A A   \n",
              "4      C C  ...    A A    A A    A A    G G    A A    A A    A G    A A   \n",
              "..     ...  ...    ...    ...    ...    ...    ...    ...    ...    ...   \n",
              "257    C C  ...    A A    G A    A A    G G    A G    G A    A A    A A   \n",
              "258    A A  ...    G A    G A    A A    A G    A G    A A    A G    A A   \n",
              "259    A A  ...    G G    G A    G A    A A    G G    G G    G G    C A   \n",
              "260    A A  ...    G G    A A    G A    A G    A G    G A    G G    C A   \n",
              "261    C C  ...    A A    A A    A A    G G    A A    A A    G G    A A   \n",
              "\n",
              "    SNP_15 class  \n",
              "0      A A     B  \n",
              "1      A A     C  \n",
              "2      A A     B  \n",
              "3      G G     A  \n",
              "4      G A     C  \n",
              "..     ...   ...  \n",
              "257    A A     B  \n",
              "258    G A     C  \n",
              "259    G G     A  \n",
              "260    G G     A  \n",
              "261    G A     B  \n",
              "\n",
              "[262 rows x 21 columns]"
            ],
            "text/html": [
              "\n",
              "  <div id=\"df-54d043be-2983-41e7-b922-d8470cb25526\">\n",
              "    <div class=\"colab-df-container\">\n",
              "      <div>\n",
              "<style scoped>\n",
              "    .dataframe tbody tr th:only-of-type {\n",
              "        vertical-align: middle;\n",
              "    }\n",
              "\n",
              "    .dataframe tbody tr th {\n",
              "        vertical-align: top;\n",
              "    }\n",
              "\n",
              "    .dataframe thead th {\n",
              "        text-align: right;\n",
              "    }\n",
              "</style>\n",
              "<table border=\"1\" class=\"dataframe\">\n",
              "  <thead>\n",
              "    <tr style=\"text-align: right;\">\n",
              "      <th></th>\n",
              "      <th>id</th>\n",
              "      <th>father</th>\n",
              "      <th>mother</th>\n",
              "      <th>gender</th>\n",
              "      <th>trait</th>\n",
              "      <th>SNP_01</th>\n",
              "      <th>SNP_02</th>\n",
              "      <th>SNP_03</th>\n",
              "      <th>SNP_04</th>\n",
              "      <th>SNP_05</th>\n",
              "      <th>...</th>\n",
              "      <th>SNP_07</th>\n",
              "      <th>SNP_08</th>\n",
              "      <th>SNP_09</th>\n",
              "      <th>SNP_10</th>\n",
              "      <th>SNP_11</th>\n",
              "      <th>SNP_12</th>\n",
              "      <th>SNP_13</th>\n",
              "      <th>SNP_14</th>\n",
              "      <th>SNP_15</th>\n",
              "      <th>class</th>\n",
              "    </tr>\n",
              "  </thead>\n",
              "  <tbody>\n",
              "    <tr>\n",
              "      <th>0</th>\n",
              "      <td>TRAIN_000</td>\n",
              "      <td>0</td>\n",
              "      <td>0</td>\n",
              "      <td>0</td>\n",
              "      <td>2</td>\n",
              "      <td>G G</td>\n",
              "      <td>A G</td>\n",
              "      <td>A A</td>\n",
              "      <td>G A</td>\n",
              "      <td>C A</td>\n",
              "      <td>...</td>\n",
              "      <td>A A</td>\n",
              "      <td>G G</td>\n",
              "      <td>A A</td>\n",
              "      <td>G G</td>\n",
              "      <td>A G</td>\n",
              "      <td>A A</td>\n",
              "      <td>A A</td>\n",
              "      <td>A A</td>\n",
              "      <td>A A</td>\n",
              "      <td>B</td>\n",
              "    </tr>\n",
              "    <tr>\n",
              "      <th>1</th>\n",
              "      <td>TRAIN_001</td>\n",
              "      <td>0</td>\n",
              "      <td>0</td>\n",
              "      <td>0</td>\n",
              "      <td>2</td>\n",
              "      <td>A G</td>\n",
              "      <td>A G</td>\n",
              "      <td>C A</td>\n",
              "      <td>A A</td>\n",
              "      <td>A A</td>\n",
              "      <td>...</td>\n",
              "      <td>A A</td>\n",
              "      <td>G A</td>\n",
              "      <td>A A</td>\n",
              "      <td>A G</td>\n",
              "      <td>A A</td>\n",
              "      <td>G A</td>\n",
              "      <td>G G</td>\n",
              "      <td>A A</td>\n",
              "      <td>A A</td>\n",
              "      <td>C</td>\n",
              "    </tr>\n",
              "    <tr>\n",
              "      <th>2</th>\n",
              "      <td>TRAIN_002</td>\n",
              "      <td>0</td>\n",
              "      <td>0</td>\n",
              "      <td>0</td>\n",
              "      <td>2</td>\n",
              "      <td>G G</td>\n",
              "      <td>G G</td>\n",
              "      <td>A A</td>\n",
              "      <td>G A</td>\n",
              "      <td>C C</td>\n",
              "      <td>...</td>\n",
              "      <td>A A</td>\n",
              "      <td>G A</td>\n",
              "      <td>G A</td>\n",
              "      <td>A G</td>\n",
              "      <td>A A</td>\n",
              "      <td>A A</td>\n",
              "      <td>A A</td>\n",
              "      <td>A A</td>\n",
              "      <td>A A</td>\n",
              "      <td>B</td>\n",
              "    </tr>\n",
              "    <tr>\n",
              "      <th>3</th>\n",
              "      <td>TRAIN_003</td>\n",
              "      <td>0</td>\n",
              "      <td>0</td>\n",
              "      <td>0</td>\n",
              "      <td>1</td>\n",
              "      <td>A A</td>\n",
              "      <td>G G</td>\n",
              "      <td>A A</td>\n",
              "      <td>G A</td>\n",
              "      <td>A A</td>\n",
              "      <td>...</td>\n",
              "      <td>G G</td>\n",
              "      <td>A A</td>\n",
              "      <td>G G</td>\n",
              "      <td>A G</td>\n",
              "      <td>G G</td>\n",
              "      <td>G G</td>\n",
              "      <td>G G</td>\n",
              "      <td>A A</td>\n",
              "      <td>G G</td>\n",
              "      <td>A</td>\n",
              "    </tr>\n",
              "    <tr>\n",
              "      <th>4</th>\n",
              "      <td>TRAIN_004</td>\n",
              "      <td>0</td>\n",
              "      <td>0</td>\n",
              "      <td>0</td>\n",
              "      <td>2</td>\n",
              "      <td>G G</td>\n",
              "      <td>G G</td>\n",
              "      <td>C C</td>\n",
              "      <td>A A</td>\n",
              "      <td>C C</td>\n",
              "      <td>...</td>\n",
              "      <td>A A</td>\n",
              "      <td>A A</td>\n",
              "      <td>A A</td>\n",
              "      <td>G G</td>\n",
              "      <td>A A</td>\n",
              "      <td>A A</td>\n",
              "      <td>A G</td>\n",
              "      <td>A A</td>\n",
              "      <td>G A</td>\n",
              "      <td>C</td>\n",
              "    </tr>\n",
              "    <tr>\n",
              "      <th>...</th>\n",
              "      <td>...</td>\n",
              "      <td>...</td>\n",
              "      <td>...</td>\n",
              "      <td>...</td>\n",
              "      <td>...</td>\n",
              "      <td>...</td>\n",
              "      <td>...</td>\n",
              "      <td>...</td>\n",
              "      <td>...</td>\n",
              "      <td>...</td>\n",
              "      <td>...</td>\n",
              "      <td>...</td>\n",
              "      <td>...</td>\n",
              "      <td>...</td>\n",
              "      <td>...</td>\n",
              "      <td>...</td>\n",
              "      <td>...</td>\n",
              "      <td>...</td>\n",
              "      <td>...</td>\n",
              "      <td>...</td>\n",
              "      <td>...</td>\n",
              "    </tr>\n",
              "    <tr>\n",
              "      <th>257</th>\n",
              "      <td>TRAIN_257</td>\n",
              "      <td>0</td>\n",
              "      <td>0</td>\n",
              "      <td>0</td>\n",
              "      <td>2</td>\n",
              "      <td>A G</td>\n",
              "      <td>A G</td>\n",
              "      <td>A A</td>\n",
              "      <td>G A</td>\n",
              "      <td>C C</td>\n",
              "      <td>...</td>\n",
              "      <td>A A</td>\n",
              "      <td>G A</td>\n",
              "      <td>A A</td>\n",
              "      <td>G G</td>\n",
              "      <td>A G</td>\n",
              "      <td>G A</td>\n",
              "      <td>A A</td>\n",
              "      <td>A A</td>\n",
              "      <td>A A</td>\n",
              "      <td>B</td>\n",
              "    </tr>\n",
              "    <tr>\n",
              "      <th>258</th>\n",
              "      <td>TRAIN_258</td>\n",
              "      <td>0</td>\n",
              "      <td>0</td>\n",
              "      <td>0</td>\n",
              "      <td>2</td>\n",
              "      <td>G G</td>\n",
              "      <td>A A</td>\n",
              "      <td>C A</td>\n",
              "      <td>A A</td>\n",
              "      <td>A A</td>\n",
              "      <td>...</td>\n",
              "      <td>G A</td>\n",
              "      <td>G A</td>\n",
              "      <td>A A</td>\n",
              "      <td>A G</td>\n",
              "      <td>A G</td>\n",
              "      <td>A A</td>\n",
              "      <td>A G</td>\n",
              "      <td>A A</td>\n",
              "      <td>G A</td>\n",
              "      <td>C</td>\n",
              "    </tr>\n",
              "    <tr>\n",
              "      <th>259</th>\n",
              "      <td>TRAIN_259</td>\n",
              "      <td>0</td>\n",
              "      <td>0</td>\n",
              "      <td>0</td>\n",
              "      <td>1</td>\n",
              "      <td>A G</td>\n",
              "      <td>G G</td>\n",
              "      <td>A A</td>\n",
              "      <td>G A</td>\n",
              "      <td>A A</td>\n",
              "      <td>...</td>\n",
              "      <td>G G</td>\n",
              "      <td>G A</td>\n",
              "      <td>G A</td>\n",
              "      <td>A A</td>\n",
              "      <td>G G</td>\n",
              "      <td>G G</td>\n",
              "      <td>G G</td>\n",
              "      <td>C A</td>\n",
              "      <td>G G</td>\n",
              "      <td>A</td>\n",
              "    </tr>\n",
              "    <tr>\n",
              "      <th>260</th>\n",
              "      <td>TRAIN_260</td>\n",
              "      <td>0</td>\n",
              "      <td>0</td>\n",
              "      <td>0</td>\n",
              "      <td>1</td>\n",
              "      <td>A A</td>\n",
              "      <td>G G</td>\n",
              "      <td>A A</td>\n",
              "      <td>G A</td>\n",
              "      <td>A A</td>\n",
              "      <td>...</td>\n",
              "      <td>G G</td>\n",
              "      <td>A A</td>\n",
              "      <td>G A</td>\n",
              "      <td>A G</td>\n",
              "      <td>A G</td>\n",
              "      <td>G A</td>\n",
              "      <td>G G</td>\n",
              "      <td>C A</td>\n",
              "      <td>G G</td>\n",
              "      <td>A</td>\n",
              "    </tr>\n",
              "    <tr>\n",
              "      <th>261</th>\n",
              "      <td>TRAIN_261</td>\n",
              "      <td>0</td>\n",
              "      <td>0</td>\n",
              "      <td>0</td>\n",
              "      <td>2</td>\n",
              "      <td>G G</td>\n",
              "      <td>A G</td>\n",
              "      <td>C A</td>\n",
              "      <td>G G</td>\n",
              "      <td>C C</td>\n",
              "      <td>...</td>\n",
              "      <td>A A</td>\n",
              "      <td>A A</td>\n",
              "      <td>A A</td>\n",
              "      <td>G G</td>\n",
              "      <td>A A</td>\n",
              "      <td>A A</td>\n",
              "      <td>G G</td>\n",
              "      <td>A A</td>\n",
              "      <td>G A</td>\n",
              "      <td>B</td>\n",
              "    </tr>\n",
              "  </tbody>\n",
              "</table>\n",
              "<p>262 rows × 21 columns</p>\n",
              "</div>\n",
              "      <button class=\"colab-df-convert\" onclick=\"convertToInteractive('df-54d043be-2983-41e7-b922-d8470cb25526')\"\n",
              "              title=\"Convert this dataframe to an interactive table.\"\n",
              "              style=\"display:none;\">\n",
              "        \n",
              "  <svg xmlns=\"http://www.w3.org/2000/svg\" height=\"24px\"viewBox=\"0 0 24 24\"\n",
              "       width=\"24px\">\n",
              "    <path d=\"M0 0h24v24H0V0z\" fill=\"none\"/>\n",
              "    <path d=\"M18.56 5.44l.94 2.06.94-2.06 2.06-.94-2.06-.94-.94-2.06-.94 2.06-2.06.94zm-11 1L8.5 8.5l.94-2.06 2.06-.94-2.06-.94L8.5 2.5l-.94 2.06-2.06.94zm10 10l.94 2.06.94-2.06 2.06-.94-2.06-.94-.94-2.06-.94 2.06-2.06.94z\"/><path d=\"M17.41 7.96l-1.37-1.37c-.4-.4-.92-.59-1.43-.59-.52 0-1.04.2-1.43.59L10.3 9.45l-7.72 7.72c-.78.78-.78 2.05 0 2.83L4 21.41c.39.39.9.59 1.41.59.51 0 1.02-.2 1.41-.59l7.78-7.78 2.81-2.81c.8-.78.8-2.07 0-2.86zM5.41 20L4 18.59l7.72-7.72 1.47 1.35L5.41 20z\"/>\n",
              "  </svg>\n",
              "      </button>\n",
              "      \n",
              "  <style>\n",
              "    .colab-df-container {\n",
              "      display:flex;\n",
              "      flex-wrap:wrap;\n",
              "      gap: 12px;\n",
              "    }\n",
              "\n",
              "    .colab-df-convert {\n",
              "      background-color: #E8F0FE;\n",
              "      border: none;\n",
              "      border-radius: 50%;\n",
              "      cursor: pointer;\n",
              "      display: none;\n",
              "      fill: #1967D2;\n",
              "      height: 32px;\n",
              "      padding: 0 0 0 0;\n",
              "      width: 32px;\n",
              "    }\n",
              "\n",
              "    .colab-df-convert:hover {\n",
              "      background-color: #E2EBFA;\n",
              "      box-shadow: 0px 1px 2px rgba(60, 64, 67, 0.3), 0px 1px 3px 1px rgba(60, 64, 67, 0.15);\n",
              "      fill: #174EA6;\n",
              "    }\n",
              "\n",
              "    [theme=dark] .colab-df-convert {\n",
              "      background-color: #3B4455;\n",
              "      fill: #D2E3FC;\n",
              "    }\n",
              "\n",
              "    [theme=dark] .colab-df-convert:hover {\n",
              "      background-color: #434B5C;\n",
              "      box-shadow: 0px 1px 3px 1px rgba(0, 0, 0, 0.15);\n",
              "      filter: drop-shadow(0px 1px 2px rgba(0, 0, 0, 0.3));\n",
              "      fill: #FFFFFF;\n",
              "    }\n",
              "  </style>\n",
              "\n",
              "      <script>\n",
              "        const buttonEl =\n",
              "          document.querySelector('#df-54d043be-2983-41e7-b922-d8470cb25526 button.colab-df-convert');\n",
              "        buttonEl.style.display =\n",
              "          google.colab.kernel.accessAllowed ? 'block' : 'none';\n",
              "\n",
              "        async function convertToInteractive(key) {\n",
              "          const element = document.querySelector('#df-54d043be-2983-41e7-b922-d8470cb25526');\n",
              "          const dataTable =\n",
              "            await google.colab.kernel.invokeFunction('convertToInteractive',\n",
              "                                                     [key], {});\n",
              "          if (!dataTable) return;\n",
              "\n",
              "          const docLinkHtml = 'Like what you see? Visit the ' +\n",
              "            '<a target=\"_blank\" href=https://colab.research.google.com/notebooks/data_table.ipynb>data table notebook</a>'\n",
              "            + ' to learn more about interactive tables.';\n",
              "          element.innerHTML = '';\n",
              "          dataTable['output_type'] = 'display_data';\n",
              "          await google.colab.output.renderOutput(dataTable, element);\n",
              "          const docLink = document.createElement('div');\n",
              "          docLink.innerHTML = docLinkHtml;\n",
              "          element.appendChild(docLink);\n",
              "        }\n",
              "      </script>\n",
              "    </div>\n",
              "  </div>\n",
              "  "
            ]
          },
          "metadata": {},
          "execution_count": 6
        }
      ]
    },
    {
      "cell_type": "code",
      "source": [
        "data = df.drop(['id', 'father', 'mother', 'gender', 'trait','class'], axis = 1)"
      ],
      "metadata": {
        "id": "EtshWf1FDfqK"
      },
      "execution_count": 7,
      "outputs": []
    },
    {
      "cell_type": "code",
      "source": [
        "target = df['class']"
      ],
      "metadata": {
        "id": "xKDwIM3HBiLd"
      },
      "execution_count": 8,
      "outputs": []
    },
    {
      "cell_type": "code",
      "source": [
        "info = pd.read_csv(\"snp_info.csv\", encoding='utf-8-sig', error_bad_lines=False)"
      ],
      "metadata": {
        "colab": {
          "base_uri": "https://localhost:8080/"
        },
        "id": "XPt0q106EpUJ",
        "outputId": "eea2bdf8-9d0c-4528-ee07-595b8e0ad8cc"
      },
      "execution_count": 9,
      "outputs": [
        {
          "output_type": "stream",
          "name": "stderr",
          "text": [
            "/usr/local/lib/python3.8/dist-packages/IPython/core/interactiveshell.py:3326: FutureWarning: The error_bad_lines argument has been deprecated and will be removed in a future version.\n",
            "\n",
            "\n",
            "  exec(code_obj, self.user_global_ns, self.user_ns)\n"
          ]
        }
      ]
    },
    {
      "cell_type": "code",
      "source": [
        "info"
      ],
      "metadata": {
        "colab": {
          "base_uri": "https://localhost:8080/",
          "height": 519
        },
        "id": "GApJDPTnFRA0",
        "outputId": "e07838ca-85c0-4ae0-80fc-45070e94c689"
      },
      "execution_count": 10,
      "outputs": [
        {
          "output_type": "execute_result",
          "data": {
            "text/plain": [
              "    SNP_id                                   name  chrom        cm       pos\n",
              "0   SNP_01                        BTA-19852-no-rs      2  67.05460  42986890\n",
              "1   SNP_02  ARS-USMARC-Parent-DQ647190-rs29013632      6  31.15670  13897068\n",
              "2   SNP_03                    ARS-BFGL-NGS-117009      6  68.28920  44649549\n",
              "3   SNP_04                     ARS-BFGL-NGS-60567      6  77.87490  53826064\n",
              "4   SNP_05                     BovineHD0600017032      6  80.50150  61779512\n",
              "5   SNP_06                     BovineHD0600017424      6  80.59540  63048481\n",
              "6   SNP_07                 Hapmap49442-BTA-111073      6  80.78000  64037334\n",
              "7   SNP_08                     BovineHD0600018638      6  82.68560  67510588\n",
              "8   SNP_09                     ARS-BFGL-NGS-37727      6  86.87400  73092782\n",
              "9   SNP_10                           BTB-01558306      7  62.06920  40827112\n",
              "10  SNP_11                     ARS-BFGL-NGS-44247      8  97.17310  92485682\n",
              "11  SNP_12                 Hapmap32827-BTA-146530      9  62.74630  55007839\n",
              "12  SNP_13                           BTB-00395482      9  63.41810  59692848\n",
              "13  SNP_14                  Hapmap40256-BTA-84189      9  66.81970  72822507\n",
              "14  SNP_15                     BovineHD1000000224     10   1.78774    814291"
            ],
            "text/html": [
              "\n",
              "  <div id=\"df-1e3dcb74-c320-4a03-8601-7136fc7b797e\">\n",
              "    <div class=\"colab-df-container\">\n",
              "      <div>\n",
              "<style scoped>\n",
              "    .dataframe tbody tr th:only-of-type {\n",
              "        vertical-align: middle;\n",
              "    }\n",
              "\n",
              "    .dataframe tbody tr th {\n",
              "        vertical-align: top;\n",
              "    }\n",
              "\n",
              "    .dataframe thead th {\n",
              "        text-align: right;\n",
              "    }\n",
              "</style>\n",
              "<table border=\"1\" class=\"dataframe\">\n",
              "  <thead>\n",
              "    <tr style=\"text-align: right;\">\n",
              "      <th></th>\n",
              "      <th>SNP_id</th>\n",
              "      <th>name</th>\n",
              "      <th>chrom</th>\n",
              "      <th>cm</th>\n",
              "      <th>pos</th>\n",
              "    </tr>\n",
              "  </thead>\n",
              "  <tbody>\n",
              "    <tr>\n",
              "      <th>0</th>\n",
              "      <td>SNP_01</td>\n",
              "      <td>BTA-19852-no-rs</td>\n",
              "      <td>2</td>\n",
              "      <td>67.05460</td>\n",
              "      <td>42986890</td>\n",
              "    </tr>\n",
              "    <tr>\n",
              "      <th>1</th>\n",
              "      <td>SNP_02</td>\n",
              "      <td>ARS-USMARC-Parent-DQ647190-rs29013632</td>\n",
              "      <td>6</td>\n",
              "      <td>31.15670</td>\n",
              "      <td>13897068</td>\n",
              "    </tr>\n",
              "    <tr>\n",
              "      <th>2</th>\n",
              "      <td>SNP_03</td>\n",
              "      <td>ARS-BFGL-NGS-117009</td>\n",
              "      <td>6</td>\n",
              "      <td>68.28920</td>\n",
              "      <td>44649549</td>\n",
              "    </tr>\n",
              "    <tr>\n",
              "      <th>3</th>\n",
              "      <td>SNP_04</td>\n",
              "      <td>ARS-BFGL-NGS-60567</td>\n",
              "      <td>6</td>\n",
              "      <td>77.87490</td>\n",
              "      <td>53826064</td>\n",
              "    </tr>\n",
              "    <tr>\n",
              "      <th>4</th>\n",
              "      <td>SNP_05</td>\n",
              "      <td>BovineHD0600017032</td>\n",
              "      <td>6</td>\n",
              "      <td>80.50150</td>\n",
              "      <td>61779512</td>\n",
              "    </tr>\n",
              "    <tr>\n",
              "      <th>5</th>\n",
              "      <td>SNP_06</td>\n",
              "      <td>BovineHD0600017424</td>\n",
              "      <td>6</td>\n",
              "      <td>80.59540</td>\n",
              "      <td>63048481</td>\n",
              "    </tr>\n",
              "    <tr>\n",
              "      <th>6</th>\n",
              "      <td>SNP_07</td>\n",
              "      <td>Hapmap49442-BTA-111073</td>\n",
              "      <td>6</td>\n",
              "      <td>80.78000</td>\n",
              "      <td>64037334</td>\n",
              "    </tr>\n",
              "    <tr>\n",
              "      <th>7</th>\n",
              "      <td>SNP_08</td>\n",
              "      <td>BovineHD0600018638</td>\n",
              "      <td>6</td>\n",
              "      <td>82.68560</td>\n",
              "      <td>67510588</td>\n",
              "    </tr>\n",
              "    <tr>\n",
              "      <th>8</th>\n",
              "      <td>SNP_09</td>\n",
              "      <td>ARS-BFGL-NGS-37727</td>\n",
              "      <td>6</td>\n",
              "      <td>86.87400</td>\n",
              "      <td>73092782</td>\n",
              "    </tr>\n",
              "    <tr>\n",
              "      <th>9</th>\n",
              "      <td>SNP_10</td>\n",
              "      <td>BTB-01558306</td>\n",
              "      <td>7</td>\n",
              "      <td>62.06920</td>\n",
              "      <td>40827112</td>\n",
              "    </tr>\n",
              "    <tr>\n",
              "      <th>10</th>\n",
              "      <td>SNP_11</td>\n",
              "      <td>ARS-BFGL-NGS-44247</td>\n",
              "      <td>8</td>\n",
              "      <td>97.17310</td>\n",
              "      <td>92485682</td>\n",
              "    </tr>\n",
              "    <tr>\n",
              "      <th>11</th>\n",
              "      <td>SNP_12</td>\n",
              "      <td>Hapmap32827-BTA-146530</td>\n",
              "      <td>9</td>\n",
              "      <td>62.74630</td>\n",
              "      <td>55007839</td>\n",
              "    </tr>\n",
              "    <tr>\n",
              "      <th>12</th>\n",
              "      <td>SNP_13</td>\n",
              "      <td>BTB-00395482</td>\n",
              "      <td>9</td>\n",
              "      <td>63.41810</td>\n",
              "      <td>59692848</td>\n",
              "    </tr>\n",
              "    <tr>\n",
              "      <th>13</th>\n",
              "      <td>SNP_14</td>\n",
              "      <td>Hapmap40256-BTA-84189</td>\n",
              "      <td>9</td>\n",
              "      <td>66.81970</td>\n",
              "      <td>72822507</td>\n",
              "    </tr>\n",
              "    <tr>\n",
              "      <th>14</th>\n",
              "      <td>SNP_15</td>\n",
              "      <td>BovineHD1000000224</td>\n",
              "      <td>10</td>\n",
              "      <td>1.78774</td>\n",
              "      <td>814291</td>\n",
              "    </tr>\n",
              "  </tbody>\n",
              "</table>\n",
              "</div>\n",
              "      <button class=\"colab-df-convert\" onclick=\"convertToInteractive('df-1e3dcb74-c320-4a03-8601-7136fc7b797e')\"\n",
              "              title=\"Convert this dataframe to an interactive table.\"\n",
              "              style=\"display:none;\">\n",
              "        \n",
              "  <svg xmlns=\"http://www.w3.org/2000/svg\" height=\"24px\"viewBox=\"0 0 24 24\"\n",
              "       width=\"24px\">\n",
              "    <path d=\"M0 0h24v24H0V0z\" fill=\"none\"/>\n",
              "    <path d=\"M18.56 5.44l.94 2.06.94-2.06 2.06-.94-2.06-.94-.94-2.06-.94 2.06-2.06.94zm-11 1L8.5 8.5l.94-2.06 2.06-.94-2.06-.94L8.5 2.5l-.94 2.06-2.06.94zm10 10l.94 2.06.94-2.06 2.06-.94-2.06-.94-.94-2.06-.94 2.06-2.06.94z\"/><path d=\"M17.41 7.96l-1.37-1.37c-.4-.4-.92-.59-1.43-.59-.52 0-1.04.2-1.43.59L10.3 9.45l-7.72 7.72c-.78.78-.78 2.05 0 2.83L4 21.41c.39.39.9.59 1.41.59.51 0 1.02-.2 1.41-.59l7.78-7.78 2.81-2.81c.8-.78.8-2.07 0-2.86zM5.41 20L4 18.59l7.72-7.72 1.47 1.35L5.41 20z\"/>\n",
              "  </svg>\n",
              "      </button>\n",
              "      \n",
              "  <style>\n",
              "    .colab-df-container {\n",
              "      display:flex;\n",
              "      flex-wrap:wrap;\n",
              "      gap: 12px;\n",
              "    }\n",
              "\n",
              "    .colab-df-convert {\n",
              "      background-color: #E8F0FE;\n",
              "      border: none;\n",
              "      border-radius: 50%;\n",
              "      cursor: pointer;\n",
              "      display: none;\n",
              "      fill: #1967D2;\n",
              "      height: 32px;\n",
              "      padding: 0 0 0 0;\n",
              "      width: 32px;\n",
              "    }\n",
              "\n",
              "    .colab-df-convert:hover {\n",
              "      background-color: #E2EBFA;\n",
              "      box-shadow: 0px 1px 2px rgba(60, 64, 67, 0.3), 0px 1px 3px 1px rgba(60, 64, 67, 0.15);\n",
              "      fill: #174EA6;\n",
              "    }\n",
              "\n",
              "    [theme=dark] .colab-df-convert {\n",
              "      background-color: #3B4455;\n",
              "      fill: #D2E3FC;\n",
              "    }\n",
              "\n",
              "    [theme=dark] .colab-df-convert:hover {\n",
              "      background-color: #434B5C;\n",
              "      box-shadow: 0px 1px 3px 1px rgba(0, 0, 0, 0.15);\n",
              "      filter: drop-shadow(0px 1px 2px rgba(0, 0, 0, 0.3));\n",
              "      fill: #FFFFFF;\n",
              "    }\n",
              "  </style>\n",
              "\n",
              "      <script>\n",
              "        const buttonEl =\n",
              "          document.querySelector('#df-1e3dcb74-c320-4a03-8601-7136fc7b797e button.colab-df-convert');\n",
              "        buttonEl.style.display =\n",
              "          google.colab.kernel.accessAllowed ? 'block' : 'none';\n",
              "\n",
              "        async function convertToInteractive(key) {\n",
              "          const element = document.querySelector('#df-1e3dcb74-c320-4a03-8601-7136fc7b797e');\n",
              "          const dataTable =\n",
              "            await google.colab.kernel.invokeFunction('convertToInteractive',\n",
              "                                                     [key], {});\n",
              "          if (!dataTable) return;\n",
              "\n",
              "          const docLinkHtml = 'Like what you see? Visit the ' +\n",
              "            '<a target=\"_blank\" href=https://colab.research.google.com/notebooks/data_table.ipynb>data table notebook</a>'\n",
              "            + ' to learn more about interactive tables.';\n",
              "          element.innerHTML = '';\n",
              "          dataTable['output_type'] = 'display_data';\n",
              "          await google.colab.output.renderOutput(dataTable, element);\n",
              "          const docLink = document.createElement('div');\n",
              "          docLink.innerHTML = docLinkHtml;\n",
              "          element.appendChild(docLink);\n",
              "        }\n",
              "      </script>\n",
              "    </div>\n",
              "  </div>\n",
              "  "
            ]
          },
          "metadata": {},
          "execution_count": 10
        }
      ]
    },
    {
      "cell_type": "markdown",
      "source": [
        "- name : SNP 명\n",
        "- chrom : 염색체 정보\n",
        "- cm : Genetic distance\n",
        "- pos : 각 마커의 유전체상 위치 정보\n",
        "\n",
        "- 내가 알기로 Genetic distance가 가까울 수록 비슷한 종이고 멀수록 서로 많이 다른 종자가 된다. (computing genetic distance, we can estimate how long ago the two populations were separated)\n",
        "\n",
        "- SNP는 DNA의 어느 한 부분을 뜻하는 말이고, 여기에 올 수 있는 DNA code가 일반적으로 2종류여서 예를 들어 SNP-1은 A, G가 올수 있기 때문에 SNP-1자리에 올 수 있는 유전자형은 AA, AG, GG 세가지가 된다.\n",
        "\n",
        "-http://www.incodom.kr/SNP#h_2c088d3d06d5a44395884bd694e4f8ac"
      ],
      "metadata": {
        "id": "F_lcw0t8Fe0F"
      }
    },
    {
      "cell_type": "markdown",
      "source": [
        "## 데이터 전처리\n",
        "- class(y_train, y_test)는 다중분류므로 라벨 인코딩과 원핫 인코딩을 적용해준다\n",
        "- SNP는 만들어지는 경우의 수가 3가지 뿐이므로 각 열을 따로 인코딩 해준다\n",
        "- 0,1,2로 나눠지는 데이터를 MinMax로 0~1 사이로 만들어준다"
      ],
      "metadata": {
        "id": "RP5Tuq_ieoka"
      }
    },
    {
      "cell_type": "code",
      "source": [
        "class CFG:\n",
        "    SEED = 42"
      ],
      "metadata": {
        "id": "Rw7uk127IIF-"
      },
      "execution_count": 11,
      "outputs": []
    },
    {
      "cell_type": "code",
      "source": [
        "def seed_everything(seed):\n",
        "    np.random.seed(seed)\n",
        "    os.environ['PYTHONHASHSEED'] = str(seed)\n",
        "    np.random.seed(seed)\n",
        "seed_everything(CFG.SEED) # Seed 고정"
      ],
      "metadata": {
        "id": "YUk4Qb_pId8G"
      },
      "execution_count": 12,
      "outputs": []
    },
    {
      "cell_type": "code",
      "source": [
        "X_train, X_test, y_train, y_test = train_test_split(data, target, test_size = 0.2, random_state=CFG.SEED, stratify=target)"
      ],
      "metadata": {
        "id": "tE7sHNBlIj_7"
      },
      "execution_count": 13,
      "outputs": []
    },
    {
      "cell_type": "markdown",
      "source": [
        "- y데이터(라벨링)에는 원핫 인코딩을 적용해준다"
      ],
      "metadata": {
        "id": "Rz9wt2k2VOoS"
      }
    },
    {
      "cell_type": "code",
      "source": [
        "#먼저 라벨 인코더\n",
        "target_label = preprocessing.LabelEncoder()\n",
        "y_train_scaled_ = target_label.fit_transform(y_train)"
      ],
      "metadata": {
        "id": "BlfiCNTuUvdk"
      },
      "execution_count": 14,
      "outputs": []
    },
    {
      "cell_type": "code",
      "source": [
        "#원핫인코더\n",
        "from keras.utils import np_utils\n",
        "y_train_scaled = np_utils.to_categorical(y_train_scaled_)"
      ],
      "metadata": {
        "id": "VKl-JB_vX5Cc"
      },
      "execution_count": 15,
      "outputs": []
    },
    {
      "cell_type": "markdown",
      "source": [
        "- 각 SNP별로 따로따로 인코딩"
      ],
      "metadata": {
        "id": "dUDCmpdfJiow"
      }
    },
    {
      "cell_type": "code",
      "source": [
        "snp_1 =  preprocessing.LabelEncoder()\n",
        "snp_2 =  preprocessing.LabelEncoder()\n",
        "snp_3 =  preprocessing.LabelEncoder()\n",
        "snp_4 =  preprocessing.LabelEncoder()\n",
        "snp_5 =  preprocessing.LabelEncoder()\n",
        "snp_6 =  preprocessing.LabelEncoder()\n",
        "snp_7 =  preprocessing.LabelEncoder()\n",
        "snp_8 =  preprocessing.LabelEncoder()\n",
        "snp_9 =  preprocessing.LabelEncoder()\n",
        "snp_10 =  preprocessing.LabelEncoder()\n",
        "snp_11 =  preprocessing.LabelEncoder()\n",
        "snp_12 =  preprocessing.LabelEncoder()\n",
        "snp_13 =  preprocessing.LabelEncoder()\n",
        "snp_14 =  preprocessing.LabelEncoder()\n",
        "snp_15 =  preprocessing.LabelEncoder()"
      ],
      "metadata": {
        "id": "sN3FkwokNnC9"
      },
      "execution_count": 16,
      "outputs": []
    },
    {
      "cell_type": "code",
      "source": [
        "snp_1.fit(data['SNP_01'])\n",
        "snp_2.fit(data['SNP_02'])\n",
        "snp_3.fit(data['SNP_03'])\n",
        "snp_4.fit(data['SNP_04'])\n",
        "snp_5.fit(data['SNP_05'])\n",
        "snp_6.fit(data['SNP_06'])\n",
        "snp_7.fit(data['SNP_07'])\n",
        "snp_8.fit(data['SNP_08'])\n",
        "snp_9.fit(data['SNP_09'])\n",
        "snp_10.fit(data['SNP_10'])\n",
        "snp_11.fit(data['SNP_11'])\n",
        "snp_12.fit(data['SNP_12'])\n",
        "snp_13.fit(data['SNP_13'])\n",
        "snp_14.fit(data['SNP_14'])\n",
        "snp_15.fit(data['SNP_15'])"
      ],
      "metadata": {
        "colab": {
          "base_uri": "https://localhost:8080/"
        },
        "id": "-Al8k1RKIDj1",
        "outputId": "10ce7b93-733c-459f-c78e-639fd7c51c17"
      },
      "execution_count": 17,
      "outputs": [
        {
          "output_type": "execute_result",
          "data": {
            "text/plain": [
              "LabelEncoder()"
            ]
          },
          "metadata": {},
          "execution_count": 17
        }
      ]
    },
    {
      "cell_type": "code",
      "source": [
        "X_train['SNP_01'] = snp_1.transform(X_train['SNP_01'])\n",
        "X_train['SNP_02'] = snp_2.transform(X_train['SNP_02'])\n",
        "X_train['SNP_03'] = snp_3.transform(X_train['SNP_03'])\n",
        "X_train['SNP_04'] = snp_4.transform(X_train['SNP_04'])\n",
        "X_train['SNP_05'] = snp_5.transform(X_train['SNP_05'])\n",
        "X_train['SNP_06'] = snp_6.transform(X_train['SNP_06'])\n",
        "X_train['SNP_07'] = snp_7.transform(X_train['SNP_07'])\n",
        "X_train['SNP_08'] = snp_8.transform(X_train['SNP_08'])\n",
        "X_train['SNP_09'] = snp_9.transform(X_train['SNP_09'])\n",
        "X_train['SNP_10'] = snp_10.transform(X_train['SNP_10'])\n",
        "X_train['SNP_11'] = snp_11.transform(X_train['SNP_11'])\n",
        "X_train['SNP_12'] = snp_12.transform(X_train['SNP_12'])\n",
        "X_train['SNP_13'] = snp_13.transform(X_train['SNP_13'])\n",
        "X_train['SNP_14'] = snp_14.transform(X_train['SNP_14'])\n",
        "X_train['SNP_15'] = snp_15.transform(X_train['SNP_15'])"
      ],
      "metadata": {
        "id": "cMvus2iDIGQG"
      },
      "execution_count": 18,
      "outputs": []
    },
    {
      "cell_type": "code",
      "source": [
        "X_train.head()"
      ],
      "metadata": {
        "colab": {
          "base_uri": "https://localhost:8080/",
          "height": 206
        },
        "id": "fqiESkbuJlI0",
        "outputId": "c255bb76-bd86-4c94-d54e-b22ffc1749ac"
      },
      "execution_count": 19,
      "outputs": [
        {
          "output_type": "execute_result",
          "data": {
            "text/plain": [
              "     SNP_01  SNP_02  SNP_03  SNP_04  SNP_05  SNP_06  SNP_07  SNP_08  SNP_09  \\\n",
              "123       1       1       0       2       0       2       2       0       2   \n",
              "189       2       0       1       0       0       1       0       1       0   \n",
              "49        0       2       0       1       0       2       2       0       1   \n",
              "198       2       1       1       0       2       0       0       2       1   \n",
              "29        1       2       0       1       0       2       2       0       1   \n",
              "\n",
              "     SNP_10  SNP_11  SNP_12  SNP_13  SNP_14  SNP_15  \n",
              "123       0       2       1       2       1       1  \n",
              "189       1       0       0       1       0       0  \n",
              "49        0       2       1       2       1       2  \n",
              "198       2       2       0       1       0       1  \n",
              "29        0       2       2       2       0       2  "
            ],
            "text/html": [
              "\n",
              "  <div id=\"df-679ebe81-f838-4582-bc3e-4fb50823904d\">\n",
              "    <div class=\"colab-df-container\">\n",
              "      <div>\n",
              "<style scoped>\n",
              "    .dataframe tbody tr th:only-of-type {\n",
              "        vertical-align: middle;\n",
              "    }\n",
              "\n",
              "    .dataframe tbody tr th {\n",
              "        vertical-align: top;\n",
              "    }\n",
              "\n",
              "    .dataframe thead th {\n",
              "        text-align: right;\n",
              "    }\n",
              "</style>\n",
              "<table border=\"1\" class=\"dataframe\">\n",
              "  <thead>\n",
              "    <tr style=\"text-align: right;\">\n",
              "      <th></th>\n",
              "      <th>SNP_01</th>\n",
              "      <th>SNP_02</th>\n",
              "      <th>SNP_03</th>\n",
              "      <th>SNP_04</th>\n",
              "      <th>SNP_05</th>\n",
              "      <th>SNP_06</th>\n",
              "      <th>SNP_07</th>\n",
              "      <th>SNP_08</th>\n",
              "      <th>SNP_09</th>\n",
              "      <th>SNP_10</th>\n",
              "      <th>SNP_11</th>\n",
              "      <th>SNP_12</th>\n",
              "      <th>SNP_13</th>\n",
              "      <th>SNP_14</th>\n",
              "      <th>SNP_15</th>\n",
              "    </tr>\n",
              "  </thead>\n",
              "  <tbody>\n",
              "    <tr>\n",
              "      <th>123</th>\n",
              "      <td>1</td>\n",
              "      <td>1</td>\n",
              "      <td>0</td>\n",
              "      <td>2</td>\n",
              "      <td>0</td>\n",
              "      <td>2</td>\n",
              "      <td>2</td>\n",
              "      <td>0</td>\n",
              "      <td>2</td>\n",
              "      <td>0</td>\n",
              "      <td>2</td>\n",
              "      <td>1</td>\n",
              "      <td>2</td>\n",
              "      <td>1</td>\n",
              "      <td>1</td>\n",
              "    </tr>\n",
              "    <tr>\n",
              "      <th>189</th>\n",
              "      <td>2</td>\n",
              "      <td>0</td>\n",
              "      <td>1</td>\n",
              "      <td>0</td>\n",
              "      <td>0</td>\n",
              "      <td>1</td>\n",
              "      <td>0</td>\n",
              "      <td>1</td>\n",
              "      <td>0</td>\n",
              "      <td>1</td>\n",
              "      <td>0</td>\n",
              "      <td>0</td>\n",
              "      <td>1</td>\n",
              "      <td>0</td>\n",
              "      <td>0</td>\n",
              "    </tr>\n",
              "    <tr>\n",
              "      <th>49</th>\n",
              "      <td>0</td>\n",
              "      <td>2</td>\n",
              "      <td>0</td>\n",
              "      <td>1</td>\n",
              "      <td>0</td>\n",
              "      <td>2</td>\n",
              "      <td>2</td>\n",
              "      <td>0</td>\n",
              "      <td>1</td>\n",
              "      <td>0</td>\n",
              "      <td>2</td>\n",
              "      <td>1</td>\n",
              "      <td>2</td>\n",
              "      <td>1</td>\n",
              "      <td>2</td>\n",
              "    </tr>\n",
              "    <tr>\n",
              "      <th>198</th>\n",
              "      <td>2</td>\n",
              "      <td>1</td>\n",
              "      <td>1</td>\n",
              "      <td>0</td>\n",
              "      <td>2</td>\n",
              "      <td>0</td>\n",
              "      <td>0</td>\n",
              "      <td>2</td>\n",
              "      <td>1</td>\n",
              "      <td>2</td>\n",
              "      <td>2</td>\n",
              "      <td>0</td>\n",
              "      <td>1</td>\n",
              "      <td>0</td>\n",
              "      <td>1</td>\n",
              "    </tr>\n",
              "    <tr>\n",
              "      <th>29</th>\n",
              "      <td>1</td>\n",
              "      <td>2</td>\n",
              "      <td>0</td>\n",
              "      <td>1</td>\n",
              "      <td>0</td>\n",
              "      <td>2</td>\n",
              "      <td>2</td>\n",
              "      <td>0</td>\n",
              "      <td>1</td>\n",
              "      <td>0</td>\n",
              "      <td>2</td>\n",
              "      <td>2</td>\n",
              "      <td>2</td>\n",
              "      <td>0</td>\n",
              "      <td>2</td>\n",
              "    </tr>\n",
              "  </tbody>\n",
              "</table>\n",
              "</div>\n",
              "      <button class=\"colab-df-convert\" onclick=\"convertToInteractive('df-679ebe81-f838-4582-bc3e-4fb50823904d')\"\n",
              "              title=\"Convert this dataframe to an interactive table.\"\n",
              "              style=\"display:none;\">\n",
              "        \n",
              "  <svg xmlns=\"http://www.w3.org/2000/svg\" height=\"24px\"viewBox=\"0 0 24 24\"\n",
              "       width=\"24px\">\n",
              "    <path d=\"M0 0h24v24H0V0z\" fill=\"none\"/>\n",
              "    <path d=\"M18.56 5.44l.94 2.06.94-2.06 2.06-.94-2.06-.94-.94-2.06-.94 2.06-2.06.94zm-11 1L8.5 8.5l.94-2.06 2.06-.94-2.06-.94L8.5 2.5l-.94 2.06-2.06.94zm10 10l.94 2.06.94-2.06 2.06-.94-2.06-.94-.94-2.06-.94 2.06-2.06.94z\"/><path d=\"M17.41 7.96l-1.37-1.37c-.4-.4-.92-.59-1.43-.59-.52 0-1.04.2-1.43.59L10.3 9.45l-7.72 7.72c-.78.78-.78 2.05 0 2.83L4 21.41c.39.39.9.59 1.41.59.51 0 1.02-.2 1.41-.59l7.78-7.78 2.81-2.81c.8-.78.8-2.07 0-2.86zM5.41 20L4 18.59l7.72-7.72 1.47 1.35L5.41 20z\"/>\n",
              "  </svg>\n",
              "      </button>\n",
              "      \n",
              "  <style>\n",
              "    .colab-df-container {\n",
              "      display:flex;\n",
              "      flex-wrap:wrap;\n",
              "      gap: 12px;\n",
              "    }\n",
              "\n",
              "    .colab-df-convert {\n",
              "      background-color: #E8F0FE;\n",
              "      border: none;\n",
              "      border-radius: 50%;\n",
              "      cursor: pointer;\n",
              "      display: none;\n",
              "      fill: #1967D2;\n",
              "      height: 32px;\n",
              "      padding: 0 0 0 0;\n",
              "      width: 32px;\n",
              "    }\n",
              "\n",
              "    .colab-df-convert:hover {\n",
              "      background-color: #E2EBFA;\n",
              "      box-shadow: 0px 1px 2px rgba(60, 64, 67, 0.3), 0px 1px 3px 1px rgba(60, 64, 67, 0.15);\n",
              "      fill: #174EA6;\n",
              "    }\n",
              "\n",
              "    [theme=dark] .colab-df-convert {\n",
              "      background-color: #3B4455;\n",
              "      fill: #D2E3FC;\n",
              "    }\n",
              "\n",
              "    [theme=dark] .colab-df-convert:hover {\n",
              "      background-color: #434B5C;\n",
              "      box-shadow: 0px 1px 3px 1px rgba(0, 0, 0, 0.15);\n",
              "      filter: drop-shadow(0px 1px 2px rgba(0, 0, 0, 0.3));\n",
              "      fill: #FFFFFF;\n",
              "    }\n",
              "  </style>\n",
              "\n",
              "      <script>\n",
              "        const buttonEl =\n",
              "          document.querySelector('#df-679ebe81-f838-4582-bc3e-4fb50823904d button.colab-df-convert');\n",
              "        buttonEl.style.display =\n",
              "          google.colab.kernel.accessAllowed ? 'block' : 'none';\n",
              "\n",
              "        async function convertToInteractive(key) {\n",
              "          const element = document.querySelector('#df-679ebe81-f838-4582-bc3e-4fb50823904d');\n",
              "          const dataTable =\n",
              "            await google.colab.kernel.invokeFunction('convertToInteractive',\n",
              "                                                     [key], {});\n",
              "          if (!dataTable) return;\n",
              "\n",
              "          const docLinkHtml = 'Like what you see? Visit the ' +\n",
              "            '<a target=\"_blank\" href=https://colab.research.google.com/notebooks/data_table.ipynb>data table notebook</a>'\n",
              "            + ' to learn more about interactive tables.';\n",
              "          element.innerHTML = '';\n",
              "          dataTable['output_type'] = 'display_data';\n",
              "          await google.colab.output.renderOutput(dataTable, element);\n",
              "          const docLink = document.createElement('div');\n",
              "          docLink.innerHTML = docLinkHtml;\n",
              "          element.appendChild(docLink);\n",
              "        }\n",
              "      </script>\n",
              "    </div>\n",
              "  </div>\n",
              "  "
            ]
          },
          "metadata": {},
          "execution_count": 19
        }
      ]
    },
    {
      "cell_type": "code",
      "source": [
        "X_test['SNP_01'] = snp_1.transform(X_test['SNP_01'])\n",
        "X_test['SNP_02'] = snp_2.transform(X_test['SNP_02'])\n",
        "X_test['SNP_03'] = snp_3.transform(X_test['SNP_03'])\n",
        "X_test['SNP_04'] = snp_4.transform(X_test['SNP_04'])\n",
        "X_test['SNP_05'] = snp_5.transform(X_test['SNP_05'])\n",
        "X_test['SNP_06'] = snp_6.transform(X_test['SNP_06'])\n",
        "X_test['SNP_07'] = snp_7.transform(X_test['SNP_07'])\n",
        "X_test['SNP_08'] = snp_8.transform(X_test['SNP_08'])\n",
        "X_test['SNP_09'] = snp_9.transform(X_test['SNP_09'])\n",
        "X_test['SNP_10'] = snp_10.transform(X_test['SNP_10'])\n",
        "X_test['SNP_11'] = snp_11.transform(X_test['SNP_11'])\n",
        "X_test['SNP_12'] = snp_12.transform(X_test['SNP_12'])\n",
        "X_test['SNP_13'] = snp_13.transform(X_test['SNP_13'])\n",
        "X_test['SNP_14'] = snp_14.transform(X_test['SNP_14'])\n",
        "X_test['SNP_15'] = snp_15.transform(X_test['SNP_15'])"
      ],
      "metadata": {
        "id": "Zc4iHw3dQU-j"
      },
      "execution_count": 20,
      "outputs": []
    },
    {
      "cell_type": "code",
      "source": [
        "X_test.head(5)"
      ],
      "metadata": {
        "colab": {
          "base_uri": "https://localhost:8080/",
          "height": 206
        },
        "id": "PRDfKSnkQXT1",
        "outputId": "f867c3fa-a358-4ee6-949b-70ff53de63b7"
      },
      "execution_count": 21,
      "outputs": [
        {
          "output_type": "execute_result",
          "data": {
            "text/plain": [
              "     SNP_01  SNP_02  SNP_03  SNP_04  SNP_05  SNP_06  SNP_07  SNP_08  SNP_09  \\\n",
              "15        0       2       0       2       0       2       2       0       2   \n",
              "139       2       2       1       1       2       0       0       2       0   \n",
              "204       0       2       0       1       0       2       2       0       1   \n",
              "114       2       2       1       0       1       1       0       2       0   \n",
              "16        0       2       0       2       0       2       2       0       1   \n",
              "\n",
              "     SNP_10  SNP_11  SNP_12  SNP_13  SNP_14  SNP_15  \n",
              "15        1       1       1       2       2       2  \n",
              "139       2       0       0       0       0       1  \n",
              "204       1       2       2       2       0       2  \n",
              "114       2       1       0       1       0       0  \n",
              "16        2       1       2       2       1       2  "
            ],
            "text/html": [
              "\n",
              "  <div id=\"df-298818fc-28b5-49f2-a966-ff02a50282ff\">\n",
              "    <div class=\"colab-df-container\">\n",
              "      <div>\n",
              "<style scoped>\n",
              "    .dataframe tbody tr th:only-of-type {\n",
              "        vertical-align: middle;\n",
              "    }\n",
              "\n",
              "    .dataframe tbody tr th {\n",
              "        vertical-align: top;\n",
              "    }\n",
              "\n",
              "    .dataframe thead th {\n",
              "        text-align: right;\n",
              "    }\n",
              "</style>\n",
              "<table border=\"1\" class=\"dataframe\">\n",
              "  <thead>\n",
              "    <tr style=\"text-align: right;\">\n",
              "      <th></th>\n",
              "      <th>SNP_01</th>\n",
              "      <th>SNP_02</th>\n",
              "      <th>SNP_03</th>\n",
              "      <th>SNP_04</th>\n",
              "      <th>SNP_05</th>\n",
              "      <th>SNP_06</th>\n",
              "      <th>SNP_07</th>\n",
              "      <th>SNP_08</th>\n",
              "      <th>SNP_09</th>\n",
              "      <th>SNP_10</th>\n",
              "      <th>SNP_11</th>\n",
              "      <th>SNP_12</th>\n",
              "      <th>SNP_13</th>\n",
              "      <th>SNP_14</th>\n",
              "      <th>SNP_15</th>\n",
              "    </tr>\n",
              "  </thead>\n",
              "  <tbody>\n",
              "    <tr>\n",
              "      <th>15</th>\n",
              "      <td>0</td>\n",
              "      <td>2</td>\n",
              "      <td>0</td>\n",
              "      <td>2</td>\n",
              "      <td>0</td>\n",
              "      <td>2</td>\n",
              "      <td>2</td>\n",
              "      <td>0</td>\n",
              "      <td>2</td>\n",
              "      <td>1</td>\n",
              "      <td>1</td>\n",
              "      <td>1</td>\n",
              "      <td>2</td>\n",
              "      <td>2</td>\n",
              "      <td>2</td>\n",
              "    </tr>\n",
              "    <tr>\n",
              "      <th>139</th>\n",
              "      <td>2</td>\n",
              "      <td>2</td>\n",
              "      <td>1</td>\n",
              "      <td>1</td>\n",
              "      <td>2</td>\n",
              "      <td>0</td>\n",
              "      <td>0</td>\n",
              "      <td>2</td>\n",
              "      <td>0</td>\n",
              "      <td>2</td>\n",
              "      <td>0</td>\n",
              "      <td>0</td>\n",
              "      <td>0</td>\n",
              "      <td>0</td>\n",
              "      <td>1</td>\n",
              "    </tr>\n",
              "    <tr>\n",
              "      <th>204</th>\n",
              "      <td>0</td>\n",
              "      <td>2</td>\n",
              "      <td>0</td>\n",
              "      <td>1</td>\n",
              "      <td>0</td>\n",
              "      <td>2</td>\n",
              "      <td>2</td>\n",
              "      <td>0</td>\n",
              "      <td>1</td>\n",
              "      <td>1</td>\n",
              "      <td>2</td>\n",
              "      <td>2</td>\n",
              "      <td>2</td>\n",
              "      <td>0</td>\n",
              "      <td>2</td>\n",
              "    </tr>\n",
              "    <tr>\n",
              "      <th>114</th>\n",
              "      <td>2</td>\n",
              "      <td>2</td>\n",
              "      <td>1</td>\n",
              "      <td>0</td>\n",
              "      <td>1</td>\n",
              "      <td>1</td>\n",
              "      <td>0</td>\n",
              "      <td>2</td>\n",
              "      <td>0</td>\n",
              "      <td>2</td>\n",
              "      <td>1</td>\n",
              "      <td>0</td>\n",
              "      <td>1</td>\n",
              "      <td>0</td>\n",
              "      <td>0</td>\n",
              "    </tr>\n",
              "    <tr>\n",
              "      <th>16</th>\n",
              "      <td>0</td>\n",
              "      <td>2</td>\n",
              "      <td>0</td>\n",
              "      <td>2</td>\n",
              "      <td>0</td>\n",
              "      <td>2</td>\n",
              "      <td>2</td>\n",
              "      <td>0</td>\n",
              "      <td>1</td>\n",
              "      <td>2</td>\n",
              "      <td>1</td>\n",
              "      <td>2</td>\n",
              "      <td>2</td>\n",
              "      <td>1</td>\n",
              "      <td>2</td>\n",
              "    </tr>\n",
              "  </tbody>\n",
              "</table>\n",
              "</div>\n",
              "      <button class=\"colab-df-convert\" onclick=\"convertToInteractive('df-298818fc-28b5-49f2-a966-ff02a50282ff')\"\n",
              "              title=\"Convert this dataframe to an interactive table.\"\n",
              "              style=\"display:none;\">\n",
              "        \n",
              "  <svg xmlns=\"http://www.w3.org/2000/svg\" height=\"24px\"viewBox=\"0 0 24 24\"\n",
              "       width=\"24px\">\n",
              "    <path d=\"M0 0h24v24H0V0z\" fill=\"none\"/>\n",
              "    <path d=\"M18.56 5.44l.94 2.06.94-2.06 2.06-.94-2.06-.94-.94-2.06-.94 2.06-2.06.94zm-11 1L8.5 8.5l.94-2.06 2.06-.94-2.06-.94L8.5 2.5l-.94 2.06-2.06.94zm10 10l.94 2.06.94-2.06 2.06-.94-2.06-.94-.94-2.06-.94 2.06-2.06.94z\"/><path d=\"M17.41 7.96l-1.37-1.37c-.4-.4-.92-.59-1.43-.59-.52 0-1.04.2-1.43.59L10.3 9.45l-7.72 7.72c-.78.78-.78 2.05 0 2.83L4 21.41c.39.39.9.59 1.41.59.51 0 1.02-.2 1.41-.59l7.78-7.78 2.81-2.81c.8-.78.8-2.07 0-2.86zM5.41 20L4 18.59l7.72-7.72 1.47 1.35L5.41 20z\"/>\n",
              "  </svg>\n",
              "      </button>\n",
              "      \n",
              "  <style>\n",
              "    .colab-df-container {\n",
              "      display:flex;\n",
              "      flex-wrap:wrap;\n",
              "      gap: 12px;\n",
              "    }\n",
              "\n",
              "    .colab-df-convert {\n",
              "      background-color: #E8F0FE;\n",
              "      border: none;\n",
              "      border-radius: 50%;\n",
              "      cursor: pointer;\n",
              "      display: none;\n",
              "      fill: #1967D2;\n",
              "      height: 32px;\n",
              "      padding: 0 0 0 0;\n",
              "      width: 32px;\n",
              "    }\n",
              "\n",
              "    .colab-df-convert:hover {\n",
              "      background-color: #E2EBFA;\n",
              "      box-shadow: 0px 1px 2px rgba(60, 64, 67, 0.3), 0px 1px 3px 1px rgba(60, 64, 67, 0.15);\n",
              "      fill: #174EA6;\n",
              "    }\n",
              "\n",
              "    [theme=dark] .colab-df-convert {\n",
              "      background-color: #3B4455;\n",
              "      fill: #D2E3FC;\n",
              "    }\n",
              "\n",
              "    [theme=dark] .colab-df-convert:hover {\n",
              "      background-color: #434B5C;\n",
              "      box-shadow: 0px 1px 3px 1px rgba(0, 0, 0, 0.15);\n",
              "      filter: drop-shadow(0px 1px 2px rgba(0, 0, 0, 0.3));\n",
              "      fill: #FFFFFF;\n",
              "    }\n",
              "  </style>\n",
              "\n",
              "      <script>\n",
              "        const buttonEl =\n",
              "          document.querySelector('#df-298818fc-28b5-49f2-a966-ff02a50282ff button.colab-df-convert');\n",
              "        buttonEl.style.display =\n",
              "          google.colab.kernel.accessAllowed ? 'block' : 'none';\n",
              "\n",
              "        async function convertToInteractive(key) {\n",
              "          const element = document.querySelector('#df-298818fc-28b5-49f2-a966-ff02a50282ff');\n",
              "          const dataTable =\n",
              "            await google.colab.kernel.invokeFunction('convertToInteractive',\n",
              "                                                     [key], {});\n",
              "          if (!dataTable) return;\n",
              "\n",
              "          const docLinkHtml = 'Like what you see? Visit the ' +\n",
              "            '<a target=\"_blank\" href=https://colab.research.google.com/notebooks/data_table.ipynb>data table notebook</a>'\n",
              "            + ' to learn more about interactive tables.';\n",
              "          element.innerHTML = '';\n",
              "          dataTable['output_type'] = 'display_data';\n",
              "          await google.colab.output.renderOutput(dataTable, element);\n",
              "          const docLink = document.createElement('div');\n",
              "          docLink.innerHTML = docLinkHtml;\n",
              "          element.appendChild(docLink);\n",
              "        }\n",
              "      </script>\n",
              "    </div>\n",
              "  </div>\n",
              "  "
            ]
          },
          "metadata": {},
          "execution_count": 21
        }
      ]
    },
    {
      "cell_type": "code",
      "source": [
        "scaler = preprocessing.MinMaxScaler()\n",
        "scaler.fit(X_train)\n",
        "X_train_scaled_ = scaler.transform(X_train)\n",
        "X_test_scaled_ = scaler.transform(X_test)"
      ],
      "metadata": {
        "id": "tKgEu-d-gc0q"
      },
      "execution_count": 22,
      "outputs": []
    },
    {
      "cell_type": "code",
      "source": [
        "X_train_scaled = pd.DataFrame(X_train_scaled_, columns=X_train.columns, index=X_train.index)\n",
        "X_test_scaled = pd.DataFrame(X_test_scaled_, columns=X_test.columns, index=X_test.index)"
      ],
      "metadata": {
        "id": "yUhHExb7hpP1"
      },
      "execution_count": 23,
      "outputs": []
    },
    {
      "cell_type": "code",
      "source": [
        "X_train_scaled.head(5)"
      ],
      "metadata": {
        "colab": {
          "base_uri": "https://localhost:8080/",
          "height": 206
        },
        "id": "CZ__IK0tqsyc",
        "outputId": "3dd42e9b-055d-4010-db12-e902545a2d4b"
      },
      "execution_count": 24,
      "outputs": [
        {
          "output_type": "execute_result",
          "data": {
            "text/plain": [
              "     SNP_01  SNP_02  SNP_03  SNP_04  SNP_05  SNP_06  SNP_07  SNP_08  SNP_09  \\\n",
              "123     0.5     0.5     0.0     1.0     0.0     1.0     1.0     0.0     1.0   \n",
              "189     1.0     0.0     0.5     0.0     0.0     0.5     0.0     0.5     0.0   \n",
              "49      0.0     1.0     0.0     0.5     0.0     1.0     1.0     0.0     0.5   \n",
              "198     1.0     0.5     0.5     0.0     1.0     0.0     0.0     1.0     0.5   \n",
              "29      0.5     1.0     0.0     0.5     0.0     1.0     1.0     0.0     0.5   \n",
              "\n",
              "     SNP_10  SNP_11  SNP_12  SNP_13  SNP_14  SNP_15  \n",
              "123     0.0     1.0     0.5     1.0     0.5     0.5  \n",
              "189     0.5     0.0     0.0     0.5     0.0     0.0  \n",
              "49      0.0     1.0     0.5     1.0     0.5     1.0  \n",
              "198     1.0     1.0     0.0     0.5     0.0     0.5  \n",
              "29      0.0     1.0     1.0     1.0     0.0     1.0  "
            ],
            "text/html": [
              "\n",
              "  <div id=\"df-70d22917-2db0-4bde-9897-6a4b8e7e0867\">\n",
              "    <div class=\"colab-df-container\">\n",
              "      <div>\n",
              "<style scoped>\n",
              "    .dataframe tbody tr th:only-of-type {\n",
              "        vertical-align: middle;\n",
              "    }\n",
              "\n",
              "    .dataframe tbody tr th {\n",
              "        vertical-align: top;\n",
              "    }\n",
              "\n",
              "    .dataframe thead th {\n",
              "        text-align: right;\n",
              "    }\n",
              "</style>\n",
              "<table border=\"1\" class=\"dataframe\">\n",
              "  <thead>\n",
              "    <tr style=\"text-align: right;\">\n",
              "      <th></th>\n",
              "      <th>SNP_01</th>\n",
              "      <th>SNP_02</th>\n",
              "      <th>SNP_03</th>\n",
              "      <th>SNP_04</th>\n",
              "      <th>SNP_05</th>\n",
              "      <th>SNP_06</th>\n",
              "      <th>SNP_07</th>\n",
              "      <th>SNP_08</th>\n",
              "      <th>SNP_09</th>\n",
              "      <th>SNP_10</th>\n",
              "      <th>SNP_11</th>\n",
              "      <th>SNP_12</th>\n",
              "      <th>SNP_13</th>\n",
              "      <th>SNP_14</th>\n",
              "      <th>SNP_15</th>\n",
              "    </tr>\n",
              "  </thead>\n",
              "  <tbody>\n",
              "    <tr>\n",
              "      <th>123</th>\n",
              "      <td>0.5</td>\n",
              "      <td>0.5</td>\n",
              "      <td>0.0</td>\n",
              "      <td>1.0</td>\n",
              "      <td>0.0</td>\n",
              "      <td>1.0</td>\n",
              "      <td>1.0</td>\n",
              "      <td>0.0</td>\n",
              "      <td>1.0</td>\n",
              "      <td>0.0</td>\n",
              "      <td>1.0</td>\n",
              "      <td>0.5</td>\n",
              "      <td>1.0</td>\n",
              "      <td>0.5</td>\n",
              "      <td>0.5</td>\n",
              "    </tr>\n",
              "    <tr>\n",
              "      <th>189</th>\n",
              "      <td>1.0</td>\n",
              "      <td>0.0</td>\n",
              "      <td>0.5</td>\n",
              "      <td>0.0</td>\n",
              "      <td>0.0</td>\n",
              "      <td>0.5</td>\n",
              "      <td>0.0</td>\n",
              "      <td>0.5</td>\n",
              "      <td>0.0</td>\n",
              "      <td>0.5</td>\n",
              "      <td>0.0</td>\n",
              "      <td>0.0</td>\n",
              "      <td>0.5</td>\n",
              "      <td>0.0</td>\n",
              "      <td>0.0</td>\n",
              "    </tr>\n",
              "    <tr>\n",
              "      <th>49</th>\n",
              "      <td>0.0</td>\n",
              "      <td>1.0</td>\n",
              "      <td>0.0</td>\n",
              "      <td>0.5</td>\n",
              "      <td>0.0</td>\n",
              "      <td>1.0</td>\n",
              "      <td>1.0</td>\n",
              "      <td>0.0</td>\n",
              "      <td>0.5</td>\n",
              "      <td>0.0</td>\n",
              "      <td>1.0</td>\n",
              "      <td>0.5</td>\n",
              "      <td>1.0</td>\n",
              "      <td>0.5</td>\n",
              "      <td>1.0</td>\n",
              "    </tr>\n",
              "    <tr>\n",
              "      <th>198</th>\n",
              "      <td>1.0</td>\n",
              "      <td>0.5</td>\n",
              "      <td>0.5</td>\n",
              "      <td>0.0</td>\n",
              "      <td>1.0</td>\n",
              "      <td>0.0</td>\n",
              "      <td>0.0</td>\n",
              "      <td>1.0</td>\n",
              "      <td>0.5</td>\n",
              "      <td>1.0</td>\n",
              "      <td>1.0</td>\n",
              "      <td>0.0</td>\n",
              "      <td>0.5</td>\n",
              "      <td>0.0</td>\n",
              "      <td>0.5</td>\n",
              "    </tr>\n",
              "    <tr>\n",
              "      <th>29</th>\n",
              "      <td>0.5</td>\n",
              "      <td>1.0</td>\n",
              "      <td>0.0</td>\n",
              "      <td>0.5</td>\n",
              "      <td>0.0</td>\n",
              "      <td>1.0</td>\n",
              "      <td>1.0</td>\n",
              "      <td>0.0</td>\n",
              "      <td>0.5</td>\n",
              "      <td>0.0</td>\n",
              "      <td>1.0</td>\n",
              "      <td>1.0</td>\n",
              "      <td>1.0</td>\n",
              "      <td>0.0</td>\n",
              "      <td>1.0</td>\n",
              "    </tr>\n",
              "  </tbody>\n",
              "</table>\n",
              "</div>\n",
              "      <button class=\"colab-df-convert\" onclick=\"convertToInteractive('df-70d22917-2db0-4bde-9897-6a4b8e7e0867')\"\n",
              "              title=\"Convert this dataframe to an interactive table.\"\n",
              "              style=\"display:none;\">\n",
              "        \n",
              "  <svg xmlns=\"http://www.w3.org/2000/svg\" height=\"24px\"viewBox=\"0 0 24 24\"\n",
              "       width=\"24px\">\n",
              "    <path d=\"M0 0h24v24H0V0z\" fill=\"none\"/>\n",
              "    <path d=\"M18.56 5.44l.94 2.06.94-2.06 2.06-.94-2.06-.94-.94-2.06-.94 2.06-2.06.94zm-11 1L8.5 8.5l.94-2.06 2.06-.94-2.06-.94L8.5 2.5l-.94 2.06-2.06.94zm10 10l.94 2.06.94-2.06 2.06-.94-2.06-.94-.94-2.06-.94 2.06-2.06.94z\"/><path d=\"M17.41 7.96l-1.37-1.37c-.4-.4-.92-.59-1.43-.59-.52 0-1.04.2-1.43.59L10.3 9.45l-7.72 7.72c-.78.78-.78 2.05 0 2.83L4 21.41c.39.39.9.59 1.41.59.51 0 1.02-.2 1.41-.59l7.78-7.78 2.81-2.81c.8-.78.8-2.07 0-2.86zM5.41 20L4 18.59l7.72-7.72 1.47 1.35L5.41 20z\"/>\n",
              "  </svg>\n",
              "      </button>\n",
              "      \n",
              "  <style>\n",
              "    .colab-df-container {\n",
              "      display:flex;\n",
              "      flex-wrap:wrap;\n",
              "      gap: 12px;\n",
              "    }\n",
              "\n",
              "    .colab-df-convert {\n",
              "      background-color: #E8F0FE;\n",
              "      border: none;\n",
              "      border-radius: 50%;\n",
              "      cursor: pointer;\n",
              "      display: none;\n",
              "      fill: #1967D2;\n",
              "      height: 32px;\n",
              "      padding: 0 0 0 0;\n",
              "      width: 32px;\n",
              "    }\n",
              "\n",
              "    .colab-df-convert:hover {\n",
              "      background-color: #E2EBFA;\n",
              "      box-shadow: 0px 1px 2px rgba(60, 64, 67, 0.3), 0px 1px 3px 1px rgba(60, 64, 67, 0.15);\n",
              "      fill: #174EA6;\n",
              "    }\n",
              "\n",
              "    [theme=dark] .colab-df-convert {\n",
              "      background-color: #3B4455;\n",
              "      fill: #D2E3FC;\n",
              "    }\n",
              "\n",
              "    [theme=dark] .colab-df-convert:hover {\n",
              "      background-color: #434B5C;\n",
              "      box-shadow: 0px 1px 3px 1px rgba(0, 0, 0, 0.15);\n",
              "      filter: drop-shadow(0px 1px 2px rgba(0, 0, 0, 0.3));\n",
              "      fill: #FFFFFF;\n",
              "    }\n",
              "  </style>\n",
              "\n",
              "      <script>\n",
              "        const buttonEl =\n",
              "          document.querySelector('#df-70d22917-2db0-4bde-9897-6a4b8e7e0867 button.colab-df-convert');\n",
              "        buttonEl.style.display =\n",
              "          google.colab.kernel.accessAllowed ? 'block' : 'none';\n",
              "\n",
              "        async function convertToInteractive(key) {\n",
              "          const element = document.querySelector('#df-70d22917-2db0-4bde-9897-6a4b8e7e0867');\n",
              "          const dataTable =\n",
              "            await google.colab.kernel.invokeFunction('convertToInteractive',\n",
              "                                                     [key], {});\n",
              "          if (!dataTable) return;\n",
              "\n",
              "          const docLinkHtml = 'Like what you see? Visit the ' +\n",
              "            '<a target=\"_blank\" href=https://colab.research.google.com/notebooks/data_table.ipynb>data table notebook</a>'\n",
              "            + ' to learn more about interactive tables.';\n",
              "          element.innerHTML = '';\n",
              "          dataTable['output_type'] = 'display_data';\n",
              "          await google.colab.output.renderOutput(dataTable, element);\n",
              "          const docLink = document.createElement('div');\n",
              "          docLink.innerHTML = docLinkHtml;\n",
              "          element.appendChild(docLink);\n",
              "        }\n",
              "      </script>\n",
              "    </div>\n",
              "  </div>\n",
              "  "
            ]
          },
          "metadata": {},
          "execution_count": 24
        }
      ]
    },
    {
      "cell_type": "markdown",
      "source": [
        "### n차원의 PCA를 실행함으로서 분산데이터의 유실을 거의 줄이면서 분류를 위한 특성변환을 한다\n"
      ],
      "metadata": {
        "id": "vXuYZKRM6Rgt"
      }
    },
    {
      "cell_type": "code",
      "source": [
        "from sklearn.decomposition import PCA\n",
        "\n",
        "pca = PCA()\n",
        "X_train_pca = pca.fit_transform(X_train_scaled)\n",
        "X_test_pca = pca.transform(X_test_scaled)"
      ],
      "metadata": {
        "id": "OHbNzAIv6Qxn"
      },
      "execution_count": 60,
      "outputs": []
    },
    {
      "cell_type": "markdown",
      "source": [
        "## 평가지표\n",
        "- F1 macro를 사용해 평가한다"
      ],
      "metadata": {
        "id": "HcaOc_uFq9Pf"
      }
    },
    {
      "cell_type": "code",
      "source": [
        "#머신러닝 평가지표\n",
        "def get_clf_eval(y_test, pred):\n",
        "    confusion = confusion_matrix(y_test, pred)\n",
        "    accuracy = accuracy_score(y_test, pred)*100\n",
        "    precision = precision_score(y_test, pred, average='macro')*100\n",
        "    recall = recall_score(y_test, pred, average='macro')*100\n",
        "    f1_macro = f1_score(y_test, pred,  average='macro')\n",
        "    \n",
        "    print('오차행렬')\n",
        "    print(confusion)\n",
        "    print('정확도 :',\"%.1f\"%accuracy+'%')\n",
        "    print('정밀도 :',\"%.1f\"%precision+'%')\n",
        "    print('재현율 :', \"%.1f\"%recall+'%')\n",
        "    print('Macro F1 score :', f1_macro)"
      ],
      "metadata": {
        "id": "e8C4gdeIKox4"
      },
      "execution_count": 25,
      "outputs": []
    },
    {
      "cell_type": "code",
      "source": [
        "#딥러닝 평가지표(케라스)\n",
        "from keras import backend as K\n",
        "def recall(y_target, y_pred):\n",
        "    # clip(t, clip_value_min, clip_value_max) : clip_value_min~clip_value_max 이외 가장자리를 깎아 낸다\n",
        "    # round : 반올림한다\n",
        "    y_target_yn = K.round(K.clip(y_target, 0, 1)) # 실제값을 0(Negative) 또는 1(Positive)로 설정한다\n",
        "    y_pred_yn = K.round(K.clip(y_pred, 0, 1)) # 예측값을 0(Negative) 또는 1(Positive)로 설정한다\n",
        "\n",
        "    # True Positive는 실제 값과 예측 값이 모두 1(Positive)인 경우이다\n",
        "    count_true_positive = K.sum(y_target_yn * y_pred_yn) \n",
        "\n",
        "    # (True Positive + False Negative) = 실제 값이 1(Positive) 전체\n",
        "    count_true_positive_false_negative = K.sum(y_target_yn)\n",
        "\n",
        "    # Recall =  (True Positive) / (True Positive + False Negative)\n",
        "    # K.epsilon()는 'divide by zero error' 예방차원에서 작은 수를 더한다\n",
        "    recall = count_true_positive / (count_true_positive_false_negative + K.epsilon())\n",
        "\n",
        "    # return a single tensor value\n",
        "    return recall\n",
        "\n",
        "\n",
        "def precision(y_target, y_pred):\n",
        "    # clip(t, clip_value_min, clip_value_max) : clip_value_min~clip_value_max 이외 가장자리를 깎아 낸다\n",
        "    # round : 반올림한다\n",
        "    y_pred_yn = K.round(K.clip(y_pred, 0, 1)) # 예측값을 0(Negative) 또는 1(Positive)로 설정한다\n",
        "    y_target_yn = K.round(K.clip(y_target, 0, 1)) # 실제값을 0(Negative) 또는 1(Positive)로 설정한다\n",
        "\n",
        "    # True Positive는 실제 값과 예측 값이 모두 1(Positive)인 경우이다\n",
        "    count_true_positive = K.sum(y_target_yn * y_pred_yn) \n",
        "\n",
        "    # (True Positive + False Positive) = 예측 값이 1(Positive) 전체\n",
        "    count_true_positive_false_positive = K.sum(y_pred_yn)\n",
        "\n",
        "    # Precision = (True Positive) / (True Positive + False Positive)\n",
        "    # K.epsilon()는 'divide by zero error' 예방차원에서 작은 수를 더한다\n",
        "    precision = count_true_positive / (count_true_positive_false_positive + K.epsilon())\n",
        "\n",
        "    # return a single tensor value\n",
        "    return precision\n",
        "\n",
        "\n",
        "def f1score(y_target, y_pred):\n",
        "    _recall = recall(y_target, y_pred)\n",
        "    _precision = precision(y_target, y_pred)\n",
        "    # K.epsilon()는 'divide by zero error' 예방차원에서 작은 수를 더한다\n",
        "    _f1score = ( 2 * _recall * _precision) / (_recall + _precision+ K.epsilon())\n",
        "    \n",
        "    # return a single tensor value\n",
        "    return _f1score"
      ],
      "metadata": {
        "id": "WBIu-pHFb_pF"
      },
      "execution_count": 26,
      "outputs": []
    },
    {
      "cell_type": "markdown",
      "source": [
        "## 머신러닝 알고리즘"
      ],
      "metadata": {
        "id": "q56NtoFYgdpJ"
      }
    },
    {
      "cell_type": "code",
      "source": [
        "#Scikit-Optimize를 이용해 파라미터 자동 튜닝\n",
        "!pip install -q scikit-optimize "
      ],
      "metadata": {
        "id": "JwxQPm3U9xep",
        "colab": {
          "base_uri": "https://localhost:8080/"
        },
        "outputId": "1a5d12e0-2316-40ee-898a-1db6e808bb7c"
      },
      "execution_count": 27,
      "outputs": [
        {
          "output_type": "stream",
          "name": "stdout",
          "text": [
            "\u001b[?25l     \u001b[90m━━━━━━━━━━━━━━━━━━━━━━━━━━━━━━━━━━━━━━━━\u001b[0m \u001b[32m0.0/100.3 KB\u001b[0m \u001b[31m?\u001b[0m eta \u001b[36m-:--:--\u001b[0m\r\u001b[2K     \u001b[90m━━━━━━━━━━━━━━━━━━━━━━━━━━━━━━━━━━━━━━━\u001b[0m \u001b[32m100.3/100.3 KB\u001b[0m \u001b[31m8.0 MB/s\u001b[0m eta \u001b[36m0:00:00\u001b[0m\n",
            "\u001b[?25h"
          ]
        }
      ]
    },
    {
      "cell_type": "markdown",
      "source": [
        "### 랜덤포레스트 모델을 사용해서 학습\n",
        "- 분류기 : ran_clf\n",
        "- F1 score : 0.916"
      ],
      "metadata": {
        "id": "CukjOslOgdhZ"
      }
    },
    {
      "cell_type": "code",
      "source": [
        "ran_clf = RandomForestClassifier(random_state=CFG.SEED)\n",
        "ran_clf.fit(X_train_scaled, y_train_scaled)\n",
        "ran_pred_scaled = ran_clf.predict(X_test_scaled)"
      ],
      "metadata": {
        "id": "QPfzlV4qJ2VY"
      },
      "execution_count": 28,
      "outputs": []
    },
    {
      "cell_type": "code",
      "source": [
        "#원 핫 인코딩 -> 라벨 -> \n",
        "index = np.argmax(ran_pred_scaled, axis=1)\n",
        "ran_pred = pd.DataFrame()\n",
        "ran_pred = target_label.inverse_transform(index)"
      ],
      "metadata": {
        "id": "sTzRTvdq6gZj"
      },
      "execution_count": 29,
      "outputs": []
    },
    {
      "cell_type": "code",
      "source": [
        "get_clf_eval(y_test, ran_pred)"
      ],
      "metadata": {
        "colab": {
          "base_uri": "https://localhost:8080/"
        },
        "id": "eXmfD5foaxiU",
        "outputId": "bea0310c-729b-416f-e416-2f251703b8d1"
      },
      "execution_count": 30,
      "outputs": [
        {
          "output_type": "stream",
          "name": "stdout",
          "text": [
            "오차행렬\n",
            "[[14  0  0]\n",
            " [ 0 23  0]\n",
            " [ 2  2 12]]\n",
            "정확도 : 92.5%\n",
            "정밀도 : 93.2%\n",
            "재현율 : 91.7%\n",
            "Macro F1 score : 0.9162698412698412\n"
          ]
        }
      ]
    },
    {
      "cell_type": "markdown",
      "source": [
        "### PCA를 통해 변환한 데이터셋이 좀더 정확도가 상승했다"
      ],
      "metadata": {
        "id": "U1QJc6bRI0ur"
      }
    },
    {
      "cell_type": "code",
      "source": [
        "ran_clf_1 = RandomForestClassifier(random_state=CFG.SEED)\n",
        "ran_clf_1.fit(X_train_pca, y_train_scaled_)\n",
        "ran_pred_scaled_1 = ran_clf_1.predict(X_test_pca)"
      ],
      "metadata": {
        "id": "6qPo21NJIMfB"
      },
      "execution_count": 61,
      "outputs": []
    },
    {
      "cell_type": "code",
      "source": [
        "ran_pred_1 = target_label.inverse_transform(ran_pred_scaled_1)"
      ],
      "metadata": {
        "id": "TrhQ7-nlIjwn"
      },
      "execution_count": 63,
      "outputs": []
    },
    {
      "cell_type": "code",
      "source": [
        "get_clf_eval(y_test, ran_pred_1)"
      ],
      "metadata": {
        "colab": {
          "base_uri": "https://localhost:8080/"
        },
        "id": "WTvQSy0EItV5",
        "outputId": "4708b279-c64d-4560-f945-95702ead6b31"
      },
      "execution_count": 64,
      "outputs": [
        {
          "output_type": "stream",
          "name": "stdout",
          "text": [
            "오차행렬\n",
            "[[14  0  0]\n",
            " [ 0 22  1]\n",
            " [ 0  3 13]]\n",
            "정확도 : 92.5%\n",
            "정밀도 : 93.6%\n",
            "재현율 : 92.3%\n",
            "Macro F1 score : 0.9277777777777777\n"
          ]
        }
      ]
    },
    {
      "cell_type": "markdown",
      "source": [
        "### GBM 모델을 사용해서 학습\n",
        "- 분류기 : gb_clf\n",
        "- F1 score : 0.9638\n",
        "- 파라미터 튜닝후 F1 score : 0.9638"
      ],
      "metadata": {
        "id": "wgfe2sbS3J7m"
      }
    },
    {
      "cell_type": "code",
      "source": [
        "from sklearn.ensemble import GradientBoostingClassifier\n",
        "\n",
        "gb_clf = GradientBoostingClassifier(random_state=CFG.SEED)\n",
        "gb_clf.fit(X_train_scaled, y_train_scaled_)\n",
        "gb_pred_scaled_ = gb_clf.predict(X_test_scaled)"
      ],
      "metadata": {
        "id": "DFIH6UZm3ScX"
      },
      "execution_count": 31,
      "outputs": []
    },
    {
      "cell_type": "code",
      "source": [
        "# 라벨인코더 -> 타겟\n",
        "gb_pred = target_label.inverse_transform(gb_pred_scaled_)"
      ],
      "metadata": {
        "id": "mRSXQewc6Xqe"
      },
      "execution_count": 32,
      "outputs": []
    },
    {
      "cell_type": "code",
      "source": [
        "get_clf_eval(y_test, gb_pred)"
      ],
      "metadata": {
        "colab": {
          "base_uri": "https://localhost:8080/"
        },
        "id": "0w50Yvi27D0R",
        "outputId": "39dc7143-c384-4c45-c569-89d05cc3a873"
      },
      "execution_count": 33,
      "outputs": [
        {
          "output_type": "stream",
          "name": "stdout",
          "text": [
            "오차행렬\n",
            "[[14  0  0]\n",
            " [ 0 23  0]\n",
            " [ 0  2 14]]\n",
            "정확도 : 96.2%\n",
            "정밀도 : 97.3%\n",
            "재현율 : 95.8%\n",
            "Macro F1 score : 0.9638888888888889\n"
          ]
        }
      ]
    },
    {
      "cell_type": "code",
      "source": [
        "gb_clf.get_params()"
      ],
      "metadata": {
        "colab": {
          "base_uri": "https://localhost:8080/"
        },
        "id": "E32YsLmV-0U7",
        "outputId": "4818dcab-ca05-4f11-9d4e-31adc22e9bc0"
      },
      "execution_count": 34,
      "outputs": [
        {
          "output_type": "execute_result",
          "data": {
            "text/plain": [
              "{'ccp_alpha': 0.0,\n",
              " 'criterion': 'friedman_mse',\n",
              " 'init': None,\n",
              " 'learning_rate': 0.1,\n",
              " 'loss': 'deviance',\n",
              " 'max_depth': 3,\n",
              " 'max_features': None,\n",
              " 'max_leaf_nodes': None,\n",
              " 'min_impurity_decrease': 0.0,\n",
              " 'min_samples_leaf': 1,\n",
              " 'min_samples_split': 2,\n",
              " 'min_weight_fraction_leaf': 0.0,\n",
              " 'n_estimators': 100,\n",
              " 'n_iter_no_change': None,\n",
              " 'random_state': 42,\n",
              " 'subsample': 1.0,\n",
              " 'tol': 0.0001,\n",
              " 'validation_fraction': 0.1,\n",
              " 'verbose': 0,\n",
              " 'warm_start': False}"
            ]
          },
          "metadata": {},
          "execution_count": 34
        }
      ]
    },
    {
      "cell_type": "code",
      "source": [
        "from skopt import BayesSearchCV\n",
        "\n",
        "gb_clf = GradientBoostingClassifier(random_state=CFG.SEED)\n",
        "\n",
        "gb_opt = BayesSearchCV(\n",
        "    gb_clf,\n",
        "    {\n",
        "    'n_estimators' : (100, 1000),\n",
        "    'min_samples_split': (2,4),\n",
        "    'learning_rate': (0.01, 0.1)\n",
        "    },\n",
        "    n_iter = 10,\n",
        "    cv = 5\n",
        ")\n",
        "\n",
        "gb_opt.fit(X_train_scaled, y_train_scaled_)\n",
        "\n",
        "gb_opt_pred_scaled_ = gb_opt.predict(X_test_scaled)"
      ],
      "metadata": {
        "id": "Y6t4qVBV-6gk"
      },
      "execution_count": 35,
      "outputs": []
    },
    {
      "cell_type": "code",
      "source": [
        "gb_opt_pred = target_label.inverse_transform(gb_opt_pred_scaled_)"
      ],
      "metadata": {
        "id": "yOSTgkg4AH6i"
      },
      "execution_count": 36,
      "outputs": []
    },
    {
      "cell_type": "code",
      "source": [
        "get_clf_eval(y_test, gb_opt_pred)"
      ],
      "metadata": {
        "colab": {
          "base_uri": "https://localhost:8080/"
        },
        "id": "FF8dkYwuAMEV",
        "outputId": "fccd2bf6-deaa-4d9d-a13a-9a0d82288c86"
      },
      "execution_count": 37,
      "outputs": [
        {
          "output_type": "stream",
          "name": "stdout",
          "text": [
            "오차행렬\n",
            "[[14  0  0]\n",
            " [ 0 23  0]\n",
            " [ 0  2 14]]\n",
            "정확도 : 96.2%\n",
            "정밀도 : 97.3%\n",
            "재현율 : 95.8%\n",
            "Macro F1 score : 0.9638888888888889\n"
          ]
        }
      ]
    },
    {
      "cell_type": "code",
      "source": [
        "gb_opt.best_params_"
      ],
      "metadata": {
        "colab": {
          "base_uri": "https://localhost:8080/"
        },
        "id": "2eHLf0caAPkj",
        "outputId": "a124ff62-511d-4f8d-82ca-2dd3c6504151"
      },
      "execution_count": 38,
      "outputs": [
        {
          "output_type": "execute_result",
          "data": {
            "text/plain": [
              "OrderedDict([('learning_rate', 0.050034926107103674),\n",
              "             ('min_samples_split', 4),\n",
              "             ('n_estimators', 194)])"
            ]
          },
          "metadata": {},
          "execution_count": 38
        }
      ]
    },
    {
      "cell_type": "markdown",
      "source": [
        "### Linear SVC 모델을 이용해 학습\n",
        "- 분류기 : svm\n",
        "- F1 score : 0.927\n",
        "- 파라미터 튜닝후 : 0.982"
      ],
      "metadata": {
        "id": "1gDN6Wdl7RR5"
      }
    },
    {
      "cell_type": "code",
      "source": [
        "from sklearn.svm import LinearSVC\n",
        "\n",
        "svm = LinearSVC(random_state=CFG.SEED)\n",
        "svm.fit(X_train_scaled, y_train_scaled_)\n",
        "svm_pred_scaled_ = svm.predict(X_test_scaled)"
      ],
      "metadata": {
        "id": "Ol5XS6Pe83WP"
      },
      "execution_count": 39,
      "outputs": []
    },
    {
      "cell_type": "code",
      "source": [
        "# 라벨인코더 -> 타겟\n",
        "svm_pred = target_label.inverse_transform(svm_pred_scaled_)"
      ],
      "metadata": {
        "id": "cM2SXD4t9R0m"
      },
      "execution_count": 40,
      "outputs": []
    },
    {
      "cell_type": "code",
      "source": [
        "get_clf_eval(y_test, svm_pred)"
      ],
      "metadata": {
        "colab": {
          "base_uri": "https://localhost:8080/"
        },
        "id": "MIDKxRvF8-KZ",
        "outputId": "a001d1e5-e604-4319-c138-b033e6ea7e25"
      },
      "execution_count": 41,
      "outputs": [
        {
          "output_type": "stream",
          "name": "stdout",
          "text": [
            "오차행렬\n",
            "[[14  0  0]\n",
            " [ 0 22  1]\n",
            " [ 0  3 13]]\n",
            "정확도 : 92.5%\n",
            "정밀도 : 93.6%\n",
            "재현율 : 92.3%\n",
            "Macro F1 score : 0.9277777777777777\n"
          ]
        }
      ]
    },
    {
      "cell_type": "code",
      "source": [
        "#svm의 하이퍼파라미터를 조회해보자\n",
        "svm.get_params()"
      ],
      "metadata": {
        "colab": {
          "base_uri": "https://localhost:8080/"
        },
        "id": "VXQhspEm9o-y",
        "outputId": "069ad034-2628-4736-b294-b24a65f1a9a6"
      },
      "execution_count": 42,
      "outputs": [
        {
          "output_type": "execute_result",
          "data": {
            "text/plain": [
              "{'C': 1.0,\n",
              " 'class_weight': None,\n",
              " 'dual': True,\n",
              " 'fit_intercept': True,\n",
              " 'intercept_scaling': 1,\n",
              " 'loss': 'squared_hinge',\n",
              " 'max_iter': 1000,\n",
              " 'multi_class': 'ovr',\n",
              " 'penalty': 'l2',\n",
              " 'random_state': 42,\n",
              " 'tol': 0.0001,\n",
              " 'verbose': 0}"
            ]
          },
          "metadata": {},
          "execution_count": 42
        }
      ]
    },
    {
      "cell_type": "code",
      "source": [
        "from skopt import BayesSearchCV\n",
        "\n",
        "svm = LinearSVC(random_state=CFG.SEED)\n",
        "\n",
        "svm_opt = BayesSearchCV(\n",
        "    svm,\n",
        "    {'C' : (10.0, 100.0, 'log-uniform'),\n",
        "     'max_iter': (1000, 10000),\n",
        "    },\n",
        "    n_iter = 10,\n",
        "    cv = 5\n",
        ")\n",
        "\n",
        "svm_opt.fit(X_train_scaled, y_train_scaled_)\n",
        "\n",
        "svm_opt_pred_scaled_ = svm_opt.predict(X_test_scaled)"
      ],
      "metadata": {
        "id": "M719DI6c915F"
      },
      "execution_count": null,
      "outputs": []
    },
    {
      "cell_type": "code",
      "source": [
        "svm_opt_pred = target_label.inverse_transform(svm_opt_pred_scaled_)"
      ],
      "metadata": {
        "id": "J8o9p3SV-Jop"
      },
      "execution_count": 44,
      "outputs": []
    },
    {
      "cell_type": "code",
      "source": [
        "get_clf_eval(y_test, svm_opt_pred)"
      ],
      "metadata": {
        "colab": {
          "base_uri": "https://localhost:8080/"
        },
        "id": "v2MMnddO-Yif",
        "outputId": "e9288b35-5d43-4a5b-d9ae-192efcac902e"
      },
      "execution_count": 45,
      "outputs": [
        {
          "output_type": "stream",
          "name": "stdout",
          "text": [
            "오차행렬\n",
            "[[14  0  0]\n",
            " [ 0 23  0]\n",
            " [ 0  1 15]]\n",
            "정확도 : 98.1%\n",
            "정밀도 : 98.6%\n",
            "재현율 : 97.9%\n",
            "Macro F1 score : 0.9821551132463967\n"
          ]
        }
      ]
    },
    {
      "cell_type": "code",
      "source": [
        "svm_opt.best_params_"
      ],
      "metadata": {
        "colab": {
          "base_uri": "https://localhost:8080/"
        },
        "id": "_-zaMIfl-t15",
        "outputId": "3e64df2b-7fc6-4240-ee3d-1e7fb294adf4"
      },
      "execution_count": 46,
      "outputs": [
        {
          "output_type": "execute_result",
          "data": {
            "text/plain": [
              "OrderedDict([('C', 37.540218527310444), ('max_iter', 4432)])"
            ]
          },
          "metadata": {},
          "execution_count": 46
        }
      ]
    },
    {
      "cell_type": "markdown",
      "source": [
        "### KNN을 이용한 분류기\n"
      ],
      "metadata": {
        "id": "B-LH9kDcmrhw"
      }
    },
    {
      "cell_type": "code",
      "source": [
        "from sklearn.neighbors import KNeighborsClassifier \n",
        "knn_clf = KNeighborsClassifier(n_neighbors=5, n_jobs=-1)"
      ],
      "metadata": {
        "id": "hw-6v8G4m0S1"
      },
      "execution_count": 47,
      "outputs": []
    },
    {
      "cell_type": "markdown",
      "source": [
        "### 로지스틱 분류기\n"
      ],
      "metadata": {
        "id": "QsG5Kpmxos1p"
      }
    },
    {
      "cell_type": "code",
      "source": [
        "from sklearn.linear_model import LogisticRegression\n",
        "\n",
        "logit = LogisticRegression()"
      ],
      "metadata": {
        "id": "avuBVJa9pEs3"
      },
      "execution_count": 48,
      "outputs": []
    },
    {
      "cell_type": "markdown",
      "source": [
        "### 스태킹모델을 이용해 성능을 끌어올려보자\n",
        "- KNN : knn_clf\n",
        "- Random Forest : ran_clf\n",
        "- SVC : svm_opt\n",
        "- GBM : gb_opt\n",
        "- Logistic : logit\n",
        "\n"
      ],
      "metadata": {
        "id": "JxpX2JLjmPbz"
      }
    },
    {
      "cell_type": "code",
      "source": [
        "from sklearn.model_selection import KFold\n",
        "\n",
        "# 메타 모델을 위한 학습 및 테스트 데이터 만들기\n",
        "def get_stacking_base_datasets(model, X_train_n, y_train_n, X_test_n, n_folds):\n",
        "    kf = KFold(n_splits=n_folds, shuffle=True, random_state=CFG.SEED)\n",
        "    # 빈 배열 생성\n",
        "    train_fold_pred = np.zeros((X_train_n.shape[0],1))\n",
        "    test_pred = np.zeros((X_test_n.shape[0],n_folds))\n",
        "    \n",
        "    \n",
        "    for folder_counter, (train_index, valid_index) in enumerate(kf.split(X_train_n)):\n",
        "        print('폴드 세트 : ', folder_counter, ' 시작')\n",
        "        X_tr = X_train_n[train_index]\n",
        "        y_tr = y_train_n[train_index]\n",
        "        X_te = X_train_n[valid_index] \n",
        "        \n",
        "        # 폴드 내 모델 학습\n",
        "        model.fit(X_tr, y_tr)\n",
        "        train_fold_pred[valid_index, :] = model.predict(X_te).reshape(-1,1) # y_train 예측, 폴드 끝나면 concat해야함\n",
        "        test_pred[:, folder_counter] = model.predict(X_test_n) # y_test 예측, 폴드 끝나면 평균 낼거임\n",
        "        \n",
        "    test_pred_mean = np.mean(test_pred, axis=1).reshape(-1,1)\n",
        "    \n",
        "    return train_fold_pred, test_pred_mean # 하나의 모델에 대한 학습데이터, 테스트 데이터 생성"
      ],
      "metadata": {
        "id": "L_HfNdFpsqof"
      },
      "execution_count": 49,
      "outputs": []
    },
    {
      "cell_type": "code",
      "source": [
        "from sklearn.neighbors import KNeighborsClassifier\n",
        "from sklearn.ensemble import RandomForestClassifier\n",
        "from sklearn.ensemble import AdaBoostClassifier\n",
        "from sklearn.linear_model import LogisticRegression\n",
        "from sklearn.linear_model import LogisticRegression # 메타 모델\n",
        "\n",
        "# 객체 생성\n",
        "#knn_clf = KNeighborsClassifier()\n",
        "rf_clf = RandomForestClassifier()\n",
        "ada_clf = AdaBoostClassifier()\n",
        "#svm_opt\n",
        "#gb_opt\n",
        "logit = LogisticRegression()\n",
        "lr_final = LogisticRegression()\n",
        "\n",
        "# 개별 모델로부터 메타 모델에 필요한 데이터 셋 만들기\n",
        "#knn_train, knn_test = get_stacking_base_datasets(knn_clf, X_train_scaled, y_train_scaled_, X_test_scaled, 7)\n",
        "rf_train, rf_test = get_stacking_base_datasets(rf_clf, X_train_scaled, y_train_scaled_, X_test_scaled, 7)\n",
        "ada_train, ada_test = get_stacking_base_datasets(ada_clf, X_train_scaled, y_train_scaled_, X_test_scaled, 7)\n",
        "svm_train, svm_test = get_stacking_base_datasets(svm_opt, X_train_scaled, y_train_scaled_, X_test_scaled, 7)\n",
        "gb_train, gb_test = get_stacking_base_datasets(gb_opt, X_train_scaled, y_train_scaled_, X_test_scaled, 7)\n",
        "logit_train, logit_test = get_stacking_base_datasets(logit, X_train_scaled, y_train_scaled_, X_test_scaled, 7)\n",
        "\n",
        "# 개별 모델로부터 나온 y_train 예측값들 옆으로 붙이기\n",
        "Stack_final_X_train = np.concatenate((rf_train,ada_train,svm_train,gb_train,logit_train), axis=1)\n",
        "# 개별 모델로부터 나온 y_test 예측값들 옆으로 붙이기\n",
        "Stack_final_X_test = np.concatenate((rf_train,ada_train,svm_train,gb_train,logit_train), axis=1)\n",
        "\n",
        "lr_final.fit(Stack_final_X_train, y_train_scaled_)\n",
        "stack_final = lr_final.predict(Stack_final_X_test) "
      ],
      "metadata": {
        "id": "L2BRib47xx7A",
        "colab": {
          "base_uri": "https://localhost:8080/",
          "height": 402
        },
        "outputId": "5637e53c-8936-469b-dccd-49ecf0d026c7"
      },
      "execution_count": 50,
      "outputs": [
        {
          "output_type": "stream",
          "name": "stdout",
          "text": [
            "폴드 세트 :  0  시작\n"
          ]
        },
        {
          "output_type": "error",
          "ename": "KeyError",
          "evalue": "ignored",
          "traceback": [
            "\u001b[0;31m---------------------------------------------------------------------------\u001b[0m",
            "\u001b[0;31mKeyError\u001b[0m                                  Traceback (most recent call last)",
            "\u001b[0;32m<ipython-input-50-11cdb737c16b>\u001b[0m in \u001b[0;36m<module>\u001b[0;34m\u001b[0m\n\u001b[1;32m     16\u001b[0m \u001b[0;31m# 개별 모델로부터 메타 모델에 필요한 데이터 셋 만들기\u001b[0m\u001b[0;34m\u001b[0m\u001b[0;34m\u001b[0m\u001b[0;34m\u001b[0m\u001b[0m\n\u001b[1;32m     17\u001b[0m \u001b[0;31m#knn_train, knn_test = get_stacking_base_datasets(knn_clf, X_train_scaled, y_train_scaled_, X_test_scaled, 7)\u001b[0m\u001b[0;34m\u001b[0m\u001b[0;34m\u001b[0m\u001b[0;34m\u001b[0m\u001b[0m\n\u001b[0;32m---> 18\u001b[0;31m \u001b[0mrf_train\u001b[0m\u001b[0;34m,\u001b[0m \u001b[0mrf_test\u001b[0m \u001b[0;34m=\u001b[0m \u001b[0mget_stacking_base_datasets\u001b[0m\u001b[0;34m(\u001b[0m\u001b[0mrf_clf\u001b[0m\u001b[0;34m,\u001b[0m \u001b[0mX_train_scaled\u001b[0m\u001b[0;34m,\u001b[0m \u001b[0my_train_scaled_\u001b[0m\u001b[0;34m,\u001b[0m \u001b[0mX_test_scaled\u001b[0m\u001b[0;34m,\u001b[0m \u001b[0;36m7\u001b[0m\u001b[0;34m)\u001b[0m\u001b[0;34m\u001b[0m\u001b[0;34m\u001b[0m\u001b[0m\n\u001b[0m\u001b[1;32m     19\u001b[0m \u001b[0mada_train\u001b[0m\u001b[0;34m,\u001b[0m \u001b[0mada_test\u001b[0m \u001b[0;34m=\u001b[0m \u001b[0mget_stacking_base_datasets\u001b[0m\u001b[0;34m(\u001b[0m\u001b[0mada_clf\u001b[0m\u001b[0;34m,\u001b[0m \u001b[0mX_train_scaled\u001b[0m\u001b[0;34m,\u001b[0m \u001b[0my_train_scaled_\u001b[0m\u001b[0;34m,\u001b[0m \u001b[0mX_test_scaled\u001b[0m\u001b[0;34m,\u001b[0m \u001b[0;36m7\u001b[0m\u001b[0;34m)\u001b[0m\u001b[0;34m\u001b[0m\u001b[0;34m\u001b[0m\u001b[0m\n\u001b[1;32m     20\u001b[0m \u001b[0msvm_train\u001b[0m\u001b[0;34m,\u001b[0m \u001b[0msvm_test\u001b[0m \u001b[0;34m=\u001b[0m \u001b[0mget_stacking_base_datasets\u001b[0m\u001b[0;34m(\u001b[0m\u001b[0msvm_opt\u001b[0m\u001b[0;34m,\u001b[0m \u001b[0mX_train_scaled\u001b[0m\u001b[0;34m,\u001b[0m \u001b[0my_train_scaled_\u001b[0m\u001b[0;34m,\u001b[0m \u001b[0mX_test_scaled\u001b[0m\u001b[0;34m,\u001b[0m \u001b[0;36m7\u001b[0m\u001b[0;34m)\u001b[0m\u001b[0;34m\u001b[0m\u001b[0;34m\u001b[0m\u001b[0m\n",
            "\u001b[0;32m<ipython-input-49-83e7bb74596c>\u001b[0m in \u001b[0;36mget_stacking_base_datasets\u001b[0;34m(model, X_train_n, y_train_n, X_test_n, n_folds)\u001b[0m\n\u001b[1;32m     11\u001b[0m     \u001b[0;32mfor\u001b[0m \u001b[0mfolder_counter\u001b[0m\u001b[0;34m,\u001b[0m \u001b[0;34m(\u001b[0m\u001b[0mtrain_index\u001b[0m\u001b[0;34m,\u001b[0m \u001b[0mvalid_index\u001b[0m\u001b[0;34m)\u001b[0m \u001b[0;32min\u001b[0m \u001b[0menumerate\u001b[0m\u001b[0;34m(\u001b[0m\u001b[0mkf\u001b[0m\u001b[0;34m.\u001b[0m\u001b[0msplit\u001b[0m\u001b[0;34m(\u001b[0m\u001b[0mX_train_n\u001b[0m\u001b[0;34m)\u001b[0m\u001b[0;34m)\u001b[0m\u001b[0;34m:\u001b[0m\u001b[0;34m\u001b[0m\u001b[0;34m\u001b[0m\u001b[0m\n\u001b[1;32m     12\u001b[0m         \u001b[0mprint\u001b[0m\u001b[0;34m(\u001b[0m\u001b[0;34m'폴드 세트 : '\u001b[0m\u001b[0;34m,\u001b[0m \u001b[0mfolder_counter\u001b[0m\u001b[0;34m,\u001b[0m \u001b[0;34m' 시작'\u001b[0m\u001b[0;34m)\u001b[0m\u001b[0;34m\u001b[0m\u001b[0;34m\u001b[0m\u001b[0m\n\u001b[0;32m---> 13\u001b[0;31m         \u001b[0mX_tr\u001b[0m \u001b[0;34m=\u001b[0m \u001b[0mX_train_n\u001b[0m\u001b[0;34m[\u001b[0m\u001b[0mtrain_index\u001b[0m\u001b[0;34m]\u001b[0m\u001b[0;34m\u001b[0m\u001b[0;34m\u001b[0m\u001b[0m\n\u001b[0m\u001b[1;32m     14\u001b[0m         \u001b[0my_tr\u001b[0m \u001b[0;34m=\u001b[0m \u001b[0my_train_n\u001b[0m\u001b[0;34m[\u001b[0m\u001b[0mtrain_index\u001b[0m\u001b[0;34m]\u001b[0m\u001b[0;34m\u001b[0m\u001b[0;34m\u001b[0m\u001b[0m\n\u001b[1;32m     15\u001b[0m         \u001b[0mX_te\u001b[0m \u001b[0;34m=\u001b[0m \u001b[0mX_train_n\u001b[0m\u001b[0;34m[\u001b[0m\u001b[0mvalid_index\u001b[0m\u001b[0;34m]\u001b[0m\u001b[0;34m\u001b[0m\u001b[0;34m\u001b[0m\u001b[0m\n",
            "\u001b[0;32m/usr/local/lib/python3.8/dist-packages/pandas/core/frame.py\u001b[0m in \u001b[0;36m__getitem__\u001b[0;34m(self, key)\u001b[0m\n\u001b[1;32m   3462\u001b[0m             \u001b[0;32mif\u001b[0m \u001b[0mis_iterator\u001b[0m\u001b[0;34m(\u001b[0m\u001b[0mkey\u001b[0m\u001b[0;34m)\u001b[0m\u001b[0;34m:\u001b[0m\u001b[0;34m\u001b[0m\u001b[0;34m\u001b[0m\u001b[0m\n\u001b[1;32m   3463\u001b[0m                 \u001b[0mkey\u001b[0m \u001b[0;34m=\u001b[0m \u001b[0mlist\u001b[0m\u001b[0;34m(\u001b[0m\u001b[0mkey\u001b[0m\u001b[0;34m)\u001b[0m\u001b[0;34m\u001b[0m\u001b[0;34m\u001b[0m\u001b[0m\n\u001b[0;32m-> 3464\u001b[0;31m             \u001b[0mindexer\u001b[0m \u001b[0;34m=\u001b[0m \u001b[0mself\u001b[0m\u001b[0;34m.\u001b[0m\u001b[0mloc\u001b[0m\u001b[0;34m.\u001b[0m\u001b[0m_get_listlike_indexer\u001b[0m\u001b[0;34m(\u001b[0m\u001b[0mkey\u001b[0m\u001b[0;34m,\u001b[0m \u001b[0maxis\u001b[0m\u001b[0;34m=\u001b[0m\u001b[0;36m1\u001b[0m\u001b[0;34m)\u001b[0m\u001b[0;34m[\u001b[0m\u001b[0;36m1\u001b[0m\u001b[0;34m]\u001b[0m\u001b[0;34m\u001b[0m\u001b[0;34m\u001b[0m\u001b[0m\n\u001b[0m\u001b[1;32m   3465\u001b[0m \u001b[0;34m\u001b[0m\u001b[0m\n\u001b[1;32m   3466\u001b[0m         \u001b[0;31m# take() does not accept boolean indexers\u001b[0m\u001b[0;34m\u001b[0m\u001b[0;34m\u001b[0m\u001b[0;34m\u001b[0m\u001b[0m\n",
            "\u001b[0;32m/usr/local/lib/python3.8/dist-packages/pandas/core/indexing.py\u001b[0m in \u001b[0;36m_get_listlike_indexer\u001b[0;34m(self, key, axis)\u001b[0m\n\u001b[1;32m   1312\u001b[0m             \u001b[0mkeyarr\u001b[0m\u001b[0;34m,\u001b[0m \u001b[0mindexer\u001b[0m\u001b[0;34m,\u001b[0m \u001b[0mnew_indexer\u001b[0m \u001b[0;34m=\u001b[0m \u001b[0max\u001b[0m\u001b[0;34m.\u001b[0m\u001b[0m_reindex_non_unique\u001b[0m\u001b[0;34m(\u001b[0m\u001b[0mkeyarr\u001b[0m\u001b[0;34m)\u001b[0m\u001b[0;34m\u001b[0m\u001b[0;34m\u001b[0m\u001b[0m\n\u001b[1;32m   1313\u001b[0m \u001b[0;34m\u001b[0m\u001b[0m\n\u001b[0;32m-> 1314\u001b[0;31m         \u001b[0mself\u001b[0m\u001b[0;34m.\u001b[0m\u001b[0m_validate_read_indexer\u001b[0m\u001b[0;34m(\u001b[0m\u001b[0mkeyarr\u001b[0m\u001b[0;34m,\u001b[0m \u001b[0mindexer\u001b[0m\u001b[0;34m,\u001b[0m \u001b[0maxis\u001b[0m\u001b[0;34m)\u001b[0m\u001b[0;34m\u001b[0m\u001b[0;34m\u001b[0m\u001b[0m\n\u001b[0m\u001b[1;32m   1315\u001b[0m \u001b[0;34m\u001b[0m\u001b[0m\n\u001b[1;32m   1316\u001b[0m         if needs_i8_conversion(ax.dtype) or isinstance(\n",
            "\u001b[0;32m/usr/local/lib/python3.8/dist-packages/pandas/core/indexing.py\u001b[0m in \u001b[0;36m_validate_read_indexer\u001b[0;34m(self, key, indexer, axis)\u001b[0m\n\u001b[1;32m   1372\u001b[0m                 \u001b[0;32mif\u001b[0m \u001b[0muse_interval_msg\u001b[0m\u001b[0;34m:\u001b[0m\u001b[0;34m\u001b[0m\u001b[0;34m\u001b[0m\u001b[0m\n\u001b[1;32m   1373\u001b[0m                     \u001b[0mkey\u001b[0m \u001b[0;34m=\u001b[0m \u001b[0mlist\u001b[0m\u001b[0;34m(\u001b[0m\u001b[0mkey\u001b[0m\u001b[0;34m)\u001b[0m\u001b[0;34m\u001b[0m\u001b[0;34m\u001b[0m\u001b[0m\n\u001b[0;32m-> 1374\u001b[0;31m                 \u001b[0;32mraise\u001b[0m \u001b[0mKeyError\u001b[0m\u001b[0;34m(\u001b[0m\u001b[0;34mf\"None of [{key}] are in the [{axis_name}]\"\u001b[0m\u001b[0;34m)\u001b[0m\u001b[0;34m\u001b[0m\u001b[0;34m\u001b[0m\u001b[0m\n\u001b[0m\u001b[1;32m   1375\u001b[0m \u001b[0;34m\u001b[0m\u001b[0m\n\u001b[1;32m   1376\u001b[0m             \u001b[0mnot_found\u001b[0m \u001b[0;34m=\u001b[0m \u001b[0mlist\u001b[0m\u001b[0;34m(\u001b[0m\u001b[0mensure_index\u001b[0m\u001b[0;34m(\u001b[0m\u001b[0mkey\u001b[0m\u001b[0;34m)\u001b[0m\u001b[0;34m[\u001b[0m\u001b[0mmissing_mask\u001b[0m\u001b[0;34m.\u001b[0m\u001b[0mnonzero\u001b[0m\u001b[0;34m(\u001b[0m\u001b[0;34m)\u001b[0m\u001b[0;34m[\u001b[0m\u001b[0;36m0\u001b[0m\u001b[0;34m]\u001b[0m\u001b[0;34m]\u001b[0m\u001b[0;34m.\u001b[0m\u001b[0munique\u001b[0m\u001b[0;34m(\u001b[0m\u001b[0;34m)\u001b[0m\u001b[0;34m)\u001b[0m\u001b[0;34m\u001b[0m\u001b[0;34m\u001b[0m\u001b[0m\n",
            "\u001b[0;31mKeyError\u001b[0m: \"None of [Int64Index([  0,   1,   2,   3,   4,   5,   6,   7,   8,  10,\\n            ...\\n            197, 199, 200, 201, 202, 203, 204, 205, 207, 208],\\n           dtype='int64', length=179)] are in the [columns]\""
          ]
        }
      ]
    },
    {
      "cell_type": "markdown",
      "source": [
        "### 분류에 도움이 되는 주요한 데이터에 관해서만 학습\n",
        "- 2022년 12월 30일\n",
        "- 시도해봤는데 머신러닝에서도 딥러닝에서도 좋은 성능을 얻지 못했다\n",
        "- Xtra-tree : Macro F1 score 0.17316017316017315\n",
        "- Deeplearning : Macro F1 score 0.07165532879818594"
      ],
      "metadata": {
        "id": "uQqaC2y-8oVT"
      }
    },
    {
      "cell_type": "code",
      "source": [
        "#변수별 중요도를 이용해 특성행렬 선택후 학습\n",
        "from sklearn.feature_selection import SelectFromModel\n",
        "\n",
        "selector = SelectFromModel(ran_clf, threshold = 'median')"
      ],
      "metadata": {
        "id": "UKxdpJPP8PxW"
      },
      "execution_count": null,
      "outputs": []
    },
    {
      "cell_type": "code",
      "source": [
        "X_train_feature_important = selector.fit_transform(X_train_scaled, y_train)\n",
        "X_test_feature_important = selector.fit_transform(X_test_scaled, y_test)"
      ],
      "metadata": {
        "id": "pOtMK_nk8cY2"
      },
      "execution_count": null,
      "outputs": []
    },
    {
      "cell_type": "code",
      "source": [
        "# 엑스트라 트리로 주요변수에 대해서만 학습\n",
        "from sklearn.ensemble import ExtraTreesClassifier\n",
        "clf_important = ExtraTreesClassifier(n_estimators=100, random_state=CFG.SEED)\n",
        "clf_important.fit(X_train_feature_important, y_train)"
      ],
      "metadata": {
        "id": "DE4h6tXIZfmt"
      },
      "execution_count": null,
      "outputs": []
    },
    {
      "cell_type": "code",
      "source": [
        "pred1 = clf_important.predict(X_test_feature_important)"
      ],
      "metadata": {
        "id": "ccvnnK-ZbS0m"
      },
      "execution_count": null,
      "outputs": []
    },
    {
      "cell_type": "code",
      "source": [
        "get_clf_eval(y_test.values, preds1)"
      ],
      "metadata": {
        "id": "mEwJhJUHK2Az"
      },
      "execution_count": null,
      "outputs": []
    },
    {
      "cell_type": "code",
      "source": [
        "model = tf.keras.Sequential([\n",
        "                             tf.keras.layers.Dense(units=8, activation='relu', input_dim=X_train_feature_important.shape[1]),\n",
        "                             tf.keras.layers.Dense(units=100, activation='relu'),\n",
        "                             tf.keras.layers.Dense(units=100, activation='relu'),\n",
        "                             tf.keras.layers.Dense(units=3, activation='softmax')\n",
        "])\n",
        "\n",
        "model.compile(optimizer=tf.keras.optimizers.Adam(learning_rate=0.07),\n",
        "              loss='categorical_crossentropy', metrics=['accuracy', precision, recall, f1score])\n",
        "\n",
        "model.summary()"
      ],
      "metadata": {
        "id": "Cdl6O0ENK24m"
      },
      "execution_count": null,
      "outputs": []
    },
    {
      "cell_type": "code",
      "source": [
        "history = model.fit(X_train_feature_important, y_train, epochs=1000, batch_size=50, validation_split=0.25, callbacks=[tf.keras.callbacks.EarlyStopping(patience=10, monitor='val_loss')])"
      ],
      "metadata": {
        "id": "48beqVk9LXuZ"
      },
      "execution_count": null,
      "outputs": []
    },
    {
      "cell_type": "code",
      "source": [
        "y_hat = model.predict(X_test_feature_important)"
      ],
      "metadata": {
        "id": "3iMX1Wbhrmgg"
      },
      "execution_count": null,
      "outputs": []
    },
    {
      "cell_type": "code",
      "source": [
        "index = np.argmax(y_hat, axis=1)"
      ],
      "metadata": {
        "id": "mDIeYb_RsZJ0"
      },
      "execution_count": null,
      "outputs": []
    },
    {
      "cell_type": "code",
      "source": [
        "preds = pd.DataFrame()\n",
        "preds = target_label.inverse_transform(index)"
      ],
      "metadata": {
        "id": "AMBJJ6uksitC"
      },
      "execution_count": null,
      "outputs": []
    },
    {
      "cell_type": "code",
      "source": [
        "get_clf_eval(y_test, preds)"
      ],
      "metadata": {
        "id": "XTbbvpBZstHY"
      },
      "execution_count": null,
      "outputs": []
    },
    {
      "cell_type": "markdown",
      "source": [
        "## 딥러닝 다중분류모델을 이용해서 풀어보자"
      ],
      "metadata": {
        "id": "UYrFJ_ClOx1x"
      }
    },
    {
      "cell_type": "code",
      "source": [
        "import keras\n",
        "from keras.models import Sequential\n",
        "from keras.layers import Dense, Dropout, Activation\n",
        "from keras.optimizers import SGD, Adam"
      ],
      "metadata": {
        "id": "A3BXM1gX_IMm"
      },
      "execution_count": 65,
      "outputs": []
    },
    {
      "cell_type": "markdown",
      "source": [
        "### Dropout를 이용한 다중분류모델\n",
        "- F1 score : 0.982\n"
      ],
      "metadata": {
        "id": "9pK1jnzvCxmG"
      }
    },
    {
      "cell_type": "code",
      "source": [
        "dna_model = Sequential()\n",
        "dna_model.add(Dense(64, activation='relu', input_dim=X_train_scaled.shape[1]))\n",
        "dna_model.add(Dropout(0.5))\n",
        "dna_model.add(Dense(192, activation='relu'))\n",
        "dna_model.add(Dropout(0.5))\n",
        "dna_model.add(Dense(192, activation='relu'))\n",
        "dna_model.add(Dropout(0.5))\n",
        "dna_model.add(Dense(192, activation='relu'))\n",
        "dna_model.add(Dropout(0.5))\n",
        "dna_model.add(Dense(3, activation='softmax'))\n",
        "\n",
        "#sgd = SGD(lr=0.01, decay=1e-6, momentum=0.9, nesterov=True)\n",
        "dna_model.compile(loss='categorical_crossentropy',\n",
        "              optimizer=Adam(learning_rate=0.01),\n",
        "              metrics=['accuracy',precision, recall, f1score])\n",
        "\n",
        "dna_model.summary()"
      ],
      "metadata": {
        "colab": {
          "base_uri": "https://localhost:8080/"
        },
        "id": "SE-0NbFl9Nl0",
        "outputId": "4b5355ea-2bea-488f-eae9-d87a6adce8a8"
      },
      "execution_count": 66,
      "outputs": [
        {
          "output_type": "stream",
          "name": "stdout",
          "text": [
            "Model: \"sequential\"\n",
            "_________________________________________________________________\n",
            " Layer (type)                Output Shape              Param #   \n",
            "=================================================================\n",
            " dense (Dense)               (None, 64)                1024      \n",
            "                                                                 \n",
            " dropout (Dropout)           (None, 64)                0         \n",
            "                                                                 \n",
            " dense_1 (Dense)             (None, 192)               12480     \n",
            "                                                                 \n",
            " dropout_1 (Dropout)         (None, 192)               0         \n",
            "                                                                 \n",
            " dense_2 (Dense)             (None, 192)               37056     \n",
            "                                                                 \n",
            " dropout_2 (Dropout)         (None, 192)               0         \n",
            "                                                                 \n",
            " dense_3 (Dense)             (None, 192)               37056     \n",
            "                                                                 \n",
            " dropout_3 (Dropout)         (None, 192)               0         \n",
            "                                                                 \n",
            " dense_4 (Dense)             (None, 3)                 579       \n",
            "                                                                 \n",
            "=================================================================\n",
            "Total params: 88,195\n",
            "Trainable params: 88,195\n",
            "Non-trainable params: 0\n",
            "_________________________________________________________________\n"
          ]
        }
      ]
    },
    {
      "cell_type": "code",
      "source": [
        "hist = dna_model.fit(X_train_scaled, y_train_scaled, epochs=500, batch_size=100, validation_split=0.25, callbacks=[tf.keras.callbacks.EarlyStopping(patience=50, monitor='val_f1score')])"
      ],
      "metadata": {
        "id": "VqqMDlBhAmnz",
        "colab": {
          "base_uri": "https://localhost:8080/"
        },
        "outputId": "c57b9c42-b32d-4a86-f8bc-eae1011d4d35"
      },
      "execution_count": 72,
      "outputs": [
        {
          "output_type": "stream",
          "name": "stdout",
          "text": [
            "Epoch 1/500\n",
            "2/2 [==============================] - 1s 350ms/step - loss: 33.7741 - accuracy: 0.1859 - precision: 0.1882 - recall: 0.1882 - f1score: 0.1882 - val_loss: 5.7835 - val_accuracy: 0.3208 - val_precision: 0.3208 - val_recall: 0.3208 - val_f1score: 0.3208\n",
            "Epoch 2/500\n",
            "2/2 [==============================] - 0s 36ms/step - loss: 5.6733 - accuracy: 0.2756 - precision: 0.2872 - recall: 0.2757 - f1score: 0.2813 - val_loss: 1.1108 - val_accuracy: 0.3585 - val_precision: 0.3784 - val_recall: 0.2642 - val_f1score: 0.3111\n",
            "Epoch 3/500\n",
            "2/2 [==============================] - 0s 29ms/step - loss: 1.5662 - accuracy: 0.3590 - precision: 0.4307 - recall: 0.2661 - f1score: 0.3225 - val_loss: 1.0646 - val_accuracy: 0.3396 - val_precision: 0.4444 - val_recall: 0.1509 - val_f1score: 0.2254\n",
            "Epoch 4/500\n",
            "2/2 [==============================] - 0s 30ms/step - loss: 1.1669 - accuracy: 0.4038 - precision: 0.3939 - recall: 0.1786 - f1score: 0.2424 - val_loss: 1.1387 - val_accuracy: 0.2264 - val_precision: 0.6667 - val_recall: 0.0377 - val_f1score: 0.0714\n",
            "Epoch 5/500\n",
            "2/2 [==============================] - 0s 30ms/step - loss: 1.1761 - accuracy: 0.3590 - precision: 0.4264 - recall: 0.0996 - f1score: 0.1572 - val_loss: 1.0614 - val_accuracy: 0.4528 - val_precision: 0.0000e+00 - val_recall: 0.0000e+00 - val_f1score: 0.0000e+00\n",
            "Epoch 6/500\n",
            "2/2 [==============================] - 0s 49ms/step - loss: 1.0617 - accuracy: 0.4359 - precision: 0.6085 - recall: 0.1432 - f1score: 0.2297 - val_loss: 1.0295 - val_accuracy: 0.4528 - val_precision: 0.0000e+00 - val_recall: 0.0000e+00 - val_f1score: 0.0000e+00\n",
            "Epoch 7/500\n",
            "2/2 [==============================] - 0s 32ms/step - loss: 1.0896 - accuracy: 0.4295 - precision: 0.5299 - recall: 0.1971 - f1score: 0.2872 - val_loss: 1.0010 - val_accuracy: 0.4528 - val_precision: 1.0000 - val_recall: 0.1321 - val_f1score: 0.2333\n",
            "Epoch 8/500\n",
            "2/2 [==============================] - 0s 35ms/step - loss: 1.1275 - accuracy: 0.4295 - precision: 0.4878 - recall: 0.3129 - f1score: 0.3812 - val_loss: 1.0000 - val_accuracy: 0.4528 - val_precision: 1.0000 - val_recall: 0.0566 - val_f1score: 0.1071\n",
            "Epoch 9/500\n",
            "2/2 [==============================] - 0s 31ms/step - loss: 1.0547 - accuracy: 0.4231 - precision: 0.5300 - recall: 0.2829 - f1score: 0.3685 - val_loss: 1.0112 - val_accuracy: 0.4528 - val_precision: 1.0000 - val_recall: 0.0189 - val_f1score: 0.0370\n",
            "Epoch 10/500\n",
            "2/2 [==============================] - 0s 31ms/step - loss: 1.0913 - accuracy: 0.3974 - precision: 0.4147 - recall: 0.1436 - f1score: 0.2133 - val_loss: 1.0233 - val_accuracy: 0.4528 - val_precision: 0.0000e+00 - val_recall: 0.0000e+00 - val_f1score: 0.0000e+00\n",
            "Epoch 11/500\n",
            "2/2 [==============================] - 0s 40ms/step - loss: 1.0648 - accuracy: 0.4295 - precision: 0.5500 - recall: 0.1186 - f1score: 0.1941 - val_loss: 1.0257 - val_accuracy: 0.4528 - val_precision: 0.0000e+00 - val_recall: 0.0000e+00 - val_f1score: 0.0000e+00\n",
            "Epoch 12/500\n",
            "2/2 [==============================] - 0s 55ms/step - loss: 1.0109 - accuracy: 0.4295 - precision: 0.6026 - recall: 0.1593 - f1score: 0.2520 - val_loss: 1.0120 - val_accuracy: 0.5849 - val_precision: 0.0000e+00 - val_recall: 0.0000e+00 - val_f1score: 0.0000e+00\n",
            "Epoch 13/500\n",
            "2/2 [==============================] - 0s 31ms/step - loss: 1.0341 - accuracy: 0.4744 - precision: 0.6621 - recall: 0.1961 - f1score: 0.3013 - val_loss: 0.9600 - val_accuracy: 0.5660 - val_precision: 1.0000 - val_recall: 0.0189 - val_f1score: 0.0370\n",
            "Epoch 14/500\n",
            "2/2 [==============================] - 0s 38ms/step - loss: 0.9797 - accuracy: 0.5000 - precision: 0.7427 - recall: 0.2611 - f1score: 0.3858 - val_loss: 0.8619 - val_accuracy: 0.5472 - val_precision: 0.8947 - val_recall: 0.3208 - val_f1score: 0.4722\n",
            "Epoch 15/500\n",
            "2/2 [==============================] - 0s 32ms/step - loss: 0.8748 - accuracy: 0.5449 - precision: 0.6429 - recall: 0.3450 - f1score: 0.4487 - val_loss: 0.7880 - val_accuracy: 0.5660 - val_precision: 0.8276 - val_recall: 0.4528 - val_f1score: 0.5854\n",
            "Epoch 16/500\n",
            "2/2 [==============================] - 0s 32ms/step - loss: 0.8380 - accuracy: 0.5962 - precision: 0.7566 - recall: 0.4171 - f1score: 0.5371 - val_loss: 0.7642 - val_accuracy: 0.6226 - val_precision: 0.8889 - val_recall: 0.4528 - val_f1score: 0.6000\n",
            "Epoch 17/500\n",
            "2/2 [==============================] - 0s 29ms/step - loss: 0.7785 - accuracy: 0.6410 - precision: 0.7820 - recall: 0.3904 - f1score: 0.5206 - val_loss: 0.6825 - val_accuracy: 0.6415 - val_precision: 0.8857 - val_recall: 0.5849 - val_f1score: 0.7045\n",
            "Epoch 18/500\n",
            "2/2 [==============================] - 0s 30ms/step - loss: 0.7642 - accuracy: 0.7115 - precision: 0.7203 - recall: 0.5279 - f1score: 0.6089 - val_loss: 0.6275 - val_accuracy: 0.6792 - val_precision: 0.8158 - val_recall: 0.5849 - val_f1score: 0.6813\n",
            "Epoch 19/500\n",
            "2/2 [==============================] - 0s 30ms/step - loss: 0.6968 - accuracy: 0.6603 - precision: 0.7802 - recall: 0.5539 - f1score: 0.6476 - val_loss: 0.5892 - val_accuracy: 0.7547 - val_precision: 0.7949 - val_recall: 0.5849 - val_f1score: 0.6739\n",
            "Epoch 20/500\n",
            "2/2 [==============================] - 0s 35ms/step - loss: 0.5960 - accuracy: 0.7051 - precision: 0.7341 - recall: 0.5996 - f1score: 0.6601 - val_loss: 0.5456 - val_accuracy: 0.6792 - val_precision: 0.7561 - val_recall: 0.5849 - val_f1score: 0.6596\n",
            "Epoch 21/500\n",
            "2/2 [==============================] - 0s 31ms/step - loss: 0.6113 - accuracy: 0.6795 - precision: 0.7554 - recall: 0.6164 - f1score: 0.6788 - val_loss: 0.5111 - val_accuracy: 0.6226 - val_precision: 0.6458 - val_recall: 0.5849 - val_f1score: 0.6139\n",
            "Epoch 22/500\n",
            "2/2 [==============================] - 0s 48ms/step - loss: 0.6517 - accuracy: 0.7372 - precision: 0.7591 - recall: 0.6661 - f1score: 0.7093 - val_loss: 0.5054 - val_accuracy: 0.6415 - val_precision: 0.6458 - val_recall: 0.5849 - val_f1score: 0.6139\n",
            "Epoch 23/500\n",
            "2/2 [==============================] - 0s 31ms/step - loss: 0.5232 - accuracy: 0.7436 - precision: 0.7654 - recall: 0.6950 - f1score: 0.7278 - val_loss: 0.5112 - val_accuracy: 0.7170 - val_precision: 0.7143 - val_recall: 0.6604 - val_f1score: 0.6863\n",
            "Epoch 24/500\n",
            "2/2 [==============================] - 0s 37ms/step - loss: 0.5447 - accuracy: 0.7244 - precision: 0.7459 - recall: 0.6375 - f1score: 0.6874 - val_loss: 0.5269 - val_accuracy: 0.8491 - val_precision: 0.8462 - val_recall: 0.8302 - val_f1score: 0.8381\n",
            "Epoch 25/500\n",
            "2/2 [==============================] - 0s 49ms/step - loss: 0.5383 - accuracy: 0.7179 - precision: 0.7367 - recall: 0.6514 - f1score: 0.6913 - val_loss: 0.4973 - val_accuracy: 0.6792 - val_precision: 0.6889 - val_recall: 0.5849 - val_f1score: 0.6327\n",
            "Epoch 26/500\n",
            "2/2 [==============================] - 0s 33ms/step - loss: 0.4582 - accuracy: 0.7436 - precision: 0.7739 - recall: 0.7032 - f1score: 0.7368 - val_loss: 0.4851 - val_accuracy: 0.6604 - val_precision: 0.6458 - val_recall: 0.5849 - val_f1score: 0.6139\n",
            "Epoch 27/500\n",
            "2/2 [==============================] - 0s 44ms/step - loss: 0.4557 - accuracy: 0.7692 - precision: 0.8172 - recall: 0.7211 - f1score: 0.7661 - val_loss: 0.4977 - val_accuracy: 0.8302 - val_precision: 0.7949 - val_recall: 0.5849 - val_f1score: 0.6739\n",
            "Epoch 28/500\n",
            "2/2 [==============================] - 0s 32ms/step - loss: 0.4837 - accuracy: 0.7821 - precision: 0.8101 - recall: 0.7300 - f1score: 0.7680 - val_loss: 0.5005 - val_accuracy: 0.8679 - val_precision: 0.8478 - val_recall: 0.7358 - val_f1score: 0.7879\n",
            "Epoch 29/500\n",
            "2/2 [==============================] - 0s 37ms/step - loss: 0.5278 - accuracy: 0.8077 - precision: 0.8156 - recall: 0.6925 - f1score: 0.7473 - val_loss: 0.4808 - val_accuracy: 0.8679 - val_precision: 0.8158 - val_recall: 0.5849 - val_f1score: 0.6813\n",
            "Epoch 30/500\n",
            "2/2 [==============================] - 0s 31ms/step - loss: 0.4652 - accuracy: 0.8013 - precision: 0.8028 - recall: 0.7004 - f1score: 0.7481 - val_loss: 0.4730 - val_accuracy: 0.8491 - val_precision: 0.8333 - val_recall: 0.6604 - val_f1score: 0.7368\n",
            "Epoch 31/500\n",
            "2/2 [==============================] - 0s 31ms/step - loss: 0.4747 - accuracy: 0.7372 - precision: 0.7777 - recall: 0.6789 - f1score: 0.7241 - val_loss: 0.4880 - val_accuracy: 0.8868 - val_precision: 0.8750 - val_recall: 0.7925 - val_f1score: 0.8317\n",
            "Epoch 32/500\n",
            "2/2 [==============================] - 0s 31ms/step - loss: 0.4429 - accuracy: 0.7756 - precision: 0.7901 - recall: 0.6575 - f1score: 0.7175 - val_loss: 0.4778 - val_accuracy: 0.8868 - val_precision: 0.8750 - val_recall: 0.7925 - val_f1score: 0.8317\n",
            "Epoch 33/500\n",
            "2/2 [==============================] - 0s 32ms/step - loss: 0.4109 - accuracy: 0.8205 - precision: 0.8444 - recall: 0.7232 - f1score: 0.7790 - val_loss: 0.4590 - val_accuracy: 0.8679 - val_precision: 0.8571 - val_recall: 0.7925 - val_f1score: 0.8235\n",
            "Epoch 34/500\n",
            "2/2 [==============================] - 0s 31ms/step - loss: 0.4444 - accuracy: 0.7821 - precision: 0.7686 - recall: 0.6954 - f1score: 0.7298 - val_loss: 0.4566 - val_accuracy: 0.8868 - val_precision: 0.8776 - val_recall: 0.8113 - val_f1score: 0.8431\n",
            "Epoch 35/500\n",
            "2/2 [==============================] - 0s 29ms/step - loss: 0.4346 - accuracy: 0.7821 - precision: 0.8290 - recall: 0.7618 - f1score: 0.7938 - val_loss: 0.4507 - val_accuracy: 0.8868 - val_precision: 0.8776 - val_recall: 0.8113 - val_f1score: 0.8431\n",
            "Epoch 36/500\n",
            "2/2 [==============================] - 0s 32ms/step - loss: 0.4457 - accuracy: 0.7885 - precision: 0.7886 - recall: 0.7193 - f1score: 0.7523 - val_loss: 0.4414 - val_accuracy: 0.9057 - val_precision: 0.9020 - val_recall: 0.8679 - val_f1score: 0.8846\n",
            "Epoch 37/500\n",
            "2/2 [==============================] - 0s 29ms/step - loss: 0.4848 - accuracy: 0.7756 - precision: 0.7856 - recall: 0.7232 - f1score: 0.7531 - val_loss: 0.4709 - val_accuracy: 0.9245 - val_precision: 0.9231 - val_recall: 0.9057 - val_f1score: 0.9143\n",
            "Epoch 38/500\n",
            "2/2 [==============================] - 0s 30ms/step - loss: 0.4178 - accuracy: 0.8141 - precision: 0.8193 - recall: 0.7768 - f1score: 0.7975 - val_loss: 0.4985 - val_accuracy: 0.9245 - val_precision: 0.9231 - val_recall: 0.9057 - val_f1score: 0.9143\n",
            "Epoch 39/500\n",
            "2/2 [==============================] - 0s 30ms/step - loss: 0.3921 - accuracy: 0.7885 - precision: 0.8014 - recall: 0.7589 - f1score: 0.7795 - val_loss: 0.4216 - val_accuracy: 0.8868 - val_precision: 0.8846 - val_recall: 0.8679 - val_f1score: 0.8762\n",
            "Epoch 40/500\n",
            "2/2 [==============================] - 0s 31ms/step - loss: 0.4079 - accuracy: 0.8269 - precision: 0.8209 - recall: 0.7818 - f1score: 0.8008 - val_loss: 0.3852 - val_accuracy: 0.8679 - val_precision: 0.8654 - val_recall: 0.8491 - val_f1score: 0.8571\n",
            "Epoch 41/500\n",
            "2/2 [==============================] - 0s 29ms/step - loss: 0.3849 - accuracy: 0.8205 - precision: 0.8196 - recall: 0.7918 - f1score: 0.8054 - val_loss: 0.3795 - val_accuracy: 0.8679 - val_precision: 0.8627 - val_recall: 0.8302 - val_f1score: 0.8462\n",
            "Epoch 42/500\n",
            "2/2 [==============================] - 0s 35ms/step - loss: 0.3698 - accuracy: 0.8462 - precision: 0.8650 - recall: 0.7957 - f1score: 0.8289 - val_loss: 0.3911 - val_accuracy: 0.8679 - val_precision: 0.8824 - val_recall: 0.8491 - val_f1score: 0.8654\n",
            "Epoch 43/500\n",
            "2/2 [==============================] - 0s 30ms/step - loss: 0.3823 - accuracy: 0.8462 - precision: 0.8744 - recall: 0.8125 - f1score: 0.8422 - val_loss: 0.4600 - val_accuracy: 0.9057 - val_precision: 0.9020 - val_recall: 0.8679 - val_f1score: 0.8846\n",
            "Epoch 44/500\n",
            "2/2 [==============================] - 0s 33ms/step - loss: 0.3378 - accuracy: 0.8590 - precision: 0.8672 - recall: 0.8268 - f1score: 0.8465 - val_loss: 0.5239 - val_accuracy: 0.8113 - val_precision: 0.8235 - val_recall: 0.7925 - val_f1score: 0.8077\n",
            "Epoch 45/500\n",
            "2/2 [==============================] - 0s 36ms/step - loss: 0.3839 - accuracy: 0.8397 - precision: 0.8533 - recall: 0.8007 - f1score: 0.8262 - val_loss: 0.4493 - val_accuracy: 0.8868 - val_precision: 0.8824 - val_recall: 0.8491 - val_f1score: 0.8654\n",
            "Epoch 46/500\n",
            "2/2 [==============================] - 0s 34ms/step - loss: 0.3667 - accuracy: 0.8269 - precision: 0.8539 - recall: 0.7968 - f1score: 0.8243 - val_loss: 0.3591 - val_accuracy: 0.9057 - val_precision: 0.9038 - val_recall: 0.8868 - val_f1score: 0.8952\n",
            "Epoch 47/500\n",
            "2/2 [==============================] - 0s 34ms/step - loss: 0.3934 - accuracy: 0.8397 - precision: 0.8622 - recall: 0.8325 - f1score: 0.8468 - val_loss: 0.3416 - val_accuracy: 0.9057 - val_precision: 0.9057 - val_recall: 0.9057 - val_f1score: 0.9057\n",
            "Epoch 48/500\n",
            "2/2 [==============================] - 0s 31ms/step - loss: 0.4816 - accuracy: 0.8526 - precision: 0.8497 - recall: 0.8218 - f1score: 0.8355 - val_loss: 0.3632 - val_accuracy: 0.9623 - val_precision: 0.9615 - val_recall: 0.9434 - val_f1score: 0.9524\n",
            "Epoch 49/500\n",
            "2/2 [==============================] - 0s 38ms/step - loss: 0.3528 - accuracy: 0.8526 - precision: 0.8603 - recall: 0.8307 - f1score: 0.8452 - val_loss: 0.4256 - val_accuracy: 0.8868 - val_precision: 0.8868 - val_recall: 0.8868 - val_f1score: 0.8868\n",
            "Epoch 50/500\n",
            "2/2 [==============================] - 0s 38ms/step - loss: 0.2989 - accuracy: 0.9038 - precision: 0.9137 - recall: 0.8954 - f1score: 0.9043 - val_loss: 0.4140 - val_accuracy: 0.9057 - val_precision: 0.9057 - val_recall: 0.9057 - val_f1score: 0.9057\n",
            "Epoch 51/500\n",
            "2/2 [==============================] - 0s 35ms/step - loss: 0.3259 - accuracy: 0.8718 - precision: 0.9050 - recall: 0.8793 - f1score: 0.8919 - val_loss: 0.3637 - val_accuracy: 0.9434 - val_precision: 0.9434 - val_recall: 0.9434 - val_f1score: 0.9434\n",
            "Epoch 52/500\n",
            "2/2 [==============================] - 0s 34ms/step - loss: 0.3161 - accuracy: 0.8590 - precision: 0.8727 - recall: 0.8396 - f1score: 0.8558 - val_loss: 0.3305 - val_accuracy: 0.9811 - val_precision: 0.9811 - val_recall: 0.9811 - val_f1score: 0.9811\n",
            "Epoch 53/500\n",
            "2/2 [==============================] - 0s 37ms/step - loss: 0.3589 - accuracy: 0.8526 - precision: 0.8556 - recall: 0.8436 - f1score: 0.8495 - val_loss: 0.3237 - val_accuracy: 0.9623 - val_precision: 0.9623 - val_recall: 0.9623 - val_f1score: 0.9623\n",
            "Epoch 54/500\n",
            "2/2 [==============================] - 0s 35ms/step - loss: 0.3320 - accuracy: 0.8654 - precision: 0.8616 - recall: 0.8496 - f1score: 0.8556 - val_loss: 0.3105 - val_accuracy: 0.9811 - val_precision: 0.9811 - val_recall: 0.9811 - val_f1score: 0.9811\n",
            "Epoch 55/500\n",
            "2/2 [==============================] - 0s 35ms/step - loss: 0.3321 - accuracy: 0.8846 - precision: 0.8897 - recall: 0.8854 - f1score: 0.8875 - val_loss: 0.3016 - val_accuracy: 0.9811 - val_precision: 0.9811 - val_recall: 0.9811 - val_f1score: 0.9811\n"
          ]
        }
      ]
    },
    {
      "cell_type": "code",
      "source": [
        "# pca로 변환한 열을 이용해 학습\n",
        "hist = dna_model.fit(X_train_pca, y_train_scaled, epochs=500, batch_size=100, validation_split=0.25, callbacks=[tf.keras.callbacks.EarlyStopping(patience=50, monitor='val_f1score')])"
      ],
      "metadata": {
        "colab": {
          "base_uri": "https://localhost:8080/"
        },
        "id": "I8gG9gqrJRSP",
        "outputId": "0a5e4f28-0bb2-4486-8e9e-109355394504"
      },
      "execution_count": 77,
      "outputs": [
        {
          "output_type": "stream",
          "name": "stdout",
          "text": [
            "Epoch 1/500\n",
            "2/2 [==============================] - 0s 86ms/step - loss: 2.7840 - accuracy: 0.2756 - precision: 0.2822 - recall: 0.2718 - f1score: 0.2769 - val_loss: 1.3987 - val_accuracy: 0.3585 - val_precision: 0.3654 - val_recall: 0.3585 - val_f1score: 0.3619\n",
            "Epoch 2/500\n",
            "2/2 [==============================] - 0s 30ms/step - loss: 1.6783 - accuracy: 0.3269 - precision: 0.3406 - recall: 0.3029 - f1score: 0.3205 - val_loss: 1.1476 - val_accuracy: 0.3774 - val_precision: 0.4634 - val_recall: 0.3585 - val_f1score: 0.4043\n",
            "Epoch 3/500\n",
            "2/2 [==============================] - 0s 32ms/step - loss: 1.1893 - accuracy: 0.3013 - precision: 0.3288 - recall: 0.2182 - f1score: 0.2615 - val_loss: 1.1292 - val_accuracy: 0.4340 - val_precision: 0.7333 - val_recall: 0.2075 - val_f1score: 0.3235\n",
            "Epoch 4/500\n",
            "2/2 [==============================] - 0s 33ms/step - loss: 0.9977 - accuracy: 0.4936 - precision: 0.6295 - recall: 0.2682 - f1score: 0.3733 - val_loss: 1.0732 - val_accuracy: 0.5283 - val_precision: 1.0000 - val_recall: 0.0943 - val_f1score: 0.1724\n",
            "Epoch 5/500\n",
            "2/2 [==============================] - 0s 30ms/step - loss: 0.8018 - accuracy: 0.6218 - precision: 0.8721 - recall: 0.4000 - f1score: 0.5446 - val_loss: 0.9189 - val_accuracy: 0.6604 - val_precision: 1.0000 - val_recall: 0.1887 - val_f1score: 0.3175\n",
            "Epoch 6/500\n",
            "2/2 [==============================] - 0s 28ms/step - loss: 0.7093 - accuracy: 0.7628 - precision: 0.9585 - recall: 0.4382 - f1score: 0.6014 - val_loss: 0.6892 - val_accuracy: 0.8679 - val_precision: 1.0000 - val_recall: 0.3585 - val_f1score: 0.5278\n",
            "Epoch 7/500\n",
            "2/2 [==============================] - 0s 31ms/step - loss: 0.5887 - accuracy: 0.7949 - precision: 0.9649 - recall: 0.5239 - f1score: 0.6788 - val_loss: 0.5699 - val_accuracy: 0.8679 - val_precision: 0.9259 - val_recall: 0.4717 - val_f1score: 0.6250\n",
            "Epoch 8/500\n",
            "2/2 [==============================] - 0s 31ms/step - loss: 0.4886 - accuracy: 0.7821 - precision: 0.9309 - recall: 0.6493 - f1score: 0.7649 - val_loss: 0.5488 - val_accuracy: 0.8113 - val_precision: 0.8710 - val_recall: 0.5094 - val_f1score: 0.6429\n",
            "Epoch 9/500\n",
            "2/2 [==============================] - 0s 50ms/step - loss: 0.6332 - accuracy: 0.7949 - precision: 0.8489 - recall: 0.6793 - f1score: 0.7546 - val_loss: 0.5203 - val_accuracy: 0.7925 - val_precision: 0.9310 - val_recall: 0.5094 - val_f1score: 0.6585\n",
            "Epoch 10/500\n",
            "2/2 [==============================] - 0s 50ms/step - loss: 0.4278 - accuracy: 0.8590 - precision: 0.9003 - recall: 0.6682 - f1score: 0.7665 - val_loss: 0.5103 - val_accuracy: 0.8679 - val_precision: 0.9643 - val_recall: 0.5094 - val_f1score: 0.6667\n",
            "Epoch 11/500\n",
            "2/2 [==============================] - 0s 35ms/step - loss: 0.5660 - accuracy: 0.8397 - precision: 0.9079 - recall: 0.7000 - f1score: 0.7897 - val_loss: 0.5050 - val_accuracy: 0.9057 - val_precision: 0.9630 - val_recall: 0.4906 - val_f1score: 0.6500\n",
            "Epoch 12/500\n",
            "2/2 [==============================] - 0s 28ms/step - loss: 0.3765 - accuracy: 0.8782 - precision: 0.9594 - recall: 0.6793 - f1score: 0.7953 - val_loss: 0.5098 - val_accuracy: 0.9057 - val_precision: 0.9630 - val_recall: 0.4906 - val_f1score: 0.6500\n",
            "Epoch 13/500\n",
            "2/2 [==============================] - 0s 42ms/step - loss: 0.3494 - accuracy: 0.8910 - precision: 0.9592 - recall: 0.6564 - f1score: 0.7794 - val_loss: 0.5129 - val_accuracy: 0.9057 - val_precision: 0.9630 - val_recall: 0.4906 - val_f1score: 0.6500\n",
            "Epoch 14/500\n",
            "2/2 [==============================] - 0s 31ms/step - loss: 0.3621 - accuracy: 0.9038 - precision: 0.9615 - recall: 0.6964 - f1score: 0.8075 - val_loss: 0.5052 - val_accuracy: 0.9057 - val_precision: 0.9722 - val_recall: 0.6604 - val_f1score: 0.7865\n",
            "Epoch 15/500\n",
            "2/2 [==============================] - 0s 48ms/step - loss: 0.3206 - accuracy: 0.9295 - precision: 0.9581 - recall: 0.7071 - f1score: 0.8134 - val_loss: 0.4848 - val_accuracy: 0.9057 - val_precision: 0.9778 - val_recall: 0.8302 - val_f1score: 0.8980\n",
            "Epoch 16/500\n",
            "2/2 [==============================] - 0s 35ms/step - loss: 0.3521 - accuracy: 0.8782 - precision: 0.9267 - recall: 0.7171 - f1score: 0.8085 - val_loss: 0.4506 - val_accuracy: 0.9057 - val_precision: 0.9216 - val_recall: 0.8868 - val_f1score: 0.9038\n",
            "Epoch 17/500\n",
            "2/2 [==============================] - 0s 29ms/step - loss: 0.2941 - accuracy: 0.9231 - precision: 0.9131 - recall: 0.8139 - f1score: 0.8607 - val_loss: 0.4086 - val_accuracy: 0.9245 - val_precision: 0.9200 - val_recall: 0.8679 - val_f1score: 0.8932\n",
            "Epoch 18/500\n",
            "2/2 [==============================] - 0s 31ms/step - loss: 0.2419 - accuracy: 0.9487 - precision: 0.9655 - recall: 0.9171 - f1score: 0.9400 - val_loss: 0.3811 - val_accuracy: 0.8868 - val_precision: 0.9038 - val_recall: 0.8868 - val_f1score: 0.8952\n",
            "Epoch 19/500\n",
            "2/2 [==============================] - 0s 30ms/step - loss: 0.2430 - accuracy: 0.9231 - precision: 0.9316 - recall: 0.9271 - f1score: 0.9294 - val_loss: 0.3645 - val_accuracy: 0.8868 - val_precision: 0.9020 - val_recall: 0.8679 - val_f1score: 0.8846\n",
            "Epoch 20/500\n",
            "2/2 [==============================] - 0s 28ms/step - loss: 0.2126 - accuracy: 0.9615 - precision: 0.9574 - recall: 0.9393 - f1score: 0.9483 - val_loss: 0.3595 - val_accuracy: 0.8868 - val_precision: 0.8868 - val_recall: 0.8868 - val_f1score: 0.8868\n",
            "Epoch 21/500\n",
            "2/2 [==============================] - 0s 29ms/step - loss: 0.2098 - accuracy: 0.9615 - precision: 0.9621 - recall: 0.9404 - f1score: 0.9511 - val_loss: 0.3646 - val_accuracy: 0.8868 - val_precision: 0.8868 - val_recall: 0.8868 - val_f1score: 0.8868\n",
            "Epoch 22/500\n",
            "2/2 [==============================] - 0s 31ms/step - loss: 0.2403 - accuracy: 0.9487 - precision: 0.9477 - recall: 0.9214 - f1score: 0.9343 - val_loss: 0.3707 - val_accuracy: 0.8868 - val_precision: 0.8868 - val_recall: 0.8868 - val_f1score: 0.8868\n",
            "Epoch 23/500\n",
            "2/2 [==============================] - 0s 28ms/step - loss: 0.1637 - accuracy: 0.9679 - precision: 0.9670 - recall: 0.9621 - f1score: 0.9646 - val_loss: 0.3636 - val_accuracy: 0.8868 - val_precision: 0.8868 - val_recall: 0.8868 - val_f1score: 0.8868\n",
            "Epoch 24/500\n",
            "2/2 [==============================] - 0s 30ms/step - loss: 0.1549 - accuracy: 0.9679 - precision: 0.9711 - recall: 0.9711 - f1score: 0.9711 - val_loss: 0.3510 - val_accuracy: 0.8868 - val_precision: 0.8868 - val_recall: 0.8868 - val_f1score: 0.8868\n",
            "Epoch 25/500\n",
            "2/2 [==============================] - 0s 31ms/step - loss: 0.1708 - accuracy: 0.9423 - precision: 0.9556 - recall: 0.9421 - f1score: 0.9488 - val_loss: 0.3267 - val_accuracy: 0.8868 - val_precision: 0.8868 - val_recall: 0.8868 - val_f1score: 0.8868\n",
            "Epoch 26/500\n",
            "2/2 [==============================] - 0s 30ms/step - loss: 0.1611 - accuracy: 0.9423 - precision: 0.9432 - recall: 0.9432 - f1score: 0.9432 - val_loss: 0.2776 - val_accuracy: 0.9057 - val_precision: 0.9057 - val_recall: 0.9057 - val_f1score: 0.9057\n",
            "Epoch 27/500\n",
            "2/2 [==============================] - 0s 30ms/step - loss: 0.1624 - accuracy: 0.9487 - precision: 0.9480 - recall: 0.9432 - f1score: 0.9456 - val_loss: 0.2387 - val_accuracy: 0.9057 - val_precision: 0.9057 - val_recall: 0.9057 - val_f1score: 0.9057\n",
            "Epoch 28/500\n",
            "2/2 [==============================] - 0s 38ms/step - loss: 0.1883 - accuracy: 0.9487 - precision: 0.9482 - recall: 0.9482 - f1score: 0.9482 - val_loss: 0.2298 - val_accuracy: 0.8868 - val_precision: 0.8868 - val_recall: 0.8868 - val_f1score: 0.8868\n",
            "Epoch 29/500\n",
            "2/2 [==============================] - 0s 34ms/step - loss: 0.1950 - accuracy: 0.9359 - precision: 0.9475 - recall: 0.9343 - f1score: 0.9408 - val_loss: 0.2307 - val_accuracy: 0.9057 - val_precision: 0.9231 - val_recall: 0.9057 - val_f1score: 0.9143\n",
            "Epoch 30/500\n",
            "2/2 [==============================] - 0s 30ms/step - loss: 0.1427 - accuracy: 0.9744 - precision: 0.9759 - recall: 0.9671 - f1score: 0.9715 - val_loss: 0.2410 - val_accuracy: 0.9057 - val_precision: 0.9231 - val_recall: 0.9057 - val_f1score: 0.9143\n",
            "Epoch 31/500\n",
            "2/2 [==============================] - 0s 35ms/step - loss: 0.1624 - accuracy: 0.9615 - precision: 0.9582 - recall: 0.9582 - f1score: 0.9582 - val_loss: 0.2477 - val_accuracy: 0.9057 - val_precision: 0.9057 - val_recall: 0.9057 - val_f1score: 0.9057\n",
            "Epoch 32/500\n",
            "2/2 [==============================] - 0s 31ms/step - loss: 0.1208 - accuracy: 0.9679 - precision: 0.9720 - recall: 0.9671 - f1score: 0.9696 - val_loss: 0.2635 - val_accuracy: 0.9057 - val_precision: 0.9057 - val_recall: 0.9057 - val_f1score: 0.9057\n",
            "Epoch 33/500\n",
            "2/2 [==============================] - 0s 30ms/step - loss: 0.1409 - accuracy: 0.9551 - precision: 0.9577 - recall: 0.9493 - f1score: 0.9535 - val_loss: 0.2775 - val_accuracy: 0.8868 - val_precision: 0.8868 - val_recall: 0.8868 - val_f1score: 0.8868\n",
            "Epoch 34/500\n",
            "2/2 [==============================] - 0s 30ms/step - loss: 0.0871 - accuracy: 0.9872 - precision: 0.9861 - recall: 0.9861 - f1score: 0.9861 - val_loss: 0.2838 - val_accuracy: 0.8868 - val_precision: 0.8868 - val_recall: 0.8868 - val_f1score: 0.8868\n",
            "Epoch 35/500\n",
            "2/2 [==============================] - 0s 35ms/step - loss: 0.0718 - accuracy: 0.9808 - precision: 0.9850 - recall: 0.9850 - f1score: 0.9850 - val_loss: 0.2932 - val_accuracy: 0.8868 - val_precision: 0.8868 - val_recall: 0.8868 - val_f1score: 0.8868\n",
            "Epoch 36/500\n",
            "2/2 [==============================] - 0s 32ms/step - loss: 0.1569 - accuracy: 0.9551 - precision: 0.9527 - recall: 0.9443 - f1score: 0.9485 - val_loss: 0.2917 - val_accuracy: 0.8868 - val_precision: 0.9038 - val_recall: 0.8868 - val_f1score: 0.8952\n",
            "Epoch 37/500\n",
            "2/2 [==============================] - 0s 31ms/step - loss: 0.1092 - accuracy: 0.9615 - precision: 0.9543 - recall: 0.9543 - f1score: 0.9543 - val_loss: 0.2877 - val_accuracy: 0.8868 - val_precision: 0.8868 - val_recall: 0.8868 - val_f1score: 0.8868\n",
            "Epoch 38/500\n",
            "2/2 [==============================] - 0s 30ms/step - loss: 0.1066 - accuracy: 0.9679 - precision: 0.9750 - recall: 0.9750 - f1score: 0.9750 - val_loss: 0.2618 - val_accuracy: 0.9057 - val_precision: 0.9038 - val_recall: 0.8868 - val_f1score: 0.8952\n",
            "Epoch 39/500\n",
            "2/2 [==============================] - 0s 34ms/step - loss: 0.0933 - accuracy: 0.9744 - precision: 0.9761 - recall: 0.9761 - f1score: 0.9761 - val_loss: 0.2422 - val_accuracy: 0.9057 - val_precision: 0.9231 - val_recall: 0.9057 - val_f1score: 0.9143\n",
            "Epoch 40/500\n",
            "2/2 [==============================] - 0s 34ms/step - loss: 0.0497 - accuracy: 0.9872 - precision: 0.9861 - recall: 0.9861 - f1score: 0.9861 - val_loss: 0.2332 - val_accuracy: 0.9245 - val_precision: 0.9245 - val_recall: 0.9245 - val_f1score: 0.9245\n",
            "Epoch 41/500\n",
            "2/2 [==============================] - 0s 49ms/step - loss: 0.1688 - accuracy: 0.9487 - precision: 0.9482 - recall: 0.9482 - f1score: 0.9482 - val_loss: 0.2186 - val_accuracy: 0.9245 - val_precision: 0.9245 - val_recall: 0.9245 - val_f1score: 0.9245\n",
            "Epoch 42/500\n",
            "2/2 [==============================] - 0s 31ms/step - loss: 0.1027 - accuracy: 0.9679 - precision: 0.9711 - recall: 0.9711 - f1score: 0.9711 - val_loss: 0.2071 - val_accuracy: 0.9245 - val_precision: 0.9245 - val_recall: 0.9245 - val_f1score: 0.9245\n",
            "Epoch 43/500\n",
            "2/2 [==============================] - 0s 31ms/step - loss: 0.1003 - accuracy: 0.9551 - precision: 0.9569 - recall: 0.9521 - f1score: 0.9545 - val_loss: 0.2009 - val_accuracy: 0.9245 - val_precision: 0.9245 - val_recall: 0.9245 - val_f1score: 0.9245\n",
            "Epoch 44/500\n",
            "2/2 [==============================] - 0s 31ms/step - loss: 0.1073 - accuracy: 0.9615 - precision: 0.9535 - recall: 0.9404 - f1score: 0.9469 - val_loss: 0.1971 - val_accuracy: 0.9245 - val_precision: 0.9245 - val_recall: 0.9245 - val_f1score: 0.9245\n",
            "Epoch 45/500\n",
            "2/2 [==============================] - 0s 52ms/step - loss: 0.0663 - accuracy: 0.9808 - precision: 0.9811 - recall: 0.9811 - f1score: 0.9811 - val_loss: 0.2031 - val_accuracy: 0.9245 - val_precision: 0.9245 - val_recall: 0.9245 - val_f1score: 0.9245\n",
            "Epoch 46/500\n",
            "2/2 [==============================] - 0s 33ms/step - loss: 0.0437 - accuracy: 0.9936 - precision: 0.9950 - recall: 0.9950 - f1score: 0.9950 - val_loss: 0.2134 - val_accuracy: 0.9245 - val_precision: 0.9245 - val_recall: 0.9245 - val_f1score: 0.9245\n",
            "Epoch 47/500\n",
            "2/2 [==============================] - 0s 29ms/step - loss: 0.1482 - accuracy: 0.9551 - precision: 0.9576 - recall: 0.9443 - f1score: 0.9509 - val_loss: 0.2051 - val_accuracy: 0.9245 - val_precision: 0.9245 - val_recall: 0.9245 - val_f1score: 0.9245\n",
            "Epoch 48/500\n",
            "2/2 [==============================] - 0s 32ms/step - loss: 0.0653 - accuracy: 0.9808 - precision: 0.9848 - recall: 0.9800 - f1score: 0.9824 - val_loss: 0.1968 - val_accuracy: 0.9245 - val_precision: 0.9245 - val_recall: 0.9245 - val_f1score: 0.9245\n",
            "Epoch 49/500\n",
            "2/2 [==============================] - 0s 34ms/step - loss: 0.1207 - accuracy: 0.9615 - precision: 0.9709 - recall: 0.9661 - f1score: 0.9685 - val_loss: 0.1944 - val_accuracy: 0.9245 - val_precision: 0.9245 - val_recall: 0.9245 - val_f1score: 0.9245\n",
            "Epoch 50/500\n",
            "2/2 [==============================] - 0s 35ms/step - loss: 0.0675 - accuracy: 0.9744 - precision: 0.9768 - recall: 0.9632 - f1score: 0.9699 - val_loss: 0.1956 - val_accuracy: 0.9245 - val_precision: 0.9245 - val_recall: 0.9245 - val_f1score: 0.9245\n",
            "Epoch 51/500\n",
            "2/2 [==============================] - 0s 37ms/step - loss: 0.0445 - accuracy: 0.9808 - precision: 0.9899 - recall: 0.9850 - f1score: 0.9874 - val_loss: 0.1990 - val_accuracy: 0.9245 - val_precision: 0.9245 - val_recall: 0.9245 - val_f1score: 0.9245\n",
            "Epoch 52/500\n",
            "2/2 [==============================] - 0s 31ms/step - loss: 0.0509 - accuracy: 0.9808 - precision: 0.9899 - recall: 0.9850 - f1score: 0.9874 - val_loss: 0.2049 - val_accuracy: 0.9245 - val_precision: 0.9245 - val_recall: 0.9245 - val_f1score: 0.9245\n",
            "Epoch 53/500\n",
            "2/2 [==============================] - 0s 31ms/step - loss: 0.0545 - accuracy: 0.9744 - precision: 0.9860 - recall: 0.9761 - f1score: 0.9810 - val_loss: 0.2143 - val_accuracy: 0.9245 - val_precision: 0.9245 - val_recall: 0.9245 - val_f1score: 0.9245\n",
            "Epoch 54/500\n",
            "2/2 [==============================] - 0s 31ms/step - loss: 0.0590 - accuracy: 0.9744 - precision: 0.9899 - recall: 0.9761 - f1score: 0.9829 - val_loss: 0.2214 - val_accuracy: 0.9245 - val_precision: 0.9245 - val_recall: 0.9245 - val_f1score: 0.9245\n"
          ]
        }
      ]
    },
    {
      "cell_type": "code",
      "source": [
        "y_hat = dna_model.predict(X_test_scaled)"
      ],
      "metadata": {
        "id": "3S7Hl46lCfFv",
        "colab": {
          "base_uri": "https://localhost:8080/"
        },
        "outputId": "fab34126-ec3a-4f28-b812-ef031b06b2d8"
      },
      "execution_count": 73,
      "outputs": [
        {
          "output_type": "stream",
          "name": "stdout",
          "text": [
            "2/2 [==============================] - 0s 6ms/step\n"
          ]
        }
      ]
    },
    {
      "cell_type": "code",
      "source": [
        "#pca 변환된 행을 학습\n",
        "y_hat = dna_model.predict(X_test_pca)"
      ],
      "metadata": {
        "colab": {
          "base_uri": "https://localhost:8080/"
        },
        "id": "BZG2TQCkJm5V",
        "outputId": "5b9a3b2a-662d-4c9d-c640-c1541595e1d6"
      },
      "execution_count": 78,
      "outputs": [
        {
          "output_type": "stream",
          "name": "stdout",
          "text": [
            "2/2 [==============================] - 0s 7ms/step\n"
          ]
        }
      ]
    },
    {
      "cell_type": "code",
      "source": [
        "index = np.argmax(y_hat, axis=1)\n",
        "dna_pred = pd.DataFrame()\n",
        "dna_pred = target_label.inverse_transform(index)"
      ],
      "metadata": {
        "id": "Ds8RY4vcCjAB"
      },
      "execution_count": 79,
      "outputs": []
    },
    {
      "cell_type": "code",
      "source": [
        "get_clf_eval(y_test, dna_pred)"
      ],
      "metadata": {
        "id": "xSV3En_FCm8W",
        "colab": {
          "base_uri": "https://localhost:8080/"
        },
        "outputId": "bb6fd609-975c-4dbb-a351-93255b5f86be"
      },
      "execution_count": 80,
      "outputs": [
        {
          "output_type": "stream",
          "name": "stdout",
          "text": [
            "오차행렬\n",
            "[[14  0  0]\n",
            " [ 0 23  0]\n",
            " [ 0  0 16]]\n",
            "정확도 : 100.0%\n",
            "정밀도 : 100.0%\n",
            "재현율 : 100.0%\n",
            "Macro F1 score : 1.0\n"
          ]
        }
      ]
    },
    {
      "cell_type": "markdown",
      "source": [
        "- 시각화"
      ],
      "metadata": {
        "id": "6nHfA3NVRwYl"
      }
    },
    {
      "cell_type": "code",
      "source": [
        "loss = hist.history['loss']\n",
        "val_loss = hist.history['val_loss']\n",
        "epochs = range(1, len(loss) + 1)\n",
        "plt.plot(epochs, loss, \"x\", label = \"Training loss\")\n",
        "plt.plot(epochs, val_loss, \"b\", label = \"Validation loss\")\n",
        "plt.xlabel(\"Epochs\")\n",
        "plt.ylabel(\"Loss\")\n",
        "plt.legend()"
      ],
      "metadata": {
        "id": "z0V1ZFJyRydJ"
      },
      "execution_count": null,
      "outputs": []
    },
    {
      "cell_type": "markdown",
      "source": [
        "### Adam을 이용한 다중분류모델\n",
        "- F1 score : 0.94"
      ],
      "metadata": {
        "id": "59nQdOvrC8Lu"
      }
    },
    {
      "cell_type": "code",
      "source": [
        "adam_model = Sequential()\n",
        "adam_model.add(Dense(64, activation='relu', input_dim=X_train_scaled.shape[1]))\n",
        "adam_model.add(Dense(192, activation='relu'))\n",
        "adam_model.add(Dense(192, activation='relu'))\n",
        "adam_model.add(Dense(192, activation='relu'))\n",
        "adam_model.add(Dense(units=3, activation='softmax'))\n",
        "\n",
        "adam_model.compile(optimizer=tf.keras.optimizers.Adam(learning_rate=0.01),\n",
        "              loss='categorical_crossentropy', metrics=['accuracy', precision, recall, f1score])\n",
        "\n",
        "adam_model.summary()"
      ],
      "metadata": {
        "id": "xi5bnAMSejBT"
      },
      "execution_count": null,
      "outputs": []
    },
    {
      "cell_type": "code",
      "source": [
        "hist = adam_model.fit(X_train_scaled, y_train_scaled, epochs=500, batch_size=100, validation_split=0.25, callbacks=[tf.keras.callbacks.EarlyStopping(patience=50, monitor='val_f1score')])"
      ],
      "metadata": {
        "id": "NNGMxNyAe0A9"
      },
      "execution_count": null,
      "outputs": []
    },
    {
      "cell_type": "code",
      "source": [
        "y_hat = adam_model.predict(X_test_scaled)"
      ],
      "metadata": {
        "id": "tjAVmygBe8A9"
      },
      "execution_count": null,
      "outputs": []
    },
    {
      "cell_type": "code",
      "source": [
        "index = np.argmax(y_hat, axis=1)"
      ],
      "metadata": {
        "id": "IZJuCeYve_bb"
      },
      "execution_count": null,
      "outputs": []
    },
    {
      "cell_type": "code",
      "source": [
        "preds = pd.DataFrame()\n",
        "preds = target_label.inverse_transform(index)"
      ],
      "metadata": {
        "id": "LVtSzqGPfDa0"
      },
      "execution_count": null,
      "outputs": []
    },
    {
      "cell_type": "code",
      "source": [
        "get_clf_eval(y_test, preds)"
      ],
      "metadata": {
        "id": "P6oKD1aHfEhW"
      },
      "execution_count": null,
      "outputs": []
    },
    {
      "cell_type": "code",
      "source": [
        "loss = hist.history['loss']\n",
        "val_loss = hist.history['val_loss']\n",
        "epochs = range(1, len(loss) + 1)\n",
        "plt.plot(epochs, loss, \"x\", label = \"Training loss\")\n",
        "plt.plot(epochs, val_loss, \"b\", label = \"Validation loss\")\n",
        "plt.xlabel(\"Epochs\")\n",
        "plt.ylabel(\"Loss\")\n",
        "plt.legend()"
      ],
      "metadata": {
        "id": "YarKbwt-5qrY"
      },
      "execution_count": null,
      "outputs": []
    },
    {
      "cell_type": "markdown",
      "source": [
        "## 드롭아웃을 적용시켜 아주 깊은 딥러닝 모델을 만들어보자\n",
        "- 드롭아웃층을 적용했다\n",
        "- 깊은 모델일 때 relu보다 좀더 미분값 소실이 적다는 swish함수를 사용했다"
      ],
      "metadata": {
        "id": "vg20qkLyZh1L"
      }
    },
    {
      "cell_type": "code",
      "source": [
        "model1 = tf.keras.Sequential([\n",
        "                             tf.keras.layers.Dense(units=1050, activation='swish', input_dim=X_train_scaled.shape[1]),\n",
        "                             tf.keras.layers.Dense(units=100, activation='swish'),\n",
        "                             tf.keras.layers.Dropout(0.2), \n",
        "                             tf.keras.layers.Dense(units=100, activation='swish'),\n",
        "                             tf.keras.layers.Dropout(0.2), \n",
        "                             tf.keras.layers.Dense(units=100, activation='swish'),\n",
        "                             tf.keras.layers.Dropout(0.2), \n",
        "                             tf.keras.layers.Dense(units=100, activation='swish'),\n",
        "                             tf.keras.layers.Dropout(0.2), \n",
        "                             tf.keras.layers.Dense(units=100, activation='swish'),\n",
        "                             tf.keras.layers.Dropout(0.2), \n",
        "                             tf.keras.layers.Dense(units=100, activation='swish'),\n",
        "                             tf.keras.layers.Dense(units=3, activation='softmax')\n",
        "])\n",
        "\n",
        "model1.compile(optimizer=tf.keras.optimizers.Adam(learning_rate=0.07),\n",
        "              loss='categorical_crossentropy', metrics=['accuracy', precision, recall, f1score])\n",
        "\n",
        "model1.summary()"
      ],
      "metadata": {
        "id": "rEJazXEmLIO7"
      },
      "execution_count": null,
      "outputs": []
    },
    {
      "cell_type": "code",
      "source": [
        "history = model1.fit(X_train_scaled, y_train, epochs=1000, batch_size=32, validation_split=0.25, callbacks=[tf.keras.callbacks.EarlyStopping(patience=10, monitor='val_loss')])"
      ],
      "metadata": {
        "id": "hKAt7tLxLIaO"
      },
      "execution_count": null,
      "outputs": []
    },
    {
      "cell_type": "code",
      "source": [
        "y_hat1 = model1.predict(X_test_scaled)"
      ],
      "metadata": {
        "id": "gqSvwWPcLIdQ"
      },
      "execution_count": null,
      "outputs": []
    },
    {
      "cell_type": "code",
      "source": [
        "index1 = np.argmax(y_hat1, axis=1)"
      ],
      "metadata": {
        "id": "gGwzWdKPLffp"
      },
      "execution_count": null,
      "outputs": []
    },
    {
      "cell_type": "code",
      "source": [
        "preds1 = pd.DataFrame()\n",
        "preds1 = target_label.inverse_transform(index1)"
      ],
      "metadata": {
        "id": "zX81YhcfLIgD"
      },
      "execution_count": null,
      "outputs": []
    },
    {
      "cell_type": "code",
      "source": [
        "get_clf_eval(y_test, preds1)"
      ],
      "metadata": {
        "id": "dNaTZwSSLcJ0"
      },
      "execution_count": null,
      "outputs": []
    },
    {
      "cell_type": "markdown",
      "source": [
        "- 어째 결과가 더 안좋게 나오네...\n"
      ],
      "metadata": {
        "id": "cP-qhS-mZ-w8"
      }
    },
    {
      "cell_type": "markdown",
      "source": [
        " # 제출용 데이터"
      ],
      "metadata": {
        "id": "u5sVzUj_03t0"
      }
    },
    {
      "cell_type": "markdown",
      "source": [
        "### 데이터준비"
      ],
      "metadata": {
        "id": "CSQgEtza5sww"
      }
    },
    {
      "cell_type": "code",
      "source": [
        "path = '/content/drive/MyDrive/Colab Notebooks/[DACON]유전체정보_품좀_분류_AI_경진대회/data'\n",
        "os.chdir(path)\n",
        "train = pd.read_csv(\"train.csv\", encoding='utf-8-sig', error_bad_lines=False)"
      ],
      "metadata": {
        "id": "fr3G3VBC2yxY",
        "colab": {
          "base_uri": "https://localhost:8080/"
        },
        "outputId": "a2f6c9c4-5036-46f2-f5bf-f7fa62b23fdc"
      },
      "execution_count": 85,
      "outputs": [
        {
          "output_type": "stream",
          "name": "stderr",
          "text": [
            "/usr/local/lib/python3.8/dist-packages/IPython/core/interactiveshell.py:3326: FutureWarning: The error_bad_lines argument has been deprecated and will be removed in a future version.\n",
            "\n",
            "\n",
            "  exec(code_obj, self.user_global_ns, self.user_ns)\n"
          ]
        }
      ]
    },
    {
      "cell_type": "code",
      "source": [
        "path = '/content/drive/MyDrive/Colab Notebooks/[DACON]유전체정보_품좀_분류_AI_경진대회/data'\n",
        "os.chdir(path)\n",
        "test = pd.read_csv(\"test.csv\", encoding='utf-8-sig', error_bad_lines=False)"
      ],
      "metadata": {
        "id": "CxE6UKuz06W_"
      },
      "execution_count": 86,
      "outputs": []
    },
    {
      "cell_type": "markdown",
      "source": [
        "### 데이터 전처리"
      ],
      "metadata": {
        "id": "llu6S-uq5oVt"
      }
    },
    {
      "cell_type": "code",
      "source": [
        "train_data = train.drop(['id', 'father', 'mother', 'gender', 'trait','class'], axis = 1)\n",
        "test_data = test.drop(['id', 'father', 'mother', 'gender', 'trait'], axis = 1)"
      ],
      "metadata": {
        "id": "fUmfWZbl2ZJr"
      },
      "execution_count": 87,
      "outputs": []
    },
    {
      "cell_type": "code",
      "source": [
        "test_data"
      ],
      "metadata": {
        "colab": {
          "base_uri": "https://localhost:8080/",
          "height": 423
        },
        "id": "lbIOwekh2jfB",
        "outputId": "0bcc40af-15a3-4145-b5c1-d648d1166a7e"
      },
      "execution_count": 88,
      "outputs": [
        {
          "output_type": "execute_result",
          "data": {
            "text/plain": [
              "    SNP_01 SNP_02 SNP_03 SNP_04 SNP_05 SNP_06 SNP_07 SNP_08 SNP_09 SNP_10  \\\n",
              "0      A G    G G    A A    G A    A A    A G    G G    G A    G A    A G   \n",
              "1      G G    A G    C C    G G    C C    A A    A A    A A    A A    G G   \n",
              "2      G G    A G    A A    A A    C A    A G    A A    A A    A A    A G   \n",
              "3      G G    A G    C A    A A    C C    A A    A A    A A    A A    G G   \n",
              "4      A A    G G    A A    G G    A A    G G    G G    A A    G G    A G   \n",
              "..     ...    ...    ...    ...    ...    ...    ...    ...    ...    ...   \n",
              "170    A G    G G    C C    A A    C A    A G    A A    G G    A A    G G   \n",
              "171    G G    A A    A A    A A    C A    A G    A A    A A    A A    A G   \n",
              "172    G G    A A    A A    A A    C A    A G    A A    A A    A A    G G   \n",
              "173    A G    G G    C A    G A    C C    G G    A A    G A    A A    G G   \n",
              "174    G G    G G    C C    G A    C A    A A    G A    G G    A A    G G   \n",
              "\n",
              "    SNP_11 SNP_12 SNP_13 SNP_14 SNP_15  \n",
              "0      A G    G A    G G    C A    G A  \n",
              "1      A G    A A    A A    A A    A A  \n",
              "2      A A    G A    G G    A A    G G  \n",
              "3      A A    G A    A G    A A    A A  \n",
              "4      G G    G A    G G    A A    G G  \n",
              "..     ...    ...    ...    ...    ...  \n",
              "170    G G    A A    A A    A A    G A  \n",
              "171    A A    A A    A G    A A    G A  \n",
              "172    A G    A A    A G    A A    G G  \n",
              "173    A G    A A    A A    A A    A A  \n",
              "174    G G    A A    A A    A A    A A  \n",
              "\n",
              "[175 rows x 15 columns]"
            ],
            "text/html": [
              "\n",
              "  <div id=\"df-09c2afec-7410-4b41-9331-587e573959c3\">\n",
              "    <div class=\"colab-df-container\">\n",
              "      <div>\n",
              "<style scoped>\n",
              "    .dataframe tbody tr th:only-of-type {\n",
              "        vertical-align: middle;\n",
              "    }\n",
              "\n",
              "    .dataframe tbody tr th {\n",
              "        vertical-align: top;\n",
              "    }\n",
              "\n",
              "    .dataframe thead th {\n",
              "        text-align: right;\n",
              "    }\n",
              "</style>\n",
              "<table border=\"1\" class=\"dataframe\">\n",
              "  <thead>\n",
              "    <tr style=\"text-align: right;\">\n",
              "      <th></th>\n",
              "      <th>SNP_01</th>\n",
              "      <th>SNP_02</th>\n",
              "      <th>SNP_03</th>\n",
              "      <th>SNP_04</th>\n",
              "      <th>SNP_05</th>\n",
              "      <th>SNP_06</th>\n",
              "      <th>SNP_07</th>\n",
              "      <th>SNP_08</th>\n",
              "      <th>SNP_09</th>\n",
              "      <th>SNP_10</th>\n",
              "      <th>SNP_11</th>\n",
              "      <th>SNP_12</th>\n",
              "      <th>SNP_13</th>\n",
              "      <th>SNP_14</th>\n",
              "      <th>SNP_15</th>\n",
              "    </tr>\n",
              "  </thead>\n",
              "  <tbody>\n",
              "    <tr>\n",
              "      <th>0</th>\n",
              "      <td>A G</td>\n",
              "      <td>G G</td>\n",
              "      <td>A A</td>\n",
              "      <td>G A</td>\n",
              "      <td>A A</td>\n",
              "      <td>A G</td>\n",
              "      <td>G G</td>\n",
              "      <td>G A</td>\n",
              "      <td>G A</td>\n",
              "      <td>A G</td>\n",
              "      <td>A G</td>\n",
              "      <td>G A</td>\n",
              "      <td>G G</td>\n",
              "      <td>C A</td>\n",
              "      <td>G A</td>\n",
              "    </tr>\n",
              "    <tr>\n",
              "      <th>1</th>\n",
              "      <td>G G</td>\n",
              "      <td>A G</td>\n",
              "      <td>C C</td>\n",
              "      <td>G G</td>\n",
              "      <td>C C</td>\n",
              "      <td>A A</td>\n",
              "      <td>A A</td>\n",
              "      <td>A A</td>\n",
              "      <td>A A</td>\n",
              "      <td>G G</td>\n",
              "      <td>A G</td>\n",
              "      <td>A A</td>\n",
              "      <td>A A</td>\n",
              "      <td>A A</td>\n",
              "      <td>A A</td>\n",
              "    </tr>\n",
              "    <tr>\n",
              "      <th>2</th>\n",
              "      <td>G G</td>\n",
              "      <td>A G</td>\n",
              "      <td>A A</td>\n",
              "      <td>A A</td>\n",
              "      <td>C A</td>\n",
              "      <td>A G</td>\n",
              "      <td>A A</td>\n",
              "      <td>A A</td>\n",
              "      <td>A A</td>\n",
              "      <td>A G</td>\n",
              "      <td>A A</td>\n",
              "      <td>G A</td>\n",
              "      <td>G G</td>\n",
              "      <td>A A</td>\n",
              "      <td>G G</td>\n",
              "    </tr>\n",
              "    <tr>\n",
              "      <th>3</th>\n",
              "      <td>G G</td>\n",
              "      <td>A G</td>\n",
              "      <td>C A</td>\n",
              "      <td>A A</td>\n",
              "      <td>C C</td>\n",
              "      <td>A A</td>\n",
              "      <td>A A</td>\n",
              "      <td>A A</td>\n",
              "      <td>A A</td>\n",
              "      <td>G G</td>\n",
              "      <td>A A</td>\n",
              "      <td>G A</td>\n",
              "      <td>A G</td>\n",
              "      <td>A A</td>\n",
              "      <td>A A</td>\n",
              "    </tr>\n",
              "    <tr>\n",
              "      <th>4</th>\n",
              "      <td>A A</td>\n",
              "      <td>G G</td>\n",
              "      <td>A A</td>\n",
              "      <td>G G</td>\n",
              "      <td>A A</td>\n",
              "      <td>G G</td>\n",
              "      <td>G G</td>\n",
              "      <td>A A</td>\n",
              "      <td>G G</td>\n",
              "      <td>A G</td>\n",
              "      <td>G G</td>\n",
              "      <td>G A</td>\n",
              "      <td>G G</td>\n",
              "      <td>A A</td>\n",
              "      <td>G G</td>\n",
              "    </tr>\n",
              "    <tr>\n",
              "      <th>...</th>\n",
              "      <td>...</td>\n",
              "      <td>...</td>\n",
              "      <td>...</td>\n",
              "      <td>...</td>\n",
              "      <td>...</td>\n",
              "      <td>...</td>\n",
              "      <td>...</td>\n",
              "      <td>...</td>\n",
              "      <td>...</td>\n",
              "      <td>...</td>\n",
              "      <td>...</td>\n",
              "      <td>...</td>\n",
              "      <td>...</td>\n",
              "      <td>...</td>\n",
              "      <td>...</td>\n",
              "    </tr>\n",
              "    <tr>\n",
              "      <th>170</th>\n",
              "      <td>A G</td>\n",
              "      <td>G G</td>\n",
              "      <td>C C</td>\n",
              "      <td>A A</td>\n",
              "      <td>C A</td>\n",
              "      <td>A G</td>\n",
              "      <td>A A</td>\n",
              "      <td>G G</td>\n",
              "      <td>A A</td>\n",
              "      <td>G G</td>\n",
              "      <td>G G</td>\n",
              "      <td>A A</td>\n",
              "      <td>A A</td>\n",
              "      <td>A A</td>\n",
              "      <td>G A</td>\n",
              "    </tr>\n",
              "    <tr>\n",
              "      <th>171</th>\n",
              "      <td>G G</td>\n",
              "      <td>A A</td>\n",
              "      <td>A A</td>\n",
              "      <td>A A</td>\n",
              "      <td>C A</td>\n",
              "      <td>A G</td>\n",
              "      <td>A A</td>\n",
              "      <td>A A</td>\n",
              "      <td>A A</td>\n",
              "      <td>A G</td>\n",
              "      <td>A A</td>\n",
              "      <td>A A</td>\n",
              "      <td>A G</td>\n",
              "      <td>A A</td>\n",
              "      <td>G A</td>\n",
              "    </tr>\n",
              "    <tr>\n",
              "      <th>172</th>\n",
              "      <td>G G</td>\n",
              "      <td>A A</td>\n",
              "      <td>A A</td>\n",
              "      <td>A A</td>\n",
              "      <td>C A</td>\n",
              "      <td>A G</td>\n",
              "      <td>A A</td>\n",
              "      <td>A A</td>\n",
              "      <td>A A</td>\n",
              "      <td>G G</td>\n",
              "      <td>A G</td>\n",
              "      <td>A A</td>\n",
              "      <td>A G</td>\n",
              "      <td>A A</td>\n",
              "      <td>G G</td>\n",
              "    </tr>\n",
              "    <tr>\n",
              "      <th>173</th>\n",
              "      <td>A G</td>\n",
              "      <td>G G</td>\n",
              "      <td>C A</td>\n",
              "      <td>G A</td>\n",
              "      <td>C C</td>\n",
              "      <td>G G</td>\n",
              "      <td>A A</td>\n",
              "      <td>G A</td>\n",
              "      <td>A A</td>\n",
              "      <td>G G</td>\n",
              "      <td>A G</td>\n",
              "      <td>A A</td>\n",
              "      <td>A A</td>\n",
              "      <td>A A</td>\n",
              "      <td>A A</td>\n",
              "    </tr>\n",
              "    <tr>\n",
              "      <th>174</th>\n",
              "      <td>G G</td>\n",
              "      <td>G G</td>\n",
              "      <td>C C</td>\n",
              "      <td>G A</td>\n",
              "      <td>C A</td>\n",
              "      <td>A A</td>\n",
              "      <td>G A</td>\n",
              "      <td>G G</td>\n",
              "      <td>A A</td>\n",
              "      <td>G G</td>\n",
              "      <td>G G</td>\n",
              "      <td>A A</td>\n",
              "      <td>A A</td>\n",
              "      <td>A A</td>\n",
              "      <td>A A</td>\n",
              "    </tr>\n",
              "  </tbody>\n",
              "</table>\n",
              "<p>175 rows × 15 columns</p>\n",
              "</div>\n",
              "      <button class=\"colab-df-convert\" onclick=\"convertToInteractive('df-09c2afec-7410-4b41-9331-587e573959c3')\"\n",
              "              title=\"Convert this dataframe to an interactive table.\"\n",
              "              style=\"display:none;\">\n",
              "        \n",
              "  <svg xmlns=\"http://www.w3.org/2000/svg\" height=\"24px\"viewBox=\"0 0 24 24\"\n",
              "       width=\"24px\">\n",
              "    <path d=\"M0 0h24v24H0V0z\" fill=\"none\"/>\n",
              "    <path d=\"M18.56 5.44l.94 2.06.94-2.06 2.06-.94-2.06-.94-.94-2.06-.94 2.06-2.06.94zm-11 1L8.5 8.5l.94-2.06 2.06-.94-2.06-.94L8.5 2.5l-.94 2.06-2.06.94zm10 10l.94 2.06.94-2.06 2.06-.94-2.06-.94-.94-2.06-.94 2.06-2.06.94z\"/><path d=\"M17.41 7.96l-1.37-1.37c-.4-.4-.92-.59-1.43-.59-.52 0-1.04.2-1.43.59L10.3 9.45l-7.72 7.72c-.78.78-.78 2.05 0 2.83L4 21.41c.39.39.9.59 1.41.59.51 0 1.02-.2 1.41-.59l7.78-7.78 2.81-2.81c.8-.78.8-2.07 0-2.86zM5.41 20L4 18.59l7.72-7.72 1.47 1.35L5.41 20z\"/>\n",
              "  </svg>\n",
              "      </button>\n",
              "      \n",
              "  <style>\n",
              "    .colab-df-container {\n",
              "      display:flex;\n",
              "      flex-wrap:wrap;\n",
              "      gap: 12px;\n",
              "    }\n",
              "\n",
              "    .colab-df-convert {\n",
              "      background-color: #E8F0FE;\n",
              "      border: none;\n",
              "      border-radius: 50%;\n",
              "      cursor: pointer;\n",
              "      display: none;\n",
              "      fill: #1967D2;\n",
              "      height: 32px;\n",
              "      padding: 0 0 0 0;\n",
              "      width: 32px;\n",
              "    }\n",
              "\n",
              "    .colab-df-convert:hover {\n",
              "      background-color: #E2EBFA;\n",
              "      box-shadow: 0px 1px 2px rgba(60, 64, 67, 0.3), 0px 1px 3px 1px rgba(60, 64, 67, 0.15);\n",
              "      fill: #174EA6;\n",
              "    }\n",
              "\n",
              "    [theme=dark] .colab-df-convert {\n",
              "      background-color: #3B4455;\n",
              "      fill: #D2E3FC;\n",
              "    }\n",
              "\n",
              "    [theme=dark] .colab-df-convert:hover {\n",
              "      background-color: #434B5C;\n",
              "      box-shadow: 0px 1px 3px 1px rgba(0, 0, 0, 0.15);\n",
              "      filter: drop-shadow(0px 1px 2px rgba(0, 0, 0, 0.3));\n",
              "      fill: #FFFFFF;\n",
              "    }\n",
              "  </style>\n",
              "\n",
              "      <script>\n",
              "        const buttonEl =\n",
              "          document.querySelector('#df-09c2afec-7410-4b41-9331-587e573959c3 button.colab-df-convert');\n",
              "        buttonEl.style.display =\n",
              "          google.colab.kernel.accessAllowed ? 'block' : 'none';\n",
              "\n",
              "        async function convertToInteractive(key) {\n",
              "          const element = document.querySelector('#df-09c2afec-7410-4b41-9331-587e573959c3');\n",
              "          const dataTable =\n",
              "            await google.colab.kernel.invokeFunction('convertToInteractive',\n",
              "                                                     [key], {});\n",
              "          if (!dataTable) return;\n",
              "\n",
              "          const docLinkHtml = 'Like what you see? Visit the ' +\n",
              "            '<a target=\"_blank\" href=https://colab.research.google.com/notebooks/data_table.ipynb>data table notebook</a>'\n",
              "            + ' to learn more about interactive tables.';\n",
              "          element.innerHTML = '';\n",
              "          dataTable['output_type'] = 'display_data';\n",
              "          await google.colab.output.renderOutput(dataTable, element);\n",
              "          const docLink = document.createElement('div');\n",
              "          docLink.innerHTML = docLinkHtml;\n",
              "          element.appendChild(docLink);\n",
              "        }\n",
              "      </script>\n",
              "    </div>\n",
              "  </div>\n",
              "  "
            ]
          },
          "metadata": {},
          "execution_count": 88
        }
      ]
    },
    {
      "cell_type": "code",
      "source": [
        "X_train = train_data\n",
        "X_test = test_data\n",
        "y_train  = train['class']\n",
        "#이건 예측해야하는 값\n",
        "#y_test"
      ],
      "metadata": {
        "id": "nVyZ6pWI2kF4"
      },
      "execution_count": 89,
      "outputs": []
    },
    {
      "cell_type": "code",
      "source": [
        "#먼저 라벨 인코더\n",
        "target_label = preprocessing.LabelEncoder()\n",
        "y_train_scaled_ = target_label.fit_transform(y_train)"
      ],
      "metadata": {
        "id": "WP5B3kd74uZn"
      },
      "execution_count": 90,
      "outputs": []
    },
    {
      "cell_type": "code",
      "source": [
        "#원핫인코더(딥러닝용)\n",
        "from keras.utils import np_utils\n",
        "y_train_scaled = np_utils.to_categorical(y_train_scaled_)"
      ],
      "metadata": {
        "id": "bkTOGxSv5DXM"
      },
      "execution_count": 91,
      "outputs": []
    },
    {
      "cell_type": "code",
      "source": [
        "snp_1 =  preprocessing.LabelEncoder()\n",
        "snp_2 =  preprocessing.LabelEncoder()\n",
        "snp_3 =  preprocessing.LabelEncoder()\n",
        "snp_4 =  preprocessing.LabelEncoder()\n",
        "snp_5 =  preprocessing.LabelEncoder()\n",
        "snp_6 =  preprocessing.LabelEncoder()\n",
        "snp_7 =  preprocessing.LabelEncoder()\n",
        "snp_8 =  preprocessing.LabelEncoder()\n",
        "snp_9 =  preprocessing.LabelEncoder()\n",
        "snp_10 =  preprocessing.LabelEncoder()\n",
        "snp_11 =  preprocessing.LabelEncoder()\n",
        "snp_12 =  preprocessing.LabelEncoder()\n",
        "snp_13 =  preprocessing.LabelEncoder()\n",
        "snp_14 =  preprocessing.LabelEncoder()\n",
        "snp_15 =  preprocessing.LabelEncoder()"
      ],
      "metadata": {
        "id": "ZLmaJ-ob5ICw"
      },
      "execution_count": 92,
      "outputs": []
    },
    {
      "cell_type": "code",
      "source": [
        "snp_1.fit(data['SNP_01'])\n",
        "snp_2.fit(data['SNP_02'])\n",
        "snp_3.fit(data['SNP_03'])\n",
        "snp_4.fit(data['SNP_04'])\n",
        "snp_5.fit(data['SNP_05'])\n",
        "snp_6.fit(data['SNP_06'])\n",
        "snp_7.fit(data['SNP_07'])\n",
        "snp_8.fit(data['SNP_08'])\n",
        "snp_9.fit(data['SNP_09'])\n",
        "snp_10.fit(data['SNP_10'])\n",
        "snp_11.fit(data['SNP_11'])\n",
        "snp_12.fit(data['SNP_12'])\n",
        "snp_13.fit(data['SNP_13'])\n",
        "snp_14.fit(data['SNP_14'])\n",
        "snp_15.fit(data['SNP_15'])"
      ],
      "metadata": {
        "colab": {
          "base_uri": "https://localhost:8080/"
        },
        "id": "icRp0V8u5M2T",
        "outputId": "46ab4ac9-8c87-4f1b-cad4-54dc874acbad"
      },
      "execution_count": 93,
      "outputs": [
        {
          "output_type": "execute_result",
          "data": {
            "text/plain": [
              "LabelEncoder()"
            ]
          },
          "metadata": {},
          "execution_count": 93
        }
      ]
    },
    {
      "cell_type": "code",
      "source": [
        "X_train['SNP_01'] = snp_1.transform(X_train['SNP_01'])\n",
        "X_train['SNP_02'] = snp_2.transform(X_train['SNP_02'])\n",
        "X_train['SNP_03'] = snp_3.transform(X_train['SNP_03'])\n",
        "X_train['SNP_04'] = snp_4.transform(X_train['SNP_04'])\n",
        "X_train['SNP_05'] = snp_5.transform(X_train['SNP_05'])\n",
        "X_train['SNP_06'] = snp_6.transform(X_train['SNP_06'])\n",
        "X_train['SNP_07'] = snp_7.transform(X_train['SNP_07'])\n",
        "X_train['SNP_08'] = snp_8.transform(X_train['SNP_08'])\n",
        "X_train['SNP_09'] = snp_9.transform(X_train['SNP_09'])\n",
        "X_train['SNP_10'] = snp_10.transform(X_train['SNP_10'])\n",
        "X_train['SNP_11'] = snp_11.transform(X_train['SNP_11'])\n",
        "X_train['SNP_12'] = snp_12.transform(X_train['SNP_12'])\n",
        "X_train['SNP_13'] = snp_13.transform(X_train['SNP_13'])\n",
        "X_train['SNP_14'] = snp_14.transform(X_train['SNP_14'])\n",
        "X_train['SNP_15'] = snp_15.transform(X_train['SNP_15'])"
      ],
      "metadata": {
        "id": "VkDTk1Fh5Pjj"
      },
      "execution_count": 94,
      "outputs": []
    },
    {
      "cell_type": "code",
      "source": [
        "X_test['SNP_01'] = snp_1.transform(X_test['SNP_01'])\n",
        "X_test['SNP_02'] = snp_2.transform(X_test['SNP_02'])\n",
        "X_test['SNP_03'] = snp_3.transform(X_test['SNP_03'])\n",
        "X_test['SNP_04'] = snp_4.transform(X_test['SNP_04'])\n",
        "X_test['SNP_05'] = snp_5.transform(X_test['SNP_05'])\n",
        "X_test['SNP_06'] = snp_6.transform(X_test['SNP_06'])\n",
        "X_test['SNP_07'] = snp_7.transform(X_test['SNP_07'])\n",
        "X_test['SNP_08'] = snp_8.transform(X_test['SNP_08'])\n",
        "X_test['SNP_09'] = snp_9.transform(X_test['SNP_09'])\n",
        "X_test['SNP_10'] = snp_10.transform(X_test['SNP_10'])\n",
        "X_test['SNP_11'] = snp_11.transform(X_test['SNP_11'])\n",
        "X_test['SNP_12'] = snp_12.transform(X_test['SNP_12'])\n",
        "X_test['SNP_13'] = snp_13.transform(X_test['SNP_13'])\n",
        "X_test['SNP_14'] = snp_14.transform(X_test['SNP_14'])\n",
        "X_test['SNP_15'] = snp_15.transform(X_test['SNP_15'])"
      ],
      "metadata": {
        "id": "IsVi3jLT5Uhu"
      },
      "execution_count": 95,
      "outputs": []
    },
    {
      "cell_type": "code",
      "source": [
        "scaler = preprocessing.MinMaxScaler()\n",
        "scaler.fit(X_train)\n",
        "X_train_scaled_ = scaler.transform(X_train)\n",
        "X_test_scaled_ = scaler.transform(X_test)"
      ],
      "metadata": {
        "id": "5CqvB9Rf5Zft"
      },
      "execution_count": 96,
      "outputs": []
    },
    {
      "cell_type": "code",
      "source": [
        "X_train_scaled = pd.DataFrame(X_train_scaled_, columns=X_train.columns, index=X_train.index)\n",
        "X_test_scaled = pd.DataFrame(X_test_scaled_, columns=X_test.columns, index=X_test.index)"
      ],
      "metadata": {
        "id": "KNbAno1U5dxu"
      },
      "execution_count": 97,
      "outputs": []
    },
    {
      "cell_type": "markdown",
      "source": [
        "### pca로 변환을 한 다음 분류기에 넣으면 더 잘 예측함"
      ],
      "metadata": {
        "id": "LmwOJq5vJ_Yk"
      }
    },
    {
      "cell_type": "code",
      "source": [
        "from sklearn.decomposition import PCA\n",
        "\n",
        "pca = PCA()\n",
        "X_train_pca = pca.fit_transform(X_train_scaled)\n",
        "X_test_pca = pca.transform(X_test_scaled)"
      ],
      "metadata": {
        "id": "8auxDoSKKDJD"
      },
      "execution_count": 99,
      "outputs": []
    },
    {
      "cell_type": "code",
      "source": [
        "X_train_scaled.shape, X_test_scaled.shape, y_train_scaled_.shape"
      ],
      "metadata": {
        "colab": {
          "base_uri": "https://localhost:8080/"
        },
        "id": "7WFnwAc65hxa",
        "outputId": "0a26c53f-6945-4bc5-cfdb-d3b1b7d09e0c"
      },
      "execution_count": 100,
      "outputs": [
        {
          "output_type": "execute_result",
          "data": {
            "text/plain": [
              "((262, 15), (175, 15), (262,))"
            ]
          },
          "metadata": {},
          "execution_count": 100
        }
      ]
    },
    {
      "cell_type": "code",
      "source": [
        "X_train_pca.shape, X_test_pca.shape"
      ],
      "metadata": {
        "colab": {
          "base_uri": "https://localhost:8080/"
        },
        "id": "qtjMPCCrKVjj",
        "outputId": "e718fe47-f023-4644-9a95-97b6a37b6259"
      },
      "execution_count": 101,
      "outputs": [
        {
          "output_type": "execute_result",
          "data": {
            "text/plain": [
              "((262, 15), (175, 15))"
            ]
          },
          "metadata": {},
          "execution_count": 101
        }
      ]
    },
    {
      "cell_type": "markdown",
      "source": [
        "### SVM을 이용한 예측\n",
        "- 결과 : 0.97191으로 315등!"
      ],
      "metadata": {
        "id": "YBHFcBy35x0z"
      }
    },
    {
      "cell_type": "code",
      "source": [
        "from sklearn.svm import LinearSVC\n",
        "\n",
        "svm = LinearSVC(C= 39.19597292168656, max_iter = 2302)\n",
        "svm.fit(X_train_pca, y_train_scaled_)\n",
        "svm_pred_scaled_ = svm.predict(X_test_pca)"
      ],
      "metadata": {
        "colab": {
          "base_uri": "https://localhost:8080/"
        },
        "id": "_wMDs8_25j83",
        "outputId": "724e36e8-4b8d-4edd-e7a3-1ba1785c5b75"
      },
      "execution_count": 103,
      "outputs": [
        {
          "output_type": "stream",
          "name": "stderr",
          "text": [
            "/usr/local/lib/python3.8/dist-packages/sklearn/svm/_base.py:1206: ConvergenceWarning: Liblinear failed to converge, increase the number of iterations.\n",
            "  warnings.warn(\n"
          ]
        }
      ]
    },
    {
      "cell_type": "code",
      "source": [
        "svm_opt_pred = target_label.inverse_transform(svm_pred_scaled_)"
      ],
      "metadata": {
        "id": "n73VhgQi67Dv"
      },
      "execution_count": 104,
      "outputs": []
    },
    {
      "cell_type": "code",
      "source": [
        "test_id = test['id']\n",
        "submission = pd.DataFrame(test_id, columns=['id'], index=X_test.index)\n",
        "submission['class'] = svm_opt_pred\n",
        "submission"
      ],
      "metadata": {
        "colab": {
          "base_uri": "https://localhost:8080/",
          "height": 423
        },
        "id": "q1fys8Lv7H3P",
        "outputId": "448b5644-c25c-4c47-a4df-6ff509442cac"
      },
      "execution_count": 105,
      "outputs": [
        {
          "output_type": "execute_result",
          "data": {
            "text/plain": [
              "           id class\n",
              "0    TEST_000     A\n",
              "1    TEST_001     B\n",
              "2    TEST_002     C\n",
              "3    TEST_003     C\n",
              "4    TEST_004     A\n",
              "..        ...   ...\n",
              "170  TEST_170     B\n",
              "171  TEST_171     C\n",
              "172  TEST_172     C\n",
              "173  TEST_173     B\n",
              "174  TEST_174     B\n",
              "\n",
              "[175 rows x 2 columns]"
            ],
            "text/html": [
              "\n",
              "  <div id=\"df-2b8e4115-cedd-4116-8f63-5b6474d623bf\">\n",
              "    <div class=\"colab-df-container\">\n",
              "      <div>\n",
              "<style scoped>\n",
              "    .dataframe tbody tr th:only-of-type {\n",
              "        vertical-align: middle;\n",
              "    }\n",
              "\n",
              "    .dataframe tbody tr th {\n",
              "        vertical-align: top;\n",
              "    }\n",
              "\n",
              "    .dataframe thead th {\n",
              "        text-align: right;\n",
              "    }\n",
              "</style>\n",
              "<table border=\"1\" class=\"dataframe\">\n",
              "  <thead>\n",
              "    <tr style=\"text-align: right;\">\n",
              "      <th></th>\n",
              "      <th>id</th>\n",
              "      <th>class</th>\n",
              "    </tr>\n",
              "  </thead>\n",
              "  <tbody>\n",
              "    <tr>\n",
              "      <th>0</th>\n",
              "      <td>TEST_000</td>\n",
              "      <td>A</td>\n",
              "    </tr>\n",
              "    <tr>\n",
              "      <th>1</th>\n",
              "      <td>TEST_001</td>\n",
              "      <td>B</td>\n",
              "    </tr>\n",
              "    <tr>\n",
              "      <th>2</th>\n",
              "      <td>TEST_002</td>\n",
              "      <td>C</td>\n",
              "    </tr>\n",
              "    <tr>\n",
              "      <th>3</th>\n",
              "      <td>TEST_003</td>\n",
              "      <td>C</td>\n",
              "    </tr>\n",
              "    <tr>\n",
              "      <th>4</th>\n",
              "      <td>TEST_004</td>\n",
              "      <td>A</td>\n",
              "    </tr>\n",
              "    <tr>\n",
              "      <th>...</th>\n",
              "      <td>...</td>\n",
              "      <td>...</td>\n",
              "    </tr>\n",
              "    <tr>\n",
              "      <th>170</th>\n",
              "      <td>TEST_170</td>\n",
              "      <td>B</td>\n",
              "    </tr>\n",
              "    <tr>\n",
              "      <th>171</th>\n",
              "      <td>TEST_171</td>\n",
              "      <td>C</td>\n",
              "    </tr>\n",
              "    <tr>\n",
              "      <th>172</th>\n",
              "      <td>TEST_172</td>\n",
              "      <td>C</td>\n",
              "    </tr>\n",
              "    <tr>\n",
              "      <th>173</th>\n",
              "      <td>TEST_173</td>\n",
              "      <td>B</td>\n",
              "    </tr>\n",
              "    <tr>\n",
              "      <th>174</th>\n",
              "      <td>TEST_174</td>\n",
              "      <td>B</td>\n",
              "    </tr>\n",
              "  </tbody>\n",
              "</table>\n",
              "<p>175 rows × 2 columns</p>\n",
              "</div>\n",
              "      <button class=\"colab-df-convert\" onclick=\"convertToInteractive('df-2b8e4115-cedd-4116-8f63-5b6474d623bf')\"\n",
              "              title=\"Convert this dataframe to an interactive table.\"\n",
              "              style=\"display:none;\">\n",
              "        \n",
              "  <svg xmlns=\"http://www.w3.org/2000/svg\" height=\"24px\"viewBox=\"0 0 24 24\"\n",
              "       width=\"24px\">\n",
              "    <path d=\"M0 0h24v24H0V0z\" fill=\"none\"/>\n",
              "    <path d=\"M18.56 5.44l.94 2.06.94-2.06 2.06-.94-2.06-.94-.94-2.06-.94 2.06-2.06.94zm-11 1L8.5 8.5l.94-2.06 2.06-.94-2.06-.94L8.5 2.5l-.94 2.06-2.06.94zm10 10l.94 2.06.94-2.06 2.06-.94-2.06-.94-.94-2.06-.94 2.06-2.06.94z\"/><path d=\"M17.41 7.96l-1.37-1.37c-.4-.4-.92-.59-1.43-.59-.52 0-1.04.2-1.43.59L10.3 9.45l-7.72 7.72c-.78.78-.78 2.05 0 2.83L4 21.41c.39.39.9.59 1.41.59.51 0 1.02-.2 1.41-.59l7.78-7.78 2.81-2.81c.8-.78.8-2.07 0-2.86zM5.41 20L4 18.59l7.72-7.72 1.47 1.35L5.41 20z\"/>\n",
              "  </svg>\n",
              "      </button>\n",
              "      \n",
              "  <style>\n",
              "    .colab-df-container {\n",
              "      display:flex;\n",
              "      flex-wrap:wrap;\n",
              "      gap: 12px;\n",
              "    }\n",
              "\n",
              "    .colab-df-convert {\n",
              "      background-color: #E8F0FE;\n",
              "      border: none;\n",
              "      border-radius: 50%;\n",
              "      cursor: pointer;\n",
              "      display: none;\n",
              "      fill: #1967D2;\n",
              "      height: 32px;\n",
              "      padding: 0 0 0 0;\n",
              "      width: 32px;\n",
              "    }\n",
              "\n",
              "    .colab-df-convert:hover {\n",
              "      background-color: #E2EBFA;\n",
              "      box-shadow: 0px 1px 2px rgba(60, 64, 67, 0.3), 0px 1px 3px 1px rgba(60, 64, 67, 0.15);\n",
              "      fill: #174EA6;\n",
              "    }\n",
              "\n",
              "    [theme=dark] .colab-df-convert {\n",
              "      background-color: #3B4455;\n",
              "      fill: #D2E3FC;\n",
              "    }\n",
              "\n",
              "    [theme=dark] .colab-df-convert:hover {\n",
              "      background-color: #434B5C;\n",
              "      box-shadow: 0px 1px 3px 1px rgba(0, 0, 0, 0.15);\n",
              "      filter: drop-shadow(0px 1px 2px rgba(0, 0, 0, 0.3));\n",
              "      fill: #FFFFFF;\n",
              "    }\n",
              "  </style>\n",
              "\n",
              "      <script>\n",
              "        const buttonEl =\n",
              "          document.querySelector('#df-2b8e4115-cedd-4116-8f63-5b6474d623bf button.colab-df-convert');\n",
              "        buttonEl.style.display =\n",
              "          google.colab.kernel.accessAllowed ? 'block' : 'none';\n",
              "\n",
              "        async function convertToInteractive(key) {\n",
              "          const element = document.querySelector('#df-2b8e4115-cedd-4116-8f63-5b6474d623bf');\n",
              "          const dataTable =\n",
              "            await google.colab.kernel.invokeFunction('convertToInteractive',\n",
              "                                                     [key], {});\n",
              "          if (!dataTable) return;\n",
              "\n",
              "          const docLinkHtml = 'Like what you see? Visit the ' +\n",
              "            '<a target=\"_blank\" href=https://colab.research.google.com/notebooks/data_table.ipynb>data table notebook</a>'\n",
              "            + ' to learn more about interactive tables.';\n",
              "          element.innerHTML = '';\n",
              "          dataTable['output_type'] = 'display_data';\n",
              "          await google.colab.output.renderOutput(dataTable, element);\n",
              "          const docLink = document.createElement('div');\n",
              "          docLink.innerHTML = docLinkHtml;\n",
              "          element.appendChild(docLink);\n",
              "        }\n",
              "      </script>\n",
              "    </div>\n",
              "  </div>\n",
              "  "
            ]
          },
          "metadata": {},
          "execution_count": 105
        }
      ]
    },
    {
      "cell_type": "code",
      "source": [
        "path = '/content/drive/MyDrive/Colab Notebooks/[DACON]유전체정보_품좀_분류_AI_경진대회/submit'\n",
        "os.chdir(path)\n",
        "submission.to_csv(\"20230116_svm.csv\", index = False)"
      ],
      "metadata": {
        "id": "X_S9PYRq9U1z"
      },
      "execution_count": 106,
      "outputs": []
    },
    {
      "cell_type": "markdown",
      "source": [
        "### GBM 을 이용한 예측"
      ],
      "metadata": {
        "id": "r01CzhLMGc6L"
      }
    },
    {
      "cell_type": "code",
      "source": [
        "from sklearn.ensemble import GradientBoostingClassifier\n",
        "\n",
        "gb_clf = GradientBoostingClassifier(learning_rate = 0.05614690123495918, min_samples_split = 3, n_estimators = 300)\n",
        "gb_clf.fit(X_train_pca, y_train_scaled_)\n",
        "gb_pred_scaled_ = gb_clf.predict(X_test_pca)"
      ],
      "metadata": {
        "id": "fRHKZidQGdc0"
      },
      "execution_count": 107,
      "outputs": []
    },
    {
      "cell_type": "code",
      "source": [
        "gb_pred = target_label.inverse_transform(gb_pred_scaled_)"
      ],
      "metadata": {
        "id": "yGzX3QPnJ4f4"
      },
      "execution_count": 108,
      "outputs": []
    },
    {
      "cell_type": "code",
      "source": [
        "est_id = test['id']\n",
        "submission = pd.DataFrame(test_id, columns=['id'], index=X_test.index)\n",
        "submission['class'] = gb_pred\n",
        "submission"
      ],
      "metadata": {
        "colab": {
          "base_uri": "https://localhost:8080/",
          "height": 423
        },
        "id": "Y6e7bFJEJ9tI",
        "outputId": "f3f0acf0-ee26-4d5c-912e-cc7cd2044081"
      },
      "execution_count": 109,
      "outputs": [
        {
          "output_type": "execute_result",
          "data": {
            "text/plain": [
              "           id class\n",
              "0    TEST_000     A\n",
              "1    TEST_001     B\n",
              "2    TEST_002     C\n",
              "3    TEST_003     B\n",
              "4    TEST_004     A\n",
              "..        ...   ...\n",
              "170  TEST_170     B\n",
              "171  TEST_171     C\n",
              "172  TEST_172     C\n",
              "173  TEST_173     B\n",
              "174  TEST_174     B\n",
              "\n",
              "[175 rows x 2 columns]"
            ],
            "text/html": [
              "\n",
              "  <div id=\"df-b22fe712-f92c-4df7-be74-6dad93cd2e99\">\n",
              "    <div class=\"colab-df-container\">\n",
              "      <div>\n",
              "<style scoped>\n",
              "    .dataframe tbody tr th:only-of-type {\n",
              "        vertical-align: middle;\n",
              "    }\n",
              "\n",
              "    .dataframe tbody tr th {\n",
              "        vertical-align: top;\n",
              "    }\n",
              "\n",
              "    .dataframe thead th {\n",
              "        text-align: right;\n",
              "    }\n",
              "</style>\n",
              "<table border=\"1\" class=\"dataframe\">\n",
              "  <thead>\n",
              "    <tr style=\"text-align: right;\">\n",
              "      <th></th>\n",
              "      <th>id</th>\n",
              "      <th>class</th>\n",
              "    </tr>\n",
              "  </thead>\n",
              "  <tbody>\n",
              "    <tr>\n",
              "      <th>0</th>\n",
              "      <td>TEST_000</td>\n",
              "      <td>A</td>\n",
              "    </tr>\n",
              "    <tr>\n",
              "      <th>1</th>\n",
              "      <td>TEST_001</td>\n",
              "      <td>B</td>\n",
              "    </tr>\n",
              "    <tr>\n",
              "      <th>2</th>\n",
              "      <td>TEST_002</td>\n",
              "      <td>C</td>\n",
              "    </tr>\n",
              "    <tr>\n",
              "      <th>3</th>\n",
              "      <td>TEST_003</td>\n",
              "      <td>B</td>\n",
              "    </tr>\n",
              "    <tr>\n",
              "      <th>4</th>\n",
              "      <td>TEST_004</td>\n",
              "      <td>A</td>\n",
              "    </tr>\n",
              "    <tr>\n",
              "      <th>...</th>\n",
              "      <td>...</td>\n",
              "      <td>...</td>\n",
              "    </tr>\n",
              "    <tr>\n",
              "      <th>170</th>\n",
              "      <td>TEST_170</td>\n",
              "      <td>B</td>\n",
              "    </tr>\n",
              "    <tr>\n",
              "      <th>171</th>\n",
              "      <td>TEST_171</td>\n",
              "      <td>C</td>\n",
              "    </tr>\n",
              "    <tr>\n",
              "      <th>172</th>\n",
              "      <td>TEST_172</td>\n",
              "      <td>C</td>\n",
              "    </tr>\n",
              "    <tr>\n",
              "      <th>173</th>\n",
              "      <td>TEST_173</td>\n",
              "      <td>B</td>\n",
              "    </tr>\n",
              "    <tr>\n",
              "      <th>174</th>\n",
              "      <td>TEST_174</td>\n",
              "      <td>B</td>\n",
              "    </tr>\n",
              "  </tbody>\n",
              "</table>\n",
              "<p>175 rows × 2 columns</p>\n",
              "</div>\n",
              "      <button class=\"colab-df-convert\" onclick=\"convertToInteractive('df-b22fe712-f92c-4df7-be74-6dad93cd2e99')\"\n",
              "              title=\"Convert this dataframe to an interactive table.\"\n",
              "              style=\"display:none;\">\n",
              "        \n",
              "  <svg xmlns=\"http://www.w3.org/2000/svg\" height=\"24px\"viewBox=\"0 0 24 24\"\n",
              "       width=\"24px\">\n",
              "    <path d=\"M0 0h24v24H0V0z\" fill=\"none\"/>\n",
              "    <path d=\"M18.56 5.44l.94 2.06.94-2.06 2.06-.94-2.06-.94-.94-2.06-.94 2.06-2.06.94zm-11 1L8.5 8.5l.94-2.06 2.06-.94-2.06-.94L8.5 2.5l-.94 2.06-2.06.94zm10 10l.94 2.06.94-2.06 2.06-.94-2.06-.94-.94-2.06-.94 2.06-2.06.94z\"/><path d=\"M17.41 7.96l-1.37-1.37c-.4-.4-.92-.59-1.43-.59-.52 0-1.04.2-1.43.59L10.3 9.45l-7.72 7.72c-.78.78-.78 2.05 0 2.83L4 21.41c.39.39.9.59 1.41.59.51 0 1.02-.2 1.41-.59l7.78-7.78 2.81-2.81c.8-.78.8-2.07 0-2.86zM5.41 20L4 18.59l7.72-7.72 1.47 1.35L5.41 20z\"/>\n",
              "  </svg>\n",
              "      </button>\n",
              "      \n",
              "  <style>\n",
              "    .colab-df-container {\n",
              "      display:flex;\n",
              "      flex-wrap:wrap;\n",
              "      gap: 12px;\n",
              "    }\n",
              "\n",
              "    .colab-df-convert {\n",
              "      background-color: #E8F0FE;\n",
              "      border: none;\n",
              "      border-radius: 50%;\n",
              "      cursor: pointer;\n",
              "      display: none;\n",
              "      fill: #1967D2;\n",
              "      height: 32px;\n",
              "      padding: 0 0 0 0;\n",
              "      width: 32px;\n",
              "    }\n",
              "\n",
              "    .colab-df-convert:hover {\n",
              "      background-color: #E2EBFA;\n",
              "      box-shadow: 0px 1px 2px rgba(60, 64, 67, 0.3), 0px 1px 3px 1px rgba(60, 64, 67, 0.15);\n",
              "      fill: #174EA6;\n",
              "    }\n",
              "\n",
              "    [theme=dark] .colab-df-convert {\n",
              "      background-color: #3B4455;\n",
              "      fill: #D2E3FC;\n",
              "    }\n",
              "\n",
              "    [theme=dark] .colab-df-convert:hover {\n",
              "      background-color: #434B5C;\n",
              "      box-shadow: 0px 1px 3px 1px rgba(0, 0, 0, 0.15);\n",
              "      filter: drop-shadow(0px 1px 2px rgba(0, 0, 0, 0.3));\n",
              "      fill: #FFFFFF;\n",
              "    }\n",
              "  </style>\n",
              "\n",
              "      <script>\n",
              "        const buttonEl =\n",
              "          document.querySelector('#df-b22fe712-f92c-4df7-be74-6dad93cd2e99 button.colab-df-convert');\n",
              "        buttonEl.style.display =\n",
              "          google.colab.kernel.accessAllowed ? 'block' : 'none';\n",
              "\n",
              "        async function convertToInteractive(key) {\n",
              "          const element = document.querySelector('#df-b22fe712-f92c-4df7-be74-6dad93cd2e99');\n",
              "          const dataTable =\n",
              "            await google.colab.kernel.invokeFunction('convertToInteractive',\n",
              "                                                     [key], {});\n",
              "          if (!dataTable) return;\n",
              "\n",
              "          const docLinkHtml = 'Like what you see? Visit the ' +\n",
              "            '<a target=\"_blank\" href=https://colab.research.google.com/notebooks/data_table.ipynb>data table notebook</a>'\n",
              "            + ' to learn more about interactive tables.';\n",
              "          element.innerHTML = '';\n",
              "          dataTable['output_type'] = 'display_data';\n",
              "          await google.colab.output.renderOutput(dataTable, element);\n",
              "          const docLink = document.createElement('div');\n",
              "          docLink.innerHTML = docLinkHtml;\n",
              "          element.appendChild(docLink);\n",
              "        }\n",
              "      </script>\n",
              "    </div>\n",
              "  </div>\n",
              "  "
            ]
          },
          "metadata": {},
          "execution_count": 109
        }
      ]
    },
    {
      "cell_type": "code",
      "source": [
        "path = '/content/drive/MyDrive/Colab Notebooks/[DACON]유전체정보_품좀_분류_AI_경진대회/submit'\n",
        "os.chdir(path)\n",
        "submission.to_csv(\"20230116_gb.csv\", index = False)"
      ],
      "metadata": {
        "id": "Apvh1BFpKCfz"
      },
      "execution_count": 110,
      "outputs": []
    },
    {
      "cell_type": "markdown",
      "source": [
        "### Dropout을 적용한 DL모델"
      ],
      "metadata": {
        "id": "nS391rWIDyyU"
      }
    },
    {
      "cell_type": "code",
      "source": [
        "dna_model = Sequential()\n",
        "dna_model.add(Dense(64, activation='relu', input_dim=X_train_scaled.shape[1]))\n",
        "dna_model.add(Dropout(0.5))\n",
        "dna_model.add(Dense(192, activation='relu'))\n",
        "dna_model.add(Dropout(0.5))\n",
        "dna_model.add(Dense(192, activation='relu'))\n",
        "dna_model.add(Dropout(0.5))\n",
        "dna_model.add(Dense(192, activation='relu'))\n",
        "dna_model.add(Dropout(0.5))\n",
        "dna_model.add(Dense(3, activation='softmax'))\n",
        "\n",
        "dna_model.compile(loss='categorical_crossentropy',\n",
        "              optimizer=Adam(learning_rate=0.01),\n",
        "              metrics=['accuracy',precision, recall, f1score])\n",
        "\n",
        "dna_model.summary()"
      ],
      "metadata": {
        "colab": {
          "base_uri": "https://localhost:8080/"
        },
        "id": "NjtPZfdY_NBt",
        "outputId": "71ff67d0-dd1b-4358-fd2f-6f26b176ca57"
      },
      "execution_count": 111,
      "outputs": [
        {
          "output_type": "stream",
          "name": "stdout",
          "text": [
            "Model: \"sequential_1\"\n",
            "_________________________________________________________________\n",
            " Layer (type)                Output Shape              Param #   \n",
            "=================================================================\n",
            " dense_5 (Dense)             (None, 64)                1024      \n",
            "                                                                 \n",
            " dropout_4 (Dropout)         (None, 64)                0         \n",
            "                                                                 \n",
            " dense_6 (Dense)             (None, 192)               12480     \n",
            "                                                                 \n",
            " dropout_5 (Dropout)         (None, 192)               0         \n",
            "                                                                 \n",
            " dense_7 (Dense)             (None, 192)               37056     \n",
            "                                                                 \n",
            " dropout_6 (Dropout)         (None, 192)               0         \n",
            "                                                                 \n",
            " dense_8 (Dense)             (None, 192)               37056     \n",
            "                                                                 \n",
            " dropout_7 (Dropout)         (None, 192)               0         \n",
            "                                                                 \n",
            " dense_9 (Dense)             (None, 3)                 579       \n",
            "                                                                 \n",
            "=================================================================\n",
            "Total params: 88,195\n",
            "Trainable params: 88,195\n",
            "Non-trainable params: 0\n",
            "_________________________________________________________________\n"
          ]
        }
      ]
    },
    {
      "cell_type": "code",
      "source": [
        "hist = dna_model.fit(X_train_pca, y_train_scaled, epochs=500, batch_size=100, validation_split=0.25, callbacks=[tf.keras.callbacks.EarlyStopping(patience=50, monitor='val_f1score')])"
      ],
      "metadata": {
        "id": "8htc34DJD8DR",
        "colab": {
          "base_uri": "https://localhost:8080/"
        },
        "outputId": "fd1f9159-31a8-4e30-a9ea-21e76e0b1989"
      },
      "execution_count": 112,
      "outputs": [
        {
          "output_type": "stream",
          "name": "stdout",
          "text": [
            "Epoch 1/500\n",
            "2/2 [==============================] - 1s 308ms/step - loss: 1.0875 - accuracy: 0.4031 - precision: 0.5833 - recall: 0.0310 - f1score: 0.0587 - val_loss: 0.8250 - val_accuracy: 0.7424 - val_precision: 1.0000 - val_recall: 0.4091 - val_f1score: 0.5806\n",
            "Epoch 2/500\n",
            "2/2 [==============================] - 0s 35ms/step - loss: 0.8562 - accuracy: 0.5816 - precision: 0.6941 - recall: 0.3583 - f1score: 0.4726 - val_loss: 0.4506 - val_accuracy: 0.8030 - val_precision: 0.9057 - val_recall: 0.7273 - val_f1score: 0.8067\n",
            "Epoch 3/500\n",
            "2/2 [==============================] - 0s 34ms/step - loss: 0.5002 - accuracy: 0.7755 - precision: 0.8135 - recall: 0.7210 - f1score: 0.7632 - val_loss: 0.2877 - val_accuracy: 0.9545 - val_precision: 0.9688 - val_recall: 0.9394 - val_f1score: 0.9538\n",
            "Epoch 4/500\n",
            "2/2 [==============================] - 0s 37ms/step - loss: 0.4416 - accuracy: 0.7551 - precision: 0.7638 - recall: 0.7560 - f1score: 0.7599 - val_loss: 0.1802 - val_accuracy: 0.9394 - val_precision: 0.9394 - val_recall: 0.9394 - val_f1score: 0.9394\n",
            "Epoch 5/500\n",
            "2/2 [==============================] - 0s 30ms/step - loss: 0.4139 - accuracy: 0.8724 - precision: 0.8727 - recall: 0.8727 - f1score: 0.8727 - val_loss: 0.1017 - val_accuracy: 0.9848 - val_precision: 0.9848 - val_recall: 0.9848 - val_f1score: 0.9848\n",
            "Epoch 6/500\n",
            "2/2 [==============================] - 0s 32ms/step - loss: 0.2615 - accuracy: 0.9184 - precision: 0.9176 - recall: 0.9129 - f1score: 0.9153 - val_loss: 0.0680 - val_accuracy: 0.9697 - val_precision: 0.9697 - val_recall: 0.9697 - val_f1score: 0.9697\n",
            "Epoch 7/500\n",
            "2/2 [==============================] - 0s 30ms/step - loss: 0.2408 - accuracy: 0.9184 - precision: 0.9187 - recall: 0.9187 - f1score: 0.9187 - val_loss: 0.0566 - val_accuracy: 0.9697 - val_precision: 0.9697 - val_recall: 0.9697 - val_f1score: 0.9697\n",
            "Epoch 8/500\n",
            "2/2 [==============================] - 0s 31ms/step - loss: 0.2459 - accuracy: 0.9337 - precision: 0.9338 - recall: 0.9338 - f1score: 0.9337 - val_loss: 0.0422 - val_accuracy: 0.9848 - val_precision: 0.9848 - val_recall: 0.9848 - val_f1score: 0.9848\n",
            "Epoch 9/500\n",
            "2/2 [==============================] - 0s 35ms/step - loss: 0.2009 - accuracy: 0.9133 - precision: 0.9137 - recall: 0.9137 - f1score: 0.9137 - val_loss: 0.0405 - val_accuracy: 1.0000 - val_precision: 1.0000 - val_recall: 0.9848 - val_f1score: 0.9924\n",
            "Epoch 10/500\n",
            "2/2 [==============================] - 0s 34ms/step - loss: 0.1308 - accuracy: 0.9439 - precision: 0.9444 - recall: 0.9444 - f1score: 0.9444 - val_loss: 0.0416 - val_accuracy: 0.9848 - val_precision: 0.9848 - val_recall: 0.9848 - val_f1score: 0.9848\n",
            "Epoch 11/500\n",
            "2/2 [==============================] - 0s 30ms/step - loss: 0.2171 - accuracy: 0.9286 - precision: 0.9285 - recall: 0.9285 - f1score: 0.9285 - val_loss: 0.0597 - val_accuracy: 0.9848 - val_precision: 0.9848 - val_recall: 0.9848 - val_f1score: 0.9848\n",
            "Epoch 12/500\n",
            "2/2 [==============================] - 0s 31ms/step - loss: 0.1040 - accuracy: 0.9592 - precision: 0.9594 - recall: 0.9594 - f1score: 0.9594 - val_loss: 0.0645 - val_accuracy: 0.9697 - val_precision: 0.9692 - val_recall: 0.9545 - val_f1score: 0.9618\n",
            "Epoch 13/500\n",
            "2/2 [==============================] - 0s 30ms/step - loss: 0.1145 - accuracy: 0.9541 - precision: 0.9546 - recall: 0.9546 - f1score: 0.9546 - val_loss: 0.0467 - val_accuracy: 0.9848 - val_precision: 0.9848 - val_recall: 0.9848 - val_f1score: 0.9848\n",
            "Epoch 14/500\n",
            "2/2 [==============================] - 0s 30ms/step - loss: 0.1169 - accuracy: 0.9541 - precision: 0.9538 - recall: 0.9538 - f1score: 0.9537 - val_loss: 0.0371 - val_accuracy: 0.9848 - val_precision: 0.9848 - val_recall: 0.9848 - val_f1score: 0.9848\n",
            "Epoch 15/500\n",
            "2/2 [==============================] - 0s 31ms/step - loss: 0.1938 - accuracy: 0.9337 - precision: 0.9338 - recall: 0.9338 - f1score: 0.9337 - val_loss: 0.0423 - val_accuracy: 0.9848 - val_precision: 0.9848 - val_recall: 0.9848 - val_f1score: 0.9848\n",
            "Epoch 16/500\n",
            "2/2 [==============================] - 0s 31ms/step - loss: 0.1293 - accuracy: 0.9592 - precision: 0.9590 - recall: 0.9590 - f1score: 0.9590 - val_loss: 0.0427 - val_accuracy: 0.9848 - val_precision: 0.9848 - val_recall: 0.9848 - val_f1score: 0.9848\n",
            "Epoch 17/500\n",
            "2/2 [==============================] - 0s 34ms/step - loss: 0.1286 - accuracy: 0.9643 - precision: 0.9638 - recall: 0.9638 - f1score: 0.9637 - val_loss: 0.0406 - val_accuracy: 1.0000 - val_precision: 1.0000 - val_recall: 1.0000 - val_f1score: 1.0000\n",
            "Epoch 18/500\n",
            "2/2 [==============================] - 0s 30ms/step - loss: 0.1058 - accuracy: 0.9643 - precision: 0.9642 - recall: 0.9642 - f1score: 0.9642 - val_loss: 0.0413 - val_accuracy: 1.0000 - val_precision: 1.0000 - val_recall: 1.0000 - val_f1score: 1.0000\n",
            "Epoch 19/500\n",
            "2/2 [==============================] - 0s 32ms/step - loss: 0.1042 - accuracy: 0.9541 - precision: 0.9544 - recall: 0.9544 - f1score: 0.9544 - val_loss: 0.0414 - val_accuracy: 1.0000 - val_precision: 1.0000 - val_recall: 1.0000 - val_f1score: 1.0000\n",
            "Epoch 20/500\n",
            "2/2 [==============================] - 0s 33ms/step - loss: 0.1044 - accuracy: 0.9694 - precision: 0.9694 - recall: 0.9694 - f1score: 0.9694 - val_loss: 0.0451 - val_accuracy: 0.9848 - val_precision: 0.9848 - val_recall: 0.9848 - val_f1score: 0.9848\n",
            "Epoch 21/500\n",
            "2/2 [==============================] - 0s 34ms/step - loss: 0.1817 - accuracy: 0.9643 - precision: 0.9644 - recall: 0.9644 - f1score: 0.9644 - val_loss: 0.0453 - val_accuracy: 0.9848 - val_precision: 0.9848 - val_recall: 0.9848 - val_f1score: 0.9848\n",
            "Epoch 22/500\n",
            "2/2 [==============================] - 0s 35ms/step - loss: 0.0751 - accuracy: 0.9694 - precision: 0.9694 - recall: 0.9694 - f1score: 0.9694 - val_loss: 0.0449 - val_accuracy: 0.9848 - val_precision: 0.9848 - val_recall: 0.9848 - val_f1score: 0.9848\n",
            "Epoch 23/500\n",
            "2/2 [==============================] - 0s 32ms/step - loss: 0.0679 - accuracy: 0.9745 - precision: 0.9746 - recall: 0.9746 - f1score: 0.9746 - val_loss: 0.0473 - val_accuracy: 0.9697 - val_precision: 0.9697 - val_recall: 0.9697 - val_f1score: 0.9697\n",
            "Epoch 24/500\n",
            "2/2 [==============================] - 0s 32ms/step - loss: 0.0791 - accuracy: 0.9694 - precision: 0.9690 - recall: 0.9690 - f1score: 0.9690 - val_loss: 0.0511 - val_accuracy: 0.9697 - val_precision: 0.9697 - val_recall: 0.9697 - val_f1score: 0.9697\n",
            "Epoch 25/500\n",
            "2/2 [==============================] - 0s 33ms/step - loss: 0.0758 - accuracy: 0.9745 - precision: 0.9744 - recall: 0.9744 - f1score: 0.9744 - val_loss: 0.0470 - val_accuracy: 0.9697 - val_precision: 0.9697 - val_recall: 0.9697 - val_f1score: 0.9697\n",
            "Epoch 26/500\n",
            "2/2 [==============================] - 0s 29ms/step - loss: 0.0421 - accuracy: 0.9745 - precision: 0.9744 - recall: 0.9744 - f1score: 0.9744 - val_loss: 0.0393 - val_accuracy: 0.9848 - val_precision: 0.9848 - val_recall: 0.9848 - val_f1score: 0.9848\n",
            "Epoch 27/500\n",
            "2/2 [==============================] - 0s 39ms/step - loss: 0.0271 - accuracy: 0.9898 - precision: 0.9948 - recall: 0.9898 - f1score: 0.9923 - val_loss: 0.0355 - val_accuracy: 0.9848 - val_precision: 0.9848 - val_recall: 0.9848 - val_f1score: 0.9848\n",
            "Epoch 28/500\n",
            "2/2 [==============================] - 0s 32ms/step - loss: 0.0559 - accuracy: 0.9847 - precision: 0.9846 - recall: 0.9846 - f1score: 0.9846 - val_loss: 0.0339 - val_accuracy: 0.9848 - val_precision: 0.9846 - val_recall: 0.9697 - val_f1score: 0.9771\n",
            "Epoch 29/500\n",
            "2/2 [==============================] - 0s 42ms/step - loss: 0.0584 - accuracy: 0.9745 - precision: 0.9744 - recall: 0.9744 - f1score: 0.9744 - val_loss: 0.0422 - val_accuracy: 0.9697 - val_precision: 0.9697 - val_recall: 0.9697 - val_f1score: 0.9697\n",
            "Epoch 30/500\n",
            "2/2 [==============================] - 0s 31ms/step - loss: 0.0697 - accuracy: 0.9694 - precision: 0.9690 - recall: 0.9690 - f1score: 0.9690 - val_loss: 0.0472 - val_accuracy: 0.9697 - val_precision: 0.9697 - val_recall: 0.9697 - val_f1score: 0.9697\n",
            "Epoch 31/500\n",
            "2/2 [==============================] - 0s 31ms/step - loss: 0.0269 - accuracy: 0.9898 - precision: 0.9896 - recall: 0.9896 - f1score: 0.9896 - val_loss: 0.0475 - val_accuracy: 0.9697 - val_precision: 0.9697 - val_recall: 0.9697 - val_f1score: 0.9697\n",
            "Epoch 32/500\n",
            "2/2 [==============================] - 0s 30ms/step - loss: 0.0401 - accuracy: 0.9796 - precision: 0.9796 - recall: 0.9796 - f1score: 0.9796 - val_loss: 0.0469 - val_accuracy: 0.9697 - val_precision: 0.9692 - val_recall: 0.9545 - val_f1score: 0.9618\n",
            "Epoch 33/500\n",
            "2/2 [==============================] - 0s 32ms/step - loss: 0.0219 - accuracy: 0.9898 - precision: 0.9897 - recall: 0.9848 - f1score: 0.9873 - val_loss: 0.0533 - val_accuracy: 0.9697 - val_precision: 0.9697 - val_recall: 0.9697 - val_f1score: 0.9697\n",
            "Epoch 34/500\n",
            "2/2 [==============================] - 0s 37ms/step - loss: 0.0351 - accuracy: 0.9949 - precision: 0.9948 - recall: 0.9948 - f1score: 0.9948 - val_loss: 0.0586 - val_accuracy: 0.9848 - val_precision: 0.9848 - val_recall: 0.9848 - val_f1score: 0.9848\n",
            "Epoch 35/500\n",
            "2/2 [==============================] - 0s 30ms/step - loss: 0.2335 - accuracy: 0.9745 - precision: 0.9744 - recall: 0.9744 - f1score: 0.9744 - val_loss: 0.0556 - val_accuracy: 0.9697 - val_precision: 0.9697 - val_recall: 0.9697 - val_f1score: 0.9697\n",
            "Epoch 36/500\n",
            "2/2 [==============================] - 0s 31ms/step - loss: 0.0385 - accuracy: 0.9847 - precision: 0.9846 - recall: 0.9846 - f1score: 0.9846 - val_loss: 0.0532 - val_accuracy: 0.9697 - val_precision: 0.9697 - val_recall: 0.9697 - val_f1score: 0.9697\n",
            "Epoch 37/500\n",
            "2/2 [==============================] - 0s 35ms/step - loss: 0.0857 - accuracy: 0.9592 - precision: 0.9592 - recall: 0.9592 - f1score: 0.9592 - val_loss: 0.0493 - val_accuracy: 0.9848 - val_precision: 0.9848 - val_recall: 0.9848 - val_f1score: 0.9848\n",
            "Epoch 38/500\n",
            "2/2 [==============================] - 0s 35ms/step - loss: 0.0748 - accuracy: 0.9643 - precision: 0.9646 - recall: 0.9646 - f1score: 0.9646 - val_loss: 0.0506 - val_accuracy: 0.9848 - val_precision: 0.9848 - val_recall: 0.9848 - val_f1score: 0.9848\n",
            "Epoch 39/500\n",
            "2/2 [==============================] - 0s 32ms/step - loss: 0.0258 - accuracy: 0.9898 - precision: 0.9900 - recall: 0.9900 - f1score: 0.9900 - val_loss: 0.0573 - val_accuracy: 0.9848 - val_precision: 0.9848 - val_recall: 0.9848 - val_f1score: 0.9848\n",
            "Epoch 40/500\n",
            "2/2 [==============================] - 0s 32ms/step - loss: 0.0516 - accuracy: 0.9796 - precision: 0.9798 - recall: 0.9798 - f1score: 0.9798 - val_loss: 0.0468 - val_accuracy: 0.9848 - val_precision: 0.9848 - val_recall: 0.9848 - val_f1score: 0.9848\n",
            "Epoch 41/500\n",
            "2/2 [==============================] - 0s 33ms/step - loss: 0.0753 - accuracy: 0.9796 - precision: 0.9794 - recall: 0.9794 - f1score: 0.9794 - val_loss: 0.0362 - val_accuracy: 0.9848 - val_precision: 0.9848 - val_recall: 0.9848 - val_f1score: 0.9848\n",
            "Epoch 42/500\n",
            "2/2 [==============================] - 0s 30ms/step - loss: 0.0473 - accuracy: 0.9898 - precision: 0.9896 - recall: 0.9896 - f1score: 0.9896 - val_loss: 0.0464 - val_accuracy: 0.9697 - val_precision: 0.9697 - val_recall: 0.9697 - val_f1score: 0.9697\n",
            "Epoch 43/500\n",
            "2/2 [==============================] - 0s 32ms/step - loss: 0.0679 - accuracy: 0.9745 - precision: 0.9746 - recall: 0.9746 - f1score: 0.9746 - val_loss: 0.0491 - val_accuracy: 0.9545 - val_precision: 0.9545 - val_recall: 0.9545 - val_f1score: 0.9545\n",
            "Epoch 44/500\n",
            "2/2 [==============================] - 0s 31ms/step - loss: 0.0636 - accuracy: 0.9694 - precision: 0.9694 - recall: 0.9694 - f1score: 0.9694 - val_loss: 0.0472 - val_accuracy: 0.9697 - val_precision: 0.9697 - val_recall: 0.9697 - val_f1score: 0.9697\n",
            "Epoch 45/500\n",
            "2/2 [==============================] - 0s 31ms/step - loss: 0.0580 - accuracy: 0.9745 - precision: 0.9744 - recall: 0.9744 - f1score: 0.9744 - val_loss: 0.0474 - val_accuracy: 0.9697 - val_precision: 0.9697 - val_recall: 0.9697 - val_f1score: 0.9697\n",
            "Epoch 46/500\n",
            "2/2 [==============================] - 0s 32ms/step - loss: 0.0438 - accuracy: 0.9949 - precision: 0.9948 - recall: 0.9948 - f1score: 0.9948 - val_loss: 0.0496 - val_accuracy: 0.9697 - val_precision: 0.9697 - val_recall: 0.9697 - val_f1score: 0.9697\n",
            "Epoch 47/500\n",
            "2/2 [==============================] - 0s 33ms/step - loss: 0.1569 - accuracy: 0.9796 - precision: 0.9794 - recall: 0.9794 - f1score: 0.9794 - val_loss: 0.0553 - val_accuracy: 0.9697 - val_precision: 0.9697 - val_recall: 0.9697 - val_f1score: 0.9697\n",
            "Epoch 48/500\n",
            "2/2 [==============================] - 0s 37ms/step - loss: 0.0447 - accuracy: 0.9796 - precision: 0.9847 - recall: 0.9798 - f1score: 0.9822 - val_loss: 0.0646 - val_accuracy: 0.9697 - val_precision: 0.9697 - val_recall: 0.9697 - val_f1score: 0.9697\n",
            "Epoch 49/500\n",
            "2/2 [==============================] - 0s 41ms/step - loss: 0.1192 - accuracy: 0.9796 - precision: 0.9796 - recall: 0.9796 - f1score: 0.9796 - val_loss: 0.0836 - val_accuracy: 0.9697 - val_precision: 0.9697 - val_recall: 0.9697 - val_f1score: 0.9697\n",
            "Epoch 50/500\n",
            "2/2 [==============================] - 0s 32ms/step - loss: 0.0744 - accuracy: 0.9847 - precision: 0.9848 - recall: 0.9848 - f1score: 0.9848 - val_loss: 0.0913 - val_accuracy: 0.9697 - val_precision: 0.9697 - val_recall: 0.9697 - val_f1score: 0.9697\n",
            "Epoch 51/500\n",
            "2/2 [==============================] - 0s 32ms/step - loss: 0.0668 - accuracy: 0.9847 - precision: 0.9850 - recall: 0.9850 - f1score: 0.9850 - val_loss: 0.0893 - val_accuracy: 0.9697 - val_precision: 0.9697 - val_recall: 0.9697 - val_f1score: 0.9697\n"
          ]
        }
      ]
    },
    {
      "cell_type": "code",
      "source": [
        "loss = hist.history['loss']\n",
        "val_loss = hist.history['val_loss']\n",
        "epochs = range(1, len(loss) + 1)\n",
        "plt.plot(epochs, loss, \"x\", label = \"Training loss\")\n",
        "plt.plot(epochs, val_loss, \"b\", label = \"Validation loss\")\n",
        "plt.xlabel(\"Epochs\")\n",
        "plt.ylabel(\"Loss\")\n",
        "plt.legend()"
      ],
      "metadata": {
        "colab": {
          "base_uri": "https://localhost:8080/",
          "height": 296
        },
        "id": "NIgQbu0rEVy8",
        "outputId": "66f50287-b5a9-4272-9256-a29ac230f226"
      },
      "execution_count": 113,
      "outputs": [
        {
          "output_type": "execute_result",
          "data": {
            "text/plain": [
              "<matplotlib.legend.Legend at 0x7f34ef84b2e0>"
            ]
          },
          "metadata": {},
          "execution_count": 113
        },
        {
          "output_type": "display_data",
          "data": {
            "text/plain": [
              "<Figure size 432x288 with 1 Axes>"
            ],
            "image/png": "[encoded data removed]"
          },
          "metadata": {
            "needs_background": "light"
          }
        }
      ]
    },
    {
      "cell_type": "code",
      "source": [
        "y_hat = dna_model.predict(X_test_pca)"
      ],
      "metadata": {
        "colab": {
          "base_uri": "https://localhost:8080/"
        },
        "id": "U9F41BDoEN_D",
        "outputId": "940dbcdd-5f9a-497d-f2f4-9b8082bf79c5"
      },
      "execution_count": 114,
      "outputs": [
        {
          "output_type": "stream",
          "name": "stdout",
          "text": [
            "6/6 [==============================] - 0s 3ms/step\n"
          ]
        }
      ]
    },
    {
      "cell_type": "code",
      "source": [
        "index = np.argmax(y_hat, axis=1)\n",
        "dna_pred = pd.DataFrame()\n",
        "dna_pred = target_label.inverse_transform(index)"
      ],
      "metadata": {
        "id": "O1lIcQqlEOc9"
      },
      "execution_count": 115,
      "outputs": []
    },
    {
      "cell_type": "code",
      "source": [
        "test_id = test['id']\n",
        "submission = pd.DataFrame(test_id, columns=['id'], index=X_test.index)\n",
        "submission['class'] = dna_pred\n",
        "submission"
      ],
      "metadata": {
        "colab": {
          "base_uri": "https://localhost:8080/",
          "height": 423
        },
        "id": "IhaZ_K0zEUoX",
        "outputId": "b6abb66b-ec70-4e96-ada9-b9c3272e6bc3"
      },
      "execution_count": 116,
      "outputs": [
        {
          "output_type": "execute_result",
          "data": {
            "text/plain": [
              "           id class\n",
              "0    TEST_000     A\n",
              "1    TEST_001     B\n",
              "2    TEST_002     C\n",
              "3    TEST_003     B\n",
              "4    TEST_004     A\n",
              "..        ...   ...\n",
              "170  TEST_170     B\n",
              "171  TEST_171     C\n",
              "172  TEST_172     C\n",
              "173  TEST_173     B\n",
              "174  TEST_174     B\n",
              "\n",
              "[175 rows x 2 columns]"
            ],
            "text/html": [
              "\n",
              "  <div id=\"df-e1c031ad-3d8d-4a26-88a5-1d0babbb9881\">\n",
              "    <div class=\"colab-df-container\">\n",
              "      <div>\n",
              "<style scoped>\n",
              "    .dataframe tbody tr th:only-of-type {\n",
              "        vertical-align: middle;\n",
              "    }\n",
              "\n",
              "    .dataframe tbody tr th {\n",
              "        vertical-align: top;\n",
              "    }\n",
              "\n",
              "    .dataframe thead th {\n",
              "        text-align: right;\n",
              "    }\n",
              "</style>\n",
              "<table border=\"1\" class=\"dataframe\">\n",
              "  <thead>\n",
              "    <tr style=\"text-align: right;\">\n",
              "      <th></th>\n",
              "      <th>id</th>\n",
              "      <th>class</th>\n",
              "    </tr>\n",
              "  </thead>\n",
              "  <tbody>\n",
              "    <tr>\n",
              "      <th>0</th>\n",
              "      <td>TEST_000</td>\n",
              "      <td>A</td>\n",
              "    </tr>\n",
              "    <tr>\n",
              "      <th>1</th>\n",
              "      <td>TEST_001</td>\n",
              "      <td>B</td>\n",
              "    </tr>\n",
              "    <tr>\n",
              "      <th>2</th>\n",
              "      <td>TEST_002</td>\n",
              "      <td>C</td>\n",
              "    </tr>\n",
              "    <tr>\n",
              "      <th>3</th>\n",
              "      <td>TEST_003</td>\n",
              "      <td>B</td>\n",
              "    </tr>\n",
              "    <tr>\n",
              "      <th>4</th>\n",
              "      <td>TEST_004</td>\n",
              "      <td>A</td>\n",
              "    </tr>\n",
              "    <tr>\n",
              "      <th>...</th>\n",
              "      <td>...</td>\n",
              "      <td>...</td>\n",
              "    </tr>\n",
              "    <tr>\n",
              "      <th>170</th>\n",
              "      <td>TEST_170</td>\n",
              "      <td>B</td>\n",
              "    </tr>\n",
              "    <tr>\n",
              "      <th>171</th>\n",
              "      <td>TEST_171</td>\n",
              "      <td>C</td>\n",
              "    </tr>\n",
              "    <tr>\n",
              "      <th>172</th>\n",
              "      <td>TEST_172</td>\n",
              "      <td>C</td>\n",
              "    </tr>\n",
              "    <tr>\n",
              "      <th>173</th>\n",
              "      <td>TEST_173</td>\n",
              "      <td>B</td>\n",
              "    </tr>\n",
              "    <tr>\n",
              "      <th>174</th>\n",
              "      <td>TEST_174</td>\n",
              "      <td>B</td>\n",
              "    </tr>\n",
              "  </tbody>\n",
              "</table>\n",
              "<p>175 rows × 2 columns</p>\n",
              "</div>\n",
              "      <button class=\"colab-df-convert\" onclick=\"convertToInteractive('df-e1c031ad-3d8d-4a26-88a5-1d0babbb9881')\"\n",
              "              title=\"Convert this dataframe to an interactive table.\"\n",
              "              style=\"display:none;\">\n",
              "        \n",
              "  <svg xmlns=\"http://www.w3.org/2000/svg\" height=\"24px\"viewBox=\"0 0 24 24\"\n",
              "       width=\"24px\">\n",
              "    <path d=\"M0 0h24v24H0V0z\" fill=\"none\"/>\n",
              "    <path d=\"M18.56 5.44l.94 2.06.94-2.06 2.06-.94-2.06-.94-.94-2.06-.94 2.06-2.06.94zm-11 1L8.5 8.5l.94-2.06 2.06-.94-2.06-.94L8.5 2.5l-.94 2.06-2.06.94zm10 10l.94 2.06.94-2.06 2.06-.94-2.06-.94-.94-2.06-.94 2.06-2.06.94z\"/><path d=\"M17.41 7.96l-1.37-1.37c-.4-.4-.92-.59-1.43-.59-.52 0-1.04.2-1.43.59L10.3 9.45l-7.72 7.72c-.78.78-.78 2.05 0 2.83L4 21.41c.39.39.9.59 1.41.59.51 0 1.02-.2 1.41-.59l7.78-7.78 2.81-2.81c.8-.78.8-2.07 0-2.86zM5.41 20L4 18.59l7.72-7.72 1.47 1.35L5.41 20z\"/>\n",
              "  </svg>\n",
              "      </button>\n",
              "      \n",
              "  <style>\n",
              "    .colab-df-container {\n",
              "      display:flex;\n",
              "      flex-wrap:wrap;\n",
              "      gap: 12px;\n",
              "    }\n",
              "\n",
              "    .colab-df-convert {\n",
              "      background-color: #E8F0FE;\n",
              "      border: none;\n",
              "      border-radius: 50%;\n",
              "      cursor: pointer;\n",
              "      display: none;\n",
              "      fill: #1967D2;\n",
              "      height: 32px;\n",
              "      padding: 0 0 0 0;\n",
              "      width: 32px;\n",
              "    }\n",
              "\n",
              "    .colab-df-convert:hover {\n",
              "      background-color: #E2EBFA;\n",
              "      box-shadow: 0px 1px 2px rgba(60, 64, 67, 0.3), 0px 1px 3px 1px rgba(60, 64, 67, 0.15);\n",
              "      fill: #174EA6;\n",
              "    }\n",
              "\n",
              "    [theme=dark] .colab-df-convert {\n",
              "      background-color: #3B4455;\n",
              "      fill: #D2E3FC;\n",
              "    }\n",
              "\n",
              "    [theme=dark] .colab-df-convert:hover {\n",
              "      background-color: #434B5C;\n",
              "      box-shadow: 0px 1px 3px 1px rgba(0, 0, 0, 0.15);\n",
              "      filter: drop-shadow(0px 1px 2px rgba(0, 0, 0, 0.3));\n",
              "      fill: #FFFFFF;\n",
              "    }\n",
              "  </style>\n",
              "\n",
              "      <script>\n",
              "        const buttonEl =\n",
              "          document.querySelector('#df-e1c031ad-3d8d-4a26-88a5-1d0babbb9881 button.colab-df-convert');\n",
              "        buttonEl.style.display =\n",
              "          google.colab.kernel.accessAllowed ? 'block' : 'none';\n",
              "\n",
              "        async function convertToInteractive(key) {\n",
              "          const element = document.querySelector('#df-e1c031ad-3d8d-4a26-88a5-1d0babbb9881');\n",
              "          const dataTable =\n",
              "            await google.colab.kernel.invokeFunction('convertToInteractive',\n",
              "                                                     [key], {});\n",
              "          if (!dataTable) return;\n",
              "\n",
              "          const docLinkHtml = 'Like what you see? Visit the ' +\n",
              "            '<a target=\"_blank\" href=https://colab.research.google.com/notebooks/data_table.ipynb>data table notebook</a>'\n",
              "            + ' to learn more about interactive tables.';\n",
              "          element.innerHTML = '';\n",
              "          dataTable['output_type'] = 'display_data';\n",
              "          await google.colab.output.renderOutput(dataTable, element);\n",
              "          const docLink = document.createElement('div');\n",
              "          docLink.innerHTML = docLinkHtml;\n",
              "          element.appendChild(docLink);\n",
              "        }\n",
              "      </script>\n",
              "    </div>\n",
              "  </div>\n",
              "  "
            ]
          },
          "metadata": {},
          "execution_count": 116
        }
      ]
    },
    {
      "cell_type": "code",
      "source": [
        "path = '/content/drive/MyDrive/Colab Notebooks/[DACON]유전체정보_품좀_분류_AI_경진대회/submit'\n",
        "os.chdir(path)\n",
        "submission.to_csv(\"20230116_dropoutDL.csv\", index = False)"
      ],
      "metadata": {
        "id": "jJMH0UVrEjHi"
      },
      "execution_count": 117,
      "outputs": []
    },
    {
      "cell_type": "code",
      "source": [],
      "metadata": {
        "id": "1qpXFPeiEqbz"
      },
      "execution_count": null,
      "outputs": []
    }
  ]
}